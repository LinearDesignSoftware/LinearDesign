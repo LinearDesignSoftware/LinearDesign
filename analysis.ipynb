{
 "cells": [
  {
   "cell_type": "code",
   "execution_count": 1,
   "metadata": {},
   "outputs": [],
   "source": [
    "import pandas as pd\n",
    "import numpy as np\n",
    "from ViennaRNA import RNA\n",
    "from cai import calc_cai\n",
    "from text_processing import input_preprocessing"
   ]
  },
  {
   "cell_type": "code",
   "execution_count": 2,
   "metadata": {},
   "outputs": [],
   "source": [
    "DESIGN_PATH = \"./designs/proteins/nuclease_wildtype.fasta+design.csv\"\n",
    "BASELINE_PATH = \"./designs/proteins/nuclease_wildtype_RNA.fasta\""
   ]
  },
  {
   "cell_type": "code",
   "execution_count": 3,
   "metadata": {},
   "outputs": [],
   "source": [
    "def text_preprocessing(text: str):\n",
    "    text = text.strip()\n",
    "    text = text.replace(\">\", \"\")\n",
    "    return text\n",
    "\n",
    "preprocessed_input_path = input_preprocessing(BASELINE_PATH)\n",
    "\n",
    "with open(preprocessed_input_path, \"r\") as f:\n",
    "    baselines = f.readlines()\n",
    "    baselines = list(map(lambda x: text_preprocessing(x), baselines))\n",
    "\n",
    "baselines = pd.DataFrame(np.array(baselines).reshape(-1, 2), columns=[\"Name\", \"mRNA sequence\"])"
   ]
  },
  {
   "cell_type": "code",
   "execution_count": 4,
   "metadata": {},
   "outputs": [],
   "source": [
    "def get_mfe(rna_sequence):\n",
    "    ss, mfe = RNA.fold(rna_sequence)\n",
    "\n",
    "    return ss, mfe\n",
    "\n",
    "\n",
    "baselines[\"mRNA structure\"], baselines[\"MFE (kcal/mol)\"] = zip(*baselines[\"mRNA sequence\"].map(get_mfe))\n"
   ]
  },
  {
   "cell_type": "code",
   "execution_count": 5,
   "metadata": {},
   "outputs": [
    {
     "name": "stdout",
     "output_type": "stream",
     "text": [
      "ERROR: Invalid codon in transcript\n"
     ]
    },
    {
     "ename": "UnboundLocalError",
     "evalue": "local variable 'answer' referenced before assignment",
     "output_type": "error",
     "traceback": [
      "\u001b[0;31m---------------------------------------------------------------------------\u001b[0m",
      "\u001b[0;31mUnboundLocalError\u001b[0m                         Traceback (most recent call last)",
      "Cell \u001b[0;32mIn[5], line 1\u001b[0m\n\u001b[0;32m----> 1\u001b[0m baselines[\u001b[39m\"\u001b[39m\u001b[39mCAI\u001b[39m\u001b[39m\"\u001b[39m] \u001b[39m=\u001b[39m baselines[\u001b[39m\"\u001b[39;49m\u001b[39mmRNA sequence\u001b[39;49m\u001b[39m\"\u001b[39;49m]\u001b[39m.\u001b[39;49mapply(\u001b[39mlambda\u001b[39;49;00m x: calc_cai(x))\n\u001b[1;32m      2\u001b[0m baselines[\u001b[39m\"\u001b[39m\u001b[39mlambda\u001b[39m\u001b[39m\"\u001b[39m] \u001b[39m=\u001b[39m np\u001b[39m.\u001b[39mnan\n\u001b[1;32m      3\u001b[0m baselines[\u001b[39m\"\u001b[39m\u001b[39mwildtype\u001b[39m\u001b[39m\"\u001b[39m] \u001b[39m=\u001b[39m \u001b[39mTrue\u001b[39;00m\n",
      "File \u001b[0;32m~/Documents/code_repo/LinearDesign/.conda3.9/lib/python3.9/site-packages/pandas/core/series.py:4626\u001b[0m, in \u001b[0;36mSeries.apply\u001b[0;34m(self, func, convert_dtype, args, **kwargs)\u001b[0m\n\u001b[1;32m   4516\u001b[0m \u001b[39mdef\u001b[39;00m \u001b[39mapply\u001b[39m(\n\u001b[1;32m   4517\u001b[0m     \u001b[39mself\u001b[39m,\n\u001b[1;32m   4518\u001b[0m     func: AggFuncType,\n\u001b[0;32m   (...)\u001b[0m\n\u001b[1;32m   4521\u001b[0m     \u001b[39m*\u001b[39m\u001b[39m*\u001b[39mkwargs,\n\u001b[1;32m   4522\u001b[0m ) \u001b[39m-\u001b[39m\u001b[39m>\u001b[39m DataFrame \u001b[39m|\u001b[39m Series:\n\u001b[1;32m   4523\u001b[0m \u001b[39m    \u001b[39m\u001b[39m\"\"\"\u001b[39;00m\n\u001b[1;32m   4524\u001b[0m \u001b[39m    Invoke function on values of Series.\u001b[39;00m\n\u001b[1;32m   4525\u001b[0m \n\u001b[0;32m   (...)\u001b[0m\n\u001b[1;32m   4624\u001b[0m \u001b[39m    dtype: float64\u001b[39;00m\n\u001b[1;32m   4625\u001b[0m \u001b[39m    \"\"\"\u001b[39;00m\n\u001b[0;32m-> 4626\u001b[0m     \u001b[39mreturn\u001b[39;00m SeriesApply(\u001b[39mself\u001b[39;49m, func, convert_dtype, args, kwargs)\u001b[39m.\u001b[39;49mapply()\n",
      "File \u001b[0;32m~/Documents/code_repo/LinearDesign/.conda3.9/lib/python3.9/site-packages/pandas/core/apply.py:1025\u001b[0m, in \u001b[0;36mSeriesApply.apply\u001b[0;34m(self)\u001b[0m\n\u001b[1;32m   1022\u001b[0m     \u001b[39mreturn\u001b[39;00m \u001b[39mself\u001b[39m\u001b[39m.\u001b[39mapply_str()\n\u001b[1;32m   1024\u001b[0m \u001b[39m# self.f is Callable\u001b[39;00m\n\u001b[0;32m-> 1025\u001b[0m \u001b[39mreturn\u001b[39;00m \u001b[39mself\u001b[39;49m\u001b[39m.\u001b[39;49mapply_standard()\n",
      "File \u001b[0;32m~/Documents/code_repo/LinearDesign/.conda3.9/lib/python3.9/site-packages/pandas/core/apply.py:1076\u001b[0m, in \u001b[0;36mSeriesApply.apply_standard\u001b[0;34m(self)\u001b[0m\n\u001b[1;32m   1074\u001b[0m     \u001b[39melse\u001b[39;00m:\n\u001b[1;32m   1075\u001b[0m         values \u001b[39m=\u001b[39m obj\u001b[39m.\u001b[39mastype(\u001b[39mobject\u001b[39m)\u001b[39m.\u001b[39m_values\n\u001b[0;32m-> 1076\u001b[0m         mapped \u001b[39m=\u001b[39m lib\u001b[39m.\u001b[39;49mmap_infer(\n\u001b[1;32m   1077\u001b[0m             values,\n\u001b[1;32m   1078\u001b[0m             f,\n\u001b[1;32m   1079\u001b[0m             convert\u001b[39m=\u001b[39;49m\u001b[39mself\u001b[39;49m\u001b[39m.\u001b[39;49mconvert_dtype,\n\u001b[1;32m   1080\u001b[0m         )\n\u001b[1;32m   1082\u001b[0m \u001b[39mif\u001b[39;00m \u001b[39mlen\u001b[39m(mapped) \u001b[39mand\u001b[39;00m \u001b[39misinstance\u001b[39m(mapped[\u001b[39m0\u001b[39m], ABCSeries):\n\u001b[1;32m   1083\u001b[0m     \u001b[39m# GH#43986 Need to do list(mapped) in order to get treated as nested\u001b[39;00m\n\u001b[1;32m   1084\u001b[0m     \u001b[39m#  See also GH#25959 regarding EA support\u001b[39;00m\n\u001b[1;32m   1085\u001b[0m     \u001b[39mreturn\u001b[39;00m obj\u001b[39m.\u001b[39m_constructor_expanddim(\u001b[39mlist\u001b[39m(mapped), index\u001b[39m=\u001b[39mobj\u001b[39m.\u001b[39mindex)\n",
      "File \u001b[0;32m~/Documents/code_repo/LinearDesign/.conda3.9/lib/python3.9/site-packages/pandas/_libs/lib.pyx:2834\u001b[0m, in \u001b[0;36mpandas._libs.lib.map_infer\u001b[0;34m()\u001b[0m\n",
      "Cell \u001b[0;32mIn[5], line 1\u001b[0m, in \u001b[0;36m<lambda>\u001b[0;34m(x)\u001b[0m\n\u001b[0;32m----> 1\u001b[0m baselines[\u001b[39m\"\u001b[39m\u001b[39mCAI\u001b[39m\u001b[39m\"\u001b[39m] \u001b[39m=\u001b[39m baselines[\u001b[39m\"\u001b[39m\u001b[39mmRNA sequence\u001b[39m\u001b[39m\"\u001b[39m]\u001b[39m.\u001b[39mapply(\u001b[39mlambda\u001b[39;00m x: calc_cai(x))\n\u001b[1;32m      2\u001b[0m baselines[\u001b[39m\"\u001b[39m\u001b[39mlambda\u001b[39m\u001b[39m\"\u001b[39m] \u001b[39m=\u001b[39m np\u001b[39m.\u001b[39mnan\n\u001b[1;32m      3\u001b[0m baselines[\u001b[39m\"\u001b[39m\u001b[39mwildtype\u001b[39m\u001b[39m\"\u001b[39m] \u001b[39m=\u001b[39m \u001b[39mTrue\u001b[39;00m\n",
      "File \u001b[0;32m~/Documents/code_repo/LinearDesign/cai.py:19\u001b[0m, in \u001b[0;36mcalc_cai\u001b[0;34m(transcript)\u001b[0m\n\u001b[1;32m     17\u001b[0m \u001b[39mexcept\u001b[39;00m \u001b[39mKeyError\u001b[39;00m:\n\u001b[1;32m     18\u001b[0m     \u001b[39mprint\u001b[39m(\u001b[39m\"\u001b[39m\u001b[39mERROR: Invalid codon in transcript\u001b[39m\u001b[39m\"\u001b[39m)\n\u001b[0;32m---> 19\u001b[0m \u001b[39mreturn\u001b[39;00m answer\n",
      "\u001b[0;31mUnboundLocalError\u001b[0m: local variable 'answer' referenced before assignment"
     ]
    }
   ],
   "source": [
    "baselines[\"CAI\"] = baselines[\"mRNA sequence\"].apply(lambda x: calc_cai(x))\n",
    "baselines[\"lambda\"] = np.nan\n",
    "baselines[\"wildtype\"] = True"
   ]
  },
  {
   "cell_type": "code",
   "execution_count": null,
   "metadata": {},
   "outputs": [
    {
     "data": {
      "text/html": [
       "<div>\n",
       "<style scoped>\n",
       "    .dataframe tbody tr th:only-of-type {\n",
       "        vertical-align: middle;\n",
       "    }\n",
       "\n",
       "    .dataframe tbody tr th {\n",
       "        vertical-align: top;\n",
       "    }\n",
       "\n",
       "    .dataframe thead th {\n",
       "        text-align: right;\n",
       "    }\n",
       "</style>\n",
       "<table border=\"1\" class=\"dataframe\">\n",
       "  <thead>\n",
       "    <tr style=\"text-align: right;\">\n",
       "      <th></th>\n",
       "      <th>Name</th>\n",
       "      <th>mRNA sequence</th>\n",
       "      <th>mRNA structure</th>\n",
       "      <th>MFE (kcal/mol)</th>\n",
       "      <th>CAI</th>\n",
       "      <th>lambda</th>\n",
       "      <th>wildtype</th>\n",
       "    </tr>\n",
       "  </thead>\n",
       "  <tbody>\n",
       "    <tr>\n",
       "      <th>0</th>\n",
       "      <td>WT SpCas9:chromosome:ASM1354v1:Chromosome:8757...</td>\n",
       "      <td>AUGGAUAAGAAAUACUCAAUAGGCUUAGAUAUCGGCACAAAUAGCG...</td>\n",
       "      <td>(((((((((....(((.((((((((.......(((((((.((((((...</td>\n",
       "      <td>-979.500000</td>\n",
       "      <td>0.640780</td>\n",
       "      <td>NaN</td>\n",
       "      <td>True</td>\n",
       "    </tr>\n",
       "    <tr>\n",
       "      <th>1</th>\n",
       "      <td>#52962:hSpCas9-nucleoplasminNLS-FLAG-P2A-BSD</td>\n",
       "      <td>auggacaagaaguacagcaucggccuggacaucggcaccaacucug...</td>\n",
       "      <td>((((...((((((((....((((((((..(..((((.(((.(((.....</td>\n",
       "      <td>-1580.400024</td>\n",
       "      <td>0.931062</td>\n",
       "      <td>NaN</td>\n",
       "      <td>True</td>\n",
       "    </tr>\n",
       "    <tr>\n",
       "      <th>2</th>\n",
       "      <td>ISDra2-TnpB</td>\n",
       "      <td>augauaaggaauaaggcuuucguggucaggcuguacccaaaugcgg...</td>\n",
       "      <td>......(((.....(((((((((((((((((..((((((..(((((...</td>\n",
       "      <td>-449.299988</td>\n",
       "      <td>0.741189</td>\n",
       "      <td>NaN</td>\n",
       "      <td>True</td>\n",
       "    </tr>\n",
       "    <tr>\n",
       "      <th>3</th>\n",
       "      <td>OgeuIscB (H, Nishmasu):7xht</td>\n",
       "      <td>AUGAUGGCCGUGGUCUACGUGAUCUCUAAGUCCGGCAAACCACUGA...</td>\n",
       "      <td>..((((.(((((((((.((...(((((..((((((...(((((.((...</td>\n",
       "      <td>-544.099976</td>\n",
       "      <td>0.924591</td>\n",
       "      <td>NaN</td>\n",
       "      <td>True</td>\n",
       "    </tr>\n",
       "  </tbody>\n",
       "</table>\n",
       "</div>"
      ],
      "text/plain": [
       "                                                Name   \n",
       "0  WT SpCas9:chromosome:ASM1354v1:Chromosome:8757...  \\\n",
       "1       #52962:hSpCas9-nucleoplasminNLS-FLAG-P2A-BSD   \n",
       "2                                        ISDra2-TnpB   \n",
       "3                        OgeuIscB (H, Nishmasu):7xht   \n",
       "\n",
       "                                       mRNA sequence   \n",
       "0  AUGGAUAAGAAAUACUCAAUAGGCUUAGAUAUCGGCACAAAUAGCG...  \\\n",
       "1  auggacaagaaguacagcaucggccuggacaucggcaccaacucug...   \n",
       "2  augauaaggaauaaggcuuucguggucaggcuguacccaaaugcgg...   \n",
       "3  AUGAUGGCCGUGGUCUACGUGAUCUCUAAGUCCGGCAAACCACUGA...   \n",
       "\n",
       "                                      mRNA structure  MFE (kcal/mol)   \n",
       "0  (((((((((....(((.((((((((.......(((((((.((((((...     -979.500000  \\\n",
       "1  ((((...((((((((....((((((((..(..((((.(((.(((.....    -1580.400024   \n",
       "2  ......(((.....(((((((((((((((((..((((((..(((((...     -449.299988   \n",
       "3  ..((((.(((((((((.((...(((((..((((((...(((((.((...     -544.099976   \n",
       "\n",
       "        CAI  lambda  wildtype  \n",
       "0  0.640780     NaN      True  \n",
       "1  0.931062     NaN      True  \n",
       "2  0.741189     NaN      True  \n",
       "3  0.924591     NaN      True  "
      ]
     },
     "execution_count": 6,
     "metadata": {},
     "output_type": "execute_result"
    }
   ],
   "source": [
    "baselines"
   ]
  },
  {
   "cell_type": "code",
   "execution_count": null,
   "metadata": {},
   "outputs": [
    {
     "data": {
      "text/html": [
       "<div>\n",
       "<style scoped>\n",
       "    .dataframe tbody tr th:only-of-type {\n",
       "        vertical-align: middle;\n",
       "    }\n",
       "\n",
       "    .dataframe tbody tr th {\n",
       "        vertical-align: top;\n",
       "    }\n",
       "\n",
       "    .dataframe thead th {\n",
       "        text-align: right;\n",
       "    }\n",
       "</style>\n",
       "<table border=\"1\" class=\"dataframe\">\n",
       "  <thead>\n",
       "    <tr style=\"text-align: right;\">\n",
       "      <th></th>\n",
       "      <th>Name</th>\n",
       "      <th>mRNA sequence</th>\n",
       "      <th>mRNA structure</th>\n",
       "      <th>MFE (kcal/mol)</th>\n",
       "      <th>CAI</th>\n",
       "      <th>lambda</th>\n",
       "      <th>wildtype</th>\n",
       "    </tr>\n",
       "  </thead>\n",
       "  <tbody>\n",
       "    <tr>\n",
       "      <th>0</th>\n",
       "      <td>#52962:hSpCas9-nucleoplasminNLS-FLAG-P2A-BSD</td>\n",
       "      <td>AUGGACAAGAAGUACUCCAUCGGCCUUGACAUUGGCACUAAUUCCG...</td>\n",
       "      <td>...............((((((((((((((((.((((..((((((((...</td>\n",
       "      <td>-2901.8</td>\n",
       "      <td>0.759</td>\n",
       "      <td>0</td>\n",
       "      <td>False</td>\n",
       "    </tr>\n",
       "    <tr>\n",
       "      <th>1</th>\n",
       "      <td>ISDra2-TnpB</td>\n",
       "      <td>AUGAUACGCAACAAGGCGUUCGUGGUUCGGCUGUAUCCGAACGCAG...</td>\n",
       "      <td>....((((((((((((.(((((((((((.......(((((((((((...</td>\n",
       "      <td>-827.3</td>\n",
       "      <td>0.756</td>\n",
       "      <td>0</td>\n",
       "      <td>False</td>\n",
       "    </tr>\n",
       "    <tr>\n",
       "      <th>2</th>\n",
       "      <td>OgeuIscB (H, Nishmasu):7xht</td>\n",
       "      <td>AUGAUGGCCGUCGUUUAUGUGAUCAGCAAGAGUGGUAAGCCGCUUA...</td>\n",
       "      <td>.....((((((((((..((((.(((((..(((((((((((.(((((...</td>\n",
       "      <td>-984.7</td>\n",
       "      <td>0.761</td>\n",
       "      <td>0</td>\n",
       "      <td>False</td>\n",
       "    </tr>\n",
       "    <tr>\n",
       "      <th>3</th>\n",
       "      <td>WT SpCas9:chromosome:ASM1354v1:Chromosome:8757...</td>\n",
       "      <td>AUGGAUAAGAAGUACUCGAUAGGAUUGGACAUUGGCACCAAUUCUG...</td>\n",
       "      <td>.(((((((((.(((((((((((((((((...(((((.((..(((((...</td>\n",
       "      <td>-2516.9</td>\n",
       "      <td>0.751</td>\n",
       "      <td>0</td>\n",
       "      <td>False</td>\n",
       "    </tr>\n",
       "    <tr>\n",
       "      <th>4</th>\n",
       "      <td>FLAG-P2A-BSD</td>\n",
       "      <td>GACUACAAGGACGACGACGACAAGGGCUCAGGAGCCACGAACUUCU...</td>\n",
       "      <td>((((...(.(((((((((.(((((((((((((((((((((..((((...</td>\n",
       "      <td>-367.8</td>\n",
       "      <td>0.706</td>\n",
       "      <td>0</td>\n",
       "      <td>False</td>\n",
       "    </tr>\n",
       "    <tr>\n",
       "      <th>5</th>\n",
       "      <td>#52962:hSpCas9-nucleoplasminNLS-FLAG-P2A-BSD</td>\n",
       "      <td>AUGGACAAGAAGUACUCCAUCGGCCUUGACAUUGGCACUAAUUCCG...</td>\n",
       "      <td>...............((((((((((((((((.((((..((((((((...</td>\n",
       "      <td>-2836.1</td>\n",
       "      <td>0.833</td>\n",
       "      <td>1</td>\n",
       "      <td>False</td>\n",
       "    </tr>\n",
       "    <tr>\n",
       "      <th>6</th>\n",
       "      <td>ISDra2-TnpB</td>\n",
       "      <td>AUGAUUCGGAACAAGGCGUUCGUGGUGCGGCUGUACCCGAACGCCG...</td>\n",
       "      <td>....((((((....((((((((.(((((....)))))))))))))(...</td>\n",
       "      <td>-809.2</td>\n",
       "      <td>0.839</td>\n",
       "      <td>1</td>\n",
       "      <td>False</td>\n",
       "    </tr>\n",
       "    <tr>\n",
       "      <th>7</th>\n",
       "      <td>OgeuIscB (H, Nishmasu):7xht</td>\n",
       "      <td>AUGAUGGCCGUUGUUUACGUGAUUAGCAAGUCGGGGAAGCCACUGA...</td>\n",
       "      <td>..(((.((((((((((...(((((((((.(((((((((((((.......</td>\n",
       "      <td>-967.5</td>\n",
       "      <td>0.841</td>\n",
       "      <td>1</td>\n",
       "      <td>False</td>\n",
       "    </tr>\n",
       "    <tr>\n",
       "      <th>8</th>\n",
       "      <td>WT SpCas9:chromosome:ASM1354v1:Chromosome:8757...</td>\n",
       "      <td>AUGGACAAGAAGUACAGCAUUGGACUUGAUAUUGGGACCAACUCCG...</td>\n",
       "      <td>..((((..(((((.(((((((((((((((.(((((((.(((((((....</td>\n",
       "      <td>-2450.9</td>\n",
       "      <td>0.844</td>\n",
       "      <td>1</td>\n",
       "      <td>False</td>\n",
       "    </tr>\n",
       "    <tr>\n",
       "      <th>9</th>\n",
       "      <td>FLAG-P2A-BSD</td>\n",
       "      <td>GACUACAAGGACGACGACGACAAGGGCUCAGGAGCCACGAACUUCU...</td>\n",
       "      <td>.........(((((((((.(((((((((((((((((((((..((((...</td>\n",
       "      <td>-360.9</td>\n",
       "      <td>0.791</td>\n",
       "      <td>1</td>\n",
       "      <td>False</td>\n",
       "    </tr>\n",
       "    <tr>\n",
       "      <th>10</th>\n",
       "      <td>#52962:hSpCas9-nucleoplasminNLS-FLAG-P2A-BSD</td>\n",
       "      <td>AUGGACAAGAAGUACUCCAUCGGCCUGGACAUCGGCACCAACUCCG...</td>\n",
       "      <td>...........((((((.(((((..(((.((.((((.(((((((.....</td>\n",
       "      <td>-2422.2</td>\n",
       "      <td>0.948</td>\n",
       "      <td>4</td>\n",
       "      <td>False</td>\n",
       "    </tr>\n",
       "    <tr>\n",
       "      <th>11</th>\n",
       "      <td>ISDra2-TnpB</td>\n",
       "      <td>AUGAUCCGCAACAAGGCCUUCGUGGUGCGGCUGUACCCCAACGCUG...</td>\n",
       "      <td>.((.((((((....((((.((((((((((((((.........((((...</td>\n",
       "      <td>-699.8</td>\n",
       "      <td>0.951</td>\n",
       "      <td>4</td>\n",
       "      <td>False</td>\n",
       "    </tr>\n",
       "    <tr>\n",
       "      <th>12</th>\n",
       "      <td>OgeuIscB (H, Nishmasu):7xht</td>\n",
       "      <td>AUGAUGGCCGUGGUCUACGUCAUCAGCAAGUCCGGCAAGCCUCUGA...</td>\n",
       "      <td>.........(((((((...((((((((..(((((((.((..((.((...</td>\n",
       "      <td>-847.9</td>\n",
       "      <td>0.946</td>\n",
       "      <td>4</td>\n",
       "      <td>False</td>\n",
       "    </tr>\n",
       "    <tr>\n",
       "      <th>13</th>\n",
       "      <td>WT SpCas9:chromosome:ASM1354v1:Chromosome:8757...</td>\n",
       "      <td>AUGGACAAGAAGUACUCCAUCGGCCUGGACAUUGGCACCAACAGCG...</td>\n",
       "      <td>.((((...((((..((((.(((((((((((.(((((((((.(((((...</td>\n",
       "      <td>-2068.3</td>\n",
       "      <td>0.956</td>\n",
       "      <td>4</td>\n",
       "      <td>False</td>\n",
       "    </tr>\n",
       "    <tr>\n",
       "      <th>14</th>\n",
       "      <td>FLAG-P2A-BSD</td>\n",
       "      <td>GACUACAAGGACGACGACGACAAGGGGUCCGGGGCCACCAACUUCA...</td>\n",
       "      <td>........................((((((((((((.(((.(((((...</td>\n",
       "      <td>-300.5</td>\n",
       "      <td>0.931</td>\n",
       "      <td>4</td>\n",
       "      <td>False</td>\n",
       "    </tr>\n",
       "    <tr>\n",
       "      <th>15</th>\n",
       "      <td>#52962:hSpCas9-nucleoplasminNLS-FLAG-P2A-BSD</td>\n",
       "      <td>AUGGACAAGAAGUACUCCAUCGGCCUGGACAUCGGCACCAACAGCG...</td>\n",
       "      <td>...........((((((.(((((..(((.((.((((.(((...((....</td>\n",
       "      <td>-2020.2</td>\n",
       "      <td>0.992</td>\n",
       "      <td>10</td>\n",
       "      <td>False</td>\n",
       "    </tr>\n",
       "    <tr>\n",
       "      <th>16</th>\n",
       "      <td>ISDra2-TnpB</td>\n",
       "      <td>AUGAUCAGGAACAAGGCCUUCGUGGUGCGGCUGUACCCCAACGCCG...</td>\n",
       "      <td>.(((((((......((...((.(((.(((((.((......))))))...</td>\n",
       "      <td>-616.7</td>\n",
       "      <td>0.984</td>\n",
       "      <td>10</td>\n",
       "      <td>False</td>\n",
       "    </tr>\n",
       "    <tr>\n",
       "      <th>17</th>\n",
       "      <td>OgeuIscB (H, Nishmasu):7xht</td>\n",
       "      <td>AUGAUGGCCGUGGUGUACGUGAUCAGCAAGUCCGGCAAGCCCCUGA...</td>\n",
       "      <td>.(((((.((.((((.....(.((((((..(((((((.......(((...</td>\n",
       "      <td>-710.9</td>\n",
       "      <td>0.991</td>\n",
       "      <td>10</td>\n",
       "      <td>False</td>\n",
       "    </tr>\n",
       "    <tr>\n",
       "      <th>18</th>\n",
       "      <td>WT SpCas9:chromosome:ASM1354v1:Chromosome:8757...</td>\n",
       "      <td>AUGGACAAGAAGUACAGCAUCGGGCUGGACAUCGGCACCAACUCUG...</td>\n",
       "      <td>((((((........(((....((((((((((..((......(((((...</td>\n",
       "      <td>-1788.0</td>\n",
       "      <td>0.989</td>\n",
       "      <td>10</td>\n",
       "      <td>False</td>\n",
       "    </tr>\n",
       "    <tr>\n",
       "      <th>19</th>\n",
       "      <td>FLAG-P2A-BSD</td>\n",
       "      <td>GACUACAAGGACGACGACGACAAGGGCAGCGGGGCCACCAACUUCA...</td>\n",
       "      <td>......................((((((((((((((((...........</td>\n",
       "      <td>-246.3</td>\n",
       "      <td>0.987</td>\n",
       "      <td>10</td>\n",
       "      <td>False</td>\n",
       "    </tr>\n",
       "    <tr>\n",
       "      <th>20</th>\n",
       "      <td>#52962:hSpCas9-nucleoplasminNLS-FLAG-P2A-BSD</td>\n",
       "      <td>AUGGACAAGAAGUACAGCAUCGGCCUGGACAUCGGCACCAACAGCG...</td>\n",
       "      <td>...............((((((.(((.((.(((((((..((.((((....</td>\n",
       "      <td>-1711.3</td>\n",
       "      <td>1.000</td>\n",
       "      <td>1000</td>\n",
       "      <td>False</td>\n",
       "    </tr>\n",
       "    <tr>\n",
       "      <th>21</th>\n",
       "      <td>ISDra2-TnpB</td>\n",
       "      <td>AUGAUCCGGAACAAGGCCUUCGUGGUGCGGCUGUACCCCAACGCCG...</td>\n",
       "      <td>..............(((((((((((..(.(((((((((...(((.(...</td>\n",
       "      <td>-489.7</td>\n",
       "      <td>1.000</td>\n",
       "      <td>1000</td>\n",
       "      <td>False</td>\n",
       "    </tr>\n",
       "    <tr>\n",
       "      <th>22</th>\n",
       "      <td>OgeuIscB (H, Nishmasu):7xht</td>\n",
       "      <td>AUGAUGGCCGUGGUGUACGUGAUCAGCAAGAGCGGCAAGCCCCUGA...</td>\n",
       "      <td>(((.(((((.((((((.((((.(((((..((..((.(((...((.....</td>\n",
       "      <td>-602.0</td>\n",
       "      <td>1.000</td>\n",
       "      <td>1000</td>\n",
       "      <td>False</td>\n",
       "    </tr>\n",
       "    <tr>\n",
       "      <th>23</th>\n",
       "      <td>WT SpCas9:chromosome:ASM1354v1:Chromosome:8757...</td>\n",
       "      <td>AUGGACAAGAAGUACAGCAUCGGCCUGGACAUCGGCACCAACAGCG...</td>\n",
       "      <td>...............(((.((((..(((.((.((((.(((...((....</td>\n",
       "      <td>-1464.3</td>\n",
       "      <td>1.000</td>\n",
       "      <td>1000</td>\n",
       "      <td>False</td>\n",
       "    </tr>\n",
       "    <tr>\n",
       "      <th>24</th>\n",
       "      <td>FLAG-P2A-BSD</td>\n",
       "      <td>GACUACAAGGACGACGACGACAAGGGCAGCGGCGCCACCAACUUCA...</td>\n",
       "      <td>...........((.((..(...(((((.(((..(((((...((..(...</td>\n",
       "      <td>-202.8</td>\n",
       "      <td>1.000</td>\n",
       "      <td>1000</td>\n",
       "      <td>False</td>\n",
       "    </tr>\n",
       "  </tbody>\n",
       "</table>\n",
       "</div>"
      ],
      "text/plain": [
       "                                                 Name   \n",
       "0        #52962:hSpCas9-nucleoplasminNLS-FLAG-P2A-BSD  \\\n",
       "1                                         ISDra2-TnpB   \n",
       "2                         OgeuIscB (H, Nishmasu):7xht   \n",
       "3   WT SpCas9:chromosome:ASM1354v1:Chromosome:8757...   \n",
       "4                                        FLAG-P2A-BSD   \n",
       "5        #52962:hSpCas9-nucleoplasminNLS-FLAG-P2A-BSD   \n",
       "6                                         ISDra2-TnpB   \n",
       "7                         OgeuIscB (H, Nishmasu):7xht   \n",
       "8   WT SpCas9:chromosome:ASM1354v1:Chromosome:8757...   \n",
       "9                                        FLAG-P2A-BSD   \n",
       "10       #52962:hSpCas9-nucleoplasminNLS-FLAG-P2A-BSD   \n",
       "11                                        ISDra2-TnpB   \n",
       "12                        OgeuIscB (H, Nishmasu):7xht   \n",
       "13  WT SpCas9:chromosome:ASM1354v1:Chromosome:8757...   \n",
       "14                                       FLAG-P2A-BSD   \n",
       "15       #52962:hSpCas9-nucleoplasminNLS-FLAG-P2A-BSD   \n",
       "16                                        ISDra2-TnpB   \n",
       "17                        OgeuIscB (H, Nishmasu):7xht   \n",
       "18  WT SpCas9:chromosome:ASM1354v1:Chromosome:8757...   \n",
       "19                                       FLAG-P2A-BSD   \n",
       "20       #52962:hSpCas9-nucleoplasminNLS-FLAG-P2A-BSD   \n",
       "21                                        ISDra2-TnpB   \n",
       "22                        OgeuIscB (H, Nishmasu):7xht   \n",
       "23  WT SpCas9:chromosome:ASM1354v1:Chromosome:8757...   \n",
       "24                                       FLAG-P2A-BSD   \n",
       "\n",
       "                                        mRNA sequence   \n",
       "0   AUGGACAAGAAGUACUCCAUCGGCCUUGACAUUGGCACUAAUUCCG...  \\\n",
       "1   AUGAUACGCAACAAGGCGUUCGUGGUUCGGCUGUAUCCGAACGCAG...   \n",
       "2   AUGAUGGCCGUCGUUUAUGUGAUCAGCAAGAGUGGUAAGCCGCUUA...   \n",
       "3   AUGGAUAAGAAGUACUCGAUAGGAUUGGACAUUGGCACCAAUUCUG...   \n",
       "4   GACUACAAGGACGACGACGACAAGGGCUCAGGAGCCACGAACUUCU...   \n",
       "5   AUGGACAAGAAGUACUCCAUCGGCCUUGACAUUGGCACUAAUUCCG...   \n",
       "6   AUGAUUCGGAACAAGGCGUUCGUGGUGCGGCUGUACCCGAACGCCG...   \n",
       "7   AUGAUGGCCGUUGUUUACGUGAUUAGCAAGUCGGGGAAGCCACUGA...   \n",
       "8   AUGGACAAGAAGUACAGCAUUGGACUUGAUAUUGGGACCAACUCCG...   \n",
       "9   GACUACAAGGACGACGACGACAAGGGCUCAGGAGCCACGAACUUCU...   \n",
       "10  AUGGACAAGAAGUACUCCAUCGGCCUGGACAUCGGCACCAACUCCG...   \n",
       "11  AUGAUCCGCAACAAGGCCUUCGUGGUGCGGCUGUACCCCAACGCUG...   \n",
       "12  AUGAUGGCCGUGGUCUACGUCAUCAGCAAGUCCGGCAAGCCUCUGA...   \n",
       "13  AUGGACAAGAAGUACUCCAUCGGCCUGGACAUUGGCACCAACAGCG...   \n",
       "14  GACUACAAGGACGACGACGACAAGGGGUCCGGGGCCACCAACUUCA...   \n",
       "15  AUGGACAAGAAGUACUCCAUCGGCCUGGACAUCGGCACCAACAGCG...   \n",
       "16  AUGAUCAGGAACAAGGCCUUCGUGGUGCGGCUGUACCCCAACGCCG...   \n",
       "17  AUGAUGGCCGUGGUGUACGUGAUCAGCAAGUCCGGCAAGCCCCUGA...   \n",
       "18  AUGGACAAGAAGUACAGCAUCGGGCUGGACAUCGGCACCAACUCUG...   \n",
       "19  GACUACAAGGACGACGACGACAAGGGCAGCGGGGCCACCAACUUCA...   \n",
       "20  AUGGACAAGAAGUACAGCAUCGGCCUGGACAUCGGCACCAACAGCG...   \n",
       "21  AUGAUCCGGAACAAGGCCUUCGUGGUGCGGCUGUACCCCAACGCCG...   \n",
       "22  AUGAUGGCCGUGGUGUACGUGAUCAGCAAGAGCGGCAAGCCCCUGA...   \n",
       "23  AUGGACAAGAAGUACAGCAUCGGCCUGGACAUCGGCACCAACAGCG...   \n",
       "24  GACUACAAGGACGACGACGACAAGGGCAGCGGCGCCACCAACUUCA...   \n",
       "\n",
       "                                       mRNA structure  MFE (kcal/mol)    CAI   \n",
       "0   ...............((((((((((((((((.((((..((((((((...         -2901.8  0.759  \\\n",
       "1   ....((((((((((((.(((((((((((.......(((((((((((...          -827.3  0.756   \n",
       "2   .....((((((((((..((((.(((((..(((((((((((.(((((...          -984.7  0.761   \n",
       "3   .(((((((((.(((((((((((((((((...(((((.((..(((((...         -2516.9  0.751   \n",
       "4   ((((...(.(((((((((.(((((((((((((((((((((..((((...          -367.8  0.706   \n",
       "5   ...............((((((((((((((((.((((..((((((((...         -2836.1  0.833   \n",
       "6   ....((((((....((((((((.(((((....)))))))))))))(...          -809.2  0.839   \n",
       "7   ..(((.((((((((((...(((((((((.(((((((((((((.......          -967.5  0.841   \n",
       "8   ..((((..(((((.(((((((((((((((.(((((((.(((((((....         -2450.9  0.844   \n",
       "9   .........(((((((((.(((((((((((((((((((((..((((...          -360.9  0.791   \n",
       "10  ...........((((((.(((((..(((.((.((((.(((((((.....         -2422.2  0.948   \n",
       "11  .((.((((((....((((.((((((((((((((.........((((...          -699.8  0.951   \n",
       "12  .........(((((((...((((((((..(((((((.((..((.((...          -847.9  0.946   \n",
       "13  .((((...((((..((((.(((((((((((.(((((((((.(((((...         -2068.3  0.956   \n",
       "14  ........................((((((((((((.(((.(((((...          -300.5  0.931   \n",
       "15  ...........((((((.(((((..(((.((.((((.(((...((....         -2020.2  0.992   \n",
       "16  .(((((((......((...((.(((.(((((.((......))))))...          -616.7  0.984   \n",
       "17  .(((((.((.((((.....(.((((((..(((((((.......(((...          -710.9  0.991   \n",
       "18  ((((((........(((....((((((((((..((......(((((...         -1788.0  0.989   \n",
       "19  ......................((((((((((((((((...........          -246.3  0.987   \n",
       "20  ...............((((((.(((.((.(((((((..((.((((....         -1711.3  1.000   \n",
       "21  ..............(((((((((((..(.(((((((((...(((.(...          -489.7  1.000   \n",
       "22  (((.(((((.((((((.((((.(((((..((..((.(((...((.....          -602.0  1.000   \n",
       "23  ...............(((.((((..(((.((.((((.(((...((....         -1464.3  1.000   \n",
       "24  ...........((.((..(...(((((.(((..(((((...((..(...          -202.8  1.000   \n",
       "\n",
       "    lambda  wildtype  \n",
       "0        0     False  \n",
       "1        0     False  \n",
       "2        0     False  \n",
       "3        0     False  \n",
       "4        0     False  \n",
       "5        1     False  \n",
       "6        1     False  \n",
       "7        1     False  \n",
       "8        1     False  \n",
       "9        1     False  \n",
       "10       4     False  \n",
       "11       4     False  \n",
       "12       4     False  \n",
       "13       4     False  \n",
       "14       4     False  \n",
       "15      10     False  \n",
       "16      10     False  \n",
       "17      10     False  \n",
       "18      10     False  \n",
       "19      10     False  \n",
       "20    1000     False  \n",
       "21    1000     False  \n",
       "22    1000     False  \n",
       "23    1000     False  \n",
       "24    1000     False  "
      ]
     },
     "execution_count": 7,
     "metadata": {},
     "output_type": "execute_result"
    }
   ],
   "source": [
    "designs = pd.read_csv(DESIGN_PATH)\n",
    "designs['wildtype'] = False\n",
    "designs"
   ]
  },
  {
   "cell_type": "code",
   "execution_count": null,
   "metadata": {},
   "outputs": [
    {
     "data": {
      "text/html": [
       "<div>\n",
       "<style scoped>\n",
       "    .dataframe tbody tr th:only-of-type {\n",
       "        vertical-align: middle;\n",
       "    }\n",
       "\n",
       "    .dataframe tbody tr th {\n",
       "        vertical-align: top;\n",
       "    }\n",
       "\n",
       "    .dataframe thead th {\n",
       "        text-align: right;\n",
       "    }\n",
       "</style>\n",
       "<table border=\"1\" class=\"dataframe\">\n",
       "  <thead>\n",
       "    <tr style=\"text-align: right;\">\n",
       "      <th></th>\n",
       "      <th>Name</th>\n",
       "      <th>mRNA sequence</th>\n",
       "      <th>mRNA structure</th>\n",
       "      <th>MFE (kcal/mol)</th>\n",
       "      <th>CAI</th>\n",
       "      <th>lambda</th>\n",
       "      <th>wildtype</th>\n",
       "    </tr>\n",
       "  </thead>\n",
       "  <tbody>\n",
       "    <tr>\n",
       "      <th>0</th>\n",
       "      <td>WT SpCas9:chromosome:ASM1354v1:Chromosome:8757...</td>\n",
       "      <td>AUGGAUAAGAAAUACUCAAUAGGCUUAGAUAUCGGCACAAAUAGCG...</td>\n",
       "      <td>(((((((((....(((.((((((((.......(((((((.((((((...</td>\n",
       "      <td>-979.500000</td>\n",
       "      <td>0.640780</td>\n",
       "      <td>NaN</td>\n",
       "      <td>True</td>\n",
       "    </tr>\n",
       "    <tr>\n",
       "      <th>1</th>\n",
       "      <td>#52962:hSpCas9-nucleoplasminNLS-FLAG-P2A-BSD</td>\n",
       "      <td>auggacaagaaguacagcaucggccuggacaucggcaccaacucug...</td>\n",
       "      <td>((((...((((((((....((((((((..(..((((.(((.(((.....</td>\n",
       "      <td>-1580.400024</td>\n",
       "      <td>0.931062</td>\n",
       "      <td>NaN</td>\n",
       "      <td>True</td>\n",
       "    </tr>\n",
       "    <tr>\n",
       "      <th>2</th>\n",
       "      <td>ISDra2-TnpB</td>\n",
       "      <td>augauaaggaauaaggcuuucguggucaggcuguacccaaaugcgg...</td>\n",
       "      <td>......(((.....(((((((((((((((((..((((((..(((((...</td>\n",
       "      <td>-449.299988</td>\n",
       "      <td>0.741189</td>\n",
       "      <td>NaN</td>\n",
       "      <td>True</td>\n",
       "    </tr>\n",
       "    <tr>\n",
       "      <th>3</th>\n",
       "      <td>OgeuIscB (H, Nishmasu):7xht</td>\n",
       "      <td>AUGAUGGCCGUGGUCUACGUGAUCUCUAAGUCCGGCAAACCACUGA...</td>\n",
       "      <td>..((((.(((((((((.((...(((((..((((((...(((((.((...</td>\n",
       "      <td>-544.099976</td>\n",
       "      <td>0.924591</td>\n",
       "      <td>NaN</td>\n",
       "      <td>True</td>\n",
       "    </tr>\n",
       "    <tr>\n",
       "      <th>4</th>\n",
       "      <td>#52962:hSpCas9-nucleoplasminNLS-FLAG-P2A-BSD</td>\n",
       "      <td>AUGGACAAGAAGUACUCCAUCGGCCUUGACAUUGGCACUAAUUCCG...</td>\n",
       "      <td>...............((((((((((((((((.((((..((((((((...</td>\n",
       "      <td>-2901.800000</td>\n",
       "      <td>0.759000</td>\n",
       "      <td>0.0</td>\n",
       "      <td>False</td>\n",
       "    </tr>\n",
       "    <tr>\n",
       "      <th>5</th>\n",
       "      <td>ISDra2-TnpB</td>\n",
       "      <td>AUGAUACGCAACAAGGCGUUCGUGGUUCGGCUGUAUCCGAACGCAG...</td>\n",
       "      <td>....((((((((((((.(((((((((((.......(((((((((((...</td>\n",
       "      <td>-827.300000</td>\n",
       "      <td>0.756000</td>\n",
       "      <td>0.0</td>\n",
       "      <td>False</td>\n",
       "    </tr>\n",
       "    <tr>\n",
       "      <th>6</th>\n",
       "      <td>OgeuIscB (H, Nishmasu):7xht</td>\n",
       "      <td>AUGAUGGCCGUCGUUUAUGUGAUCAGCAAGAGUGGUAAGCCGCUUA...</td>\n",
       "      <td>.....((((((((((..((((.(((((..(((((((((((.(((((...</td>\n",
       "      <td>-984.700000</td>\n",
       "      <td>0.761000</td>\n",
       "      <td>0.0</td>\n",
       "      <td>False</td>\n",
       "    </tr>\n",
       "    <tr>\n",
       "      <th>7</th>\n",
       "      <td>WT SpCas9:chromosome:ASM1354v1:Chromosome:8757...</td>\n",
       "      <td>AUGGAUAAGAAGUACUCGAUAGGAUUGGACAUUGGCACCAAUUCUG...</td>\n",
       "      <td>.(((((((((.(((((((((((((((((...(((((.((..(((((...</td>\n",
       "      <td>-2516.900000</td>\n",
       "      <td>0.751000</td>\n",
       "      <td>0.0</td>\n",
       "      <td>False</td>\n",
       "    </tr>\n",
       "    <tr>\n",
       "      <th>8</th>\n",
       "      <td>FLAG-P2A-BSD</td>\n",
       "      <td>GACUACAAGGACGACGACGACAAGGGCUCAGGAGCCACGAACUUCU...</td>\n",
       "      <td>((((...(.(((((((((.(((((((((((((((((((((..((((...</td>\n",
       "      <td>-367.800000</td>\n",
       "      <td>0.706000</td>\n",
       "      <td>0.0</td>\n",
       "      <td>False</td>\n",
       "    </tr>\n",
       "    <tr>\n",
       "      <th>9</th>\n",
       "      <td>#52962:hSpCas9-nucleoplasminNLS-FLAG-P2A-BSD</td>\n",
       "      <td>AUGGACAAGAAGUACUCCAUCGGCCUUGACAUUGGCACUAAUUCCG...</td>\n",
       "      <td>...............((((((((((((((((.((((..((((((((...</td>\n",
       "      <td>-2836.100000</td>\n",
       "      <td>0.833000</td>\n",
       "      <td>1.0</td>\n",
       "      <td>False</td>\n",
       "    </tr>\n",
       "    <tr>\n",
       "      <th>10</th>\n",
       "      <td>ISDra2-TnpB</td>\n",
       "      <td>AUGAUUCGGAACAAGGCGUUCGUGGUGCGGCUGUACCCGAACGCCG...</td>\n",
       "      <td>....((((((....((((((((.(((((....)))))))))))))(...</td>\n",
       "      <td>-809.200000</td>\n",
       "      <td>0.839000</td>\n",
       "      <td>1.0</td>\n",
       "      <td>False</td>\n",
       "    </tr>\n",
       "    <tr>\n",
       "      <th>11</th>\n",
       "      <td>OgeuIscB (H, Nishmasu):7xht</td>\n",
       "      <td>AUGAUGGCCGUUGUUUACGUGAUUAGCAAGUCGGGGAAGCCACUGA...</td>\n",
       "      <td>..(((.((((((((((...(((((((((.(((((((((((((.......</td>\n",
       "      <td>-967.500000</td>\n",
       "      <td>0.841000</td>\n",
       "      <td>1.0</td>\n",
       "      <td>False</td>\n",
       "    </tr>\n",
       "    <tr>\n",
       "      <th>12</th>\n",
       "      <td>WT SpCas9:chromosome:ASM1354v1:Chromosome:8757...</td>\n",
       "      <td>AUGGACAAGAAGUACAGCAUUGGACUUGAUAUUGGGACCAACUCCG...</td>\n",
       "      <td>..((((..(((((.(((((((((((((((.(((((((.(((((((....</td>\n",
       "      <td>-2450.900000</td>\n",
       "      <td>0.844000</td>\n",
       "      <td>1.0</td>\n",
       "      <td>False</td>\n",
       "    </tr>\n",
       "    <tr>\n",
       "      <th>13</th>\n",
       "      <td>FLAG-P2A-BSD</td>\n",
       "      <td>GACUACAAGGACGACGACGACAAGGGCUCAGGAGCCACGAACUUCU...</td>\n",
       "      <td>.........(((((((((.(((((((((((((((((((((..((((...</td>\n",
       "      <td>-360.900000</td>\n",
       "      <td>0.791000</td>\n",
       "      <td>1.0</td>\n",
       "      <td>False</td>\n",
       "    </tr>\n",
       "    <tr>\n",
       "      <th>14</th>\n",
       "      <td>#52962:hSpCas9-nucleoplasminNLS-FLAG-P2A-BSD</td>\n",
       "      <td>AUGGACAAGAAGUACUCCAUCGGCCUGGACAUCGGCACCAACUCCG...</td>\n",
       "      <td>...........((((((.(((((..(((.((.((((.(((((((.....</td>\n",
       "      <td>-2422.200000</td>\n",
       "      <td>0.948000</td>\n",
       "      <td>4.0</td>\n",
       "      <td>False</td>\n",
       "    </tr>\n",
       "    <tr>\n",
       "      <th>15</th>\n",
       "      <td>ISDra2-TnpB</td>\n",
       "      <td>AUGAUCCGCAACAAGGCCUUCGUGGUGCGGCUGUACCCCAACGCUG...</td>\n",
       "      <td>.((.((((((....((((.((((((((((((((.........((((...</td>\n",
       "      <td>-699.800000</td>\n",
       "      <td>0.951000</td>\n",
       "      <td>4.0</td>\n",
       "      <td>False</td>\n",
       "    </tr>\n",
       "    <tr>\n",
       "      <th>16</th>\n",
       "      <td>OgeuIscB (H, Nishmasu):7xht</td>\n",
       "      <td>AUGAUGGCCGUGGUCUACGUCAUCAGCAAGUCCGGCAAGCCUCUGA...</td>\n",
       "      <td>.........(((((((...((((((((..(((((((.((..((.((...</td>\n",
       "      <td>-847.900000</td>\n",
       "      <td>0.946000</td>\n",
       "      <td>4.0</td>\n",
       "      <td>False</td>\n",
       "    </tr>\n",
       "    <tr>\n",
       "      <th>17</th>\n",
       "      <td>WT SpCas9:chromosome:ASM1354v1:Chromosome:8757...</td>\n",
       "      <td>AUGGACAAGAAGUACUCCAUCGGCCUGGACAUUGGCACCAACAGCG...</td>\n",
       "      <td>.((((...((((..((((.(((((((((((.(((((((((.(((((...</td>\n",
       "      <td>-2068.300000</td>\n",
       "      <td>0.956000</td>\n",
       "      <td>4.0</td>\n",
       "      <td>False</td>\n",
       "    </tr>\n",
       "    <tr>\n",
       "      <th>18</th>\n",
       "      <td>FLAG-P2A-BSD</td>\n",
       "      <td>GACUACAAGGACGACGACGACAAGGGGUCCGGGGCCACCAACUUCA...</td>\n",
       "      <td>........................((((((((((((.(((.(((((...</td>\n",
       "      <td>-300.500000</td>\n",
       "      <td>0.931000</td>\n",
       "      <td>4.0</td>\n",
       "      <td>False</td>\n",
       "    </tr>\n",
       "    <tr>\n",
       "      <th>19</th>\n",
       "      <td>#52962:hSpCas9-nucleoplasminNLS-FLAG-P2A-BSD</td>\n",
       "      <td>AUGGACAAGAAGUACUCCAUCGGCCUGGACAUCGGCACCAACAGCG...</td>\n",
       "      <td>...........((((((.(((((..(((.((.((((.(((...((....</td>\n",
       "      <td>-2020.200000</td>\n",
       "      <td>0.992000</td>\n",
       "      <td>10.0</td>\n",
       "      <td>False</td>\n",
       "    </tr>\n",
       "    <tr>\n",
       "      <th>20</th>\n",
       "      <td>ISDra2-TnpB</td>\n",
       "      <td>AUGAUCAGGAACAAGGCCUUCGUGGUGCGGCUGUACCCCAACGCCG...</td>\n",
       "      <td>.(((((((......((...((.(((.(((((.((......))))))...</td>\n",
       "      <td>-616.700000</td>\n",
       "      <td>0.984000</td>\n",
       "      <td>10.0</td>\n",
       "      <td>False</td>\n",
       "    </tr>\n",
       "    <tr>\n",
       "      <th>21</th>\n",
       "      <td>OgeuIscB (H, Nishmasu):7xht</td>\n",
       "      <td>AUGAUGGCCGUGGUGUACGUGAUCAGCAAGUCCGGCAAGCCCCUGA...</td>\n",
       "      <td>.(((((.((.((((.....(.((((((..(((((((.......(((...</td>\n",
       "      <td>-710.900000</td>\n",
       "      <td>0.991000</td>\n",
       "      <td>10.0</td>\n",
       "      <td>False</td>\n",
       "    </tr>\n",
       "    <tr>\n",
       "      <th>22</th>\n",
       "      <td>WT SpCas9:chromosome:ASM1354v1:Chromosome:8757...</td>\n",
       "      <td>AUGGACAAGAAGUACAGCAUCGGGCUGGACAUCGGCACCAACUCUG...</td>\n",
       "      <td>((((((........(((....((((((((((..((......(((((...</td>\n",
       "      <td>-1788.000000</td>\n",
       "      <td>0.989000</td>\n",
       "      <td>10.0</td>\n",
       "      <td>False</td>\n",
       "    </tr>\n",
       "    <tr>\n",
       "      <th>23</th>\n",
       "      <td>FLAG-P2A-BSD</td>\n",
       "      <td>GACUACAAGGACGACGACGACAAGGGCAGCGGGGCCACCAACUUCA...</td>\n",
       "      <td>......................((((((((((((((((...........</td>\n",
       "      <td>-246.300000</td>\n",
       "      <td>0.987000</td>\n",
       "      <td>10.0</td>\n",
       "      <td>False</td>\n",
       "    </tr>\n",
       "    <tr>\n",
       "      <th>24</th>\n",
       "      <td>#52962:hSpCas9-nucleoplasminNLS-FLAG-P2A-BSD</td>\n",
       "      <td>AUGGACAAGAAGUACAGCAUCGGCCUGGACAUCGGCACCAACAGCG...</td>\n",
       "      <td>...............((((((.(((.((.(((((((..((.((((....</td>\n",
       "      <td>-1711.300000</td>\n",
       "      <td>1.000000</td>\n",
       "      <td>1000.0</td>\n",
       "      <td>False</td>\n",
       "    </tr>\n",
       "    <tr>\n",
       "      <th>25</th>\n",
       "      <td>ISDra2-TnpB</td>\n",
       "      <td>AUGAUCCGGAACAAGGCCUUCGUGGUGCGGCUGUACCCCAACGCCG...</td>\n",
       "      <td>..............(((((((((((..(.(((((((((...(((.(...</td>\n",
       "      <td>-489.700000</td>\n",
       "      <td>1.000000</td>\n",
       "      <td>1000.0</td>\n",
       "      <td>False</td>\n",
       "    </tr>\n",
       "    <tr>\n",
       "      <th>26</th>\n",
       "      <td>OgeuIscB (H, Nishmasu):7xht</td>\n",
       "      <td>AUGAUGGCCGUGGUGUACGUGAUCAGCAAGAGCGGCAAGCCCCUGA...</td>\n",
       "      <td>(((.(((((.((((((.((((.(((((..((..((.(((...((.....</td>\n",
       "      <td>-602.000000</td>\n",
       "      <td>1.000000</td>\n",
       "      <td>1000.0</td>\n",
       "      <td>False</td>\n",
       "    </tr>\n",
       "    <tr>\n",
       "      <th>27</th>\n",
       "      <td>WT SpCas9:chromosome:ASM1354v1:Chromosome:8757...</td>\n",
       "      <td>AUGGACAAGAAGUACAGCAUCGGCCUGGACAUCGGCACCAACAGCG...</td>\n",
       "      <td>...............(((.((((..(((.((.((((.(((...((....</td>\n",
       "      <td>-1464.300000</td>\n",
       "      <td>1.000000</td>\n",
       "      <td>1000.0</td>\n",
       "      <td>False</td>\n",
       "    </tr>\n",
       "    <tr>\n",
       "      <th>28</th>\n",
       "      <td>FLAG-P2A-BSD</td>\n",
       "      <td>GACUACAAGGACGACGACGACAAGGGCAGCGGCGCCACCAACUUCA...</td>\n",
       "      <td>...........((.((..(...(((((.(((..(((((...((..(...</td>\n",
       "      <td>-202.800000</td>\n",
       "      <td>1.000000</td>\n",
       "      <td>1000.0</td>\n",
       "      <td>False</td>\n",
       "    </tr>\n",
       "  </tbody>\n",
       "</table>\n",
       "</div>"
      ],
      "text/plain": [
       "                                                 Name   \n",
       "0   WT SpCas9:chromosome:ASM1354v1:Chromosome:8757...  \\\n",
       "1        #52962:hSpCas9-nucleoplasminNLS-FLAG-P2A-BSD   \n",
       "2                                         ISDra2-TnpB   \n",
       "3                         OgeuIscB (H, Nishmasu):7xht   \n",
       "4        #52962:hSpCas9-nucleoplasminNLS-FLAG-P2A-BSD   \n",
       "5                                         ISDra2-TnpB   \n",
       "6                         OgeuIscB (H, Nishmasu):7xht   \n",
       "7   WT SpCas9:chromosome:ASM1354v1:Chromosome:8757...   \n",
       "8                                        FLAG-P2A-BSD   \n",
       "9        #52962:hSpCas9-nucleoplasminNLS-FLAG-P2A-BSD   \n",
       "10                                        ISDra2-TnpB   \n",
       "11                        OgeuIscB (H, Nishmasu):7xht   \n",
       "12  WT SpCas9:chromosome:ASM1354v1:Chromosome:8757...   \n",
       "13                                       FLAG-P2A-BSD   \n",
       "14       #52962:hSpCas9-nucleoplasminNLS-FLAG-P2A-BSD   \n",
       "15                                        ISDra2-TnpB   \n",
       "16                        OgeuIscB (H, Nishmasu):7xht   \n",
       "17  WT SpCas9:chromosome:ASM1354v1:Chromosome:8757...   \n",
       "18                                       FLAG-P2A-BSD   \n",
       "19       #52962:hSpCas9-nucleoplasminNLS-FLAG-P2A-BSD   \n",
       "20                                        ISDra2-TnpB   \n",
       "21                        OgeuIscB (H, Nishmasu):7xht   \n",
       "22  WT SpCas9:chromosome:ASM1354v1:Chromosome:8757...   \n",
       "23                                       FLAG-P2A-BSD   \n",
       "24       #52962:hSpCas9-nucleoplasminNLS-FLAG-P2A-BSD   \n",
       "25                                        ISDra2-TnpB   \n",
       "26                        OgeuIscB (H, Nishmasu):7xht   \n",
       "27  WT SpCas9:chromosome:ASM1354v1:Chromosome:8757...   \n",
       "28                                       FLAG-P2A-BSD   \n",
       "\n",
       "                                        mRNA sequence   \n",
       "0   AUGGAUAAGAAAUACUCAAUAGGCUUAGAUAUCGGCACAAAUAGCG...  \\\n",
       "1   auggacaagaaguacagcaucggccuggacaucggcaccaacucug...   \n",
       "2   augauaaggaauaaggcuuucguggucaggcuguacccaaaugcgg...   \n",
       "3   AUGAUGGCCGUGGUCUACGUGAUCUCUAAGUCCGGCAAACCACUGA...   \n",
       "4   AUGGACAAGAAGUACUCCAUCGGCCUUGACAUUGGCACUAAUUCCG...   \n",
       "5   AUGAUACGCAACAAGGCGUUCGUGGUUCGGCUGUAUCCGAACGCAG...   \n",
       "6   AUGAUGGCCGUCGUUUAUGUGAUCAGCAAGAGUGGUAAGCCGCUUA...   \n",
       "7   AUGGAUAAGAAGUACUCGAUAGGAUUGGACAUUGGCACCAAUUCUG...   \n",
       "8   GACUACAAGGACGACGACGACAAGGGCUCAGGAGCCACGAACUUCU...   \n",
       "9   AUGGACAAGAAGUACUCCAUCGGCCUUGACAUUGGCACUAAUUCCG...   \n",
       "10  AUGAUUCGGAACAAGGCGUUCGUGGUGCGGCUGUACCCGAACGCCG...   \n",
       "11  AUGAUGGCCGUUGUUUACGUGAUUAGCAAGUCGGGGAAGCCACUGA...   \n",
       "12  AUGGACAAGAAGUACAGCAUUGGACUUGAUAUUGGGACCAACUCCG...   \n",
       "13  GACUACAAGGACGACGACGACAAGGGCUCAGGAGCCACGAACUUCU...   \n",
       "14  AUGGACAAGAAGUACUCCAUCGGCCUGGACAUCGGCACCAACUCCG...   \n",
       "15  AUGAUCCGCAACAAGGCCUUCGUGGUGCGGCUGUACCCCAACGCUG...   \n",
       "16  AUGAUGGCCGUGGUCUACGUCAUCAGCAAGUCCGGCAAGCCUCUGA...   \n",
       "17  AUGGACAAGAAGUACUCCAUCGGCCUGGACAUUGGCACCAACAGCG...   \n",
       "18  GACUACAAGGACGACGACGACAAGGGGUCCGGGGCCACCAACUUCA...   \n",
       "19  AUGGACAAGAAGUACUCCAUCGGCCUGGACAUCGGCACCAACAGCG...   \n",
       "20  AUGAUCAGGAACAAGGCCUUCGUGGUGCGGCUGUACCCCAACGCCG...   \n",
       "21  AUGAUGGCCGUGGUGUACGUGAUCAGCAAGUCCGGCAAGCCCCUGA...   \n",
       "22  AUGGACAAGAAGUACAGCAUCGGGCUGGACAUCGGCACCAACUCUG...   \n",
       "23  GACUACAAGGACGACGACGACAAGGGCAGCGGGGCCACCAACUUCA...   \n",
       "24  AUGGACAAGAAGUACAGCAUCGGCCUGGACAUCGGCACCAACAGCG...   \n",
       "25  AUGAUCCGGAACAAGGCCUUCGUGGUGCGGCUGUACCCCAACGCCG...   \n",
       "26  AUGAUGGCCGUGGUGUACGUGAUCAGCAAGAGCGGCAAGCCCCUGA...   \n",
       "27  AUGGACAAGAAGUACAGCAUCGGCCUGGACAUCGGCACCAACAGCG...   \n",
       "28  GACUACAAGGACGACGACGACAAGGGCAGCGGCGCCACCAACUUCA...   \n",
       "\n",
       "                                       mRNA structure  MFE (kcal/mol)   \n",
       "0   (((((((((....(((.((((((((.......(((((((.((((((...     -979.500000  \\\n",
       "1   ((((...((((((((....((((((((..(..((((.(((.(((.....    -1580.400024   \n",
       "2   ......(((.....(((((((((((((((((..((((((..(((((...     -449.299988   \n",
       "3   ..((((.(((((((((.((...(((((..((((((...(((((.((...     -544.099976   \n",
       "4   ...............((((((((((((((((.((((..((((((((...    -2901.800000   \n",
       "5   ....((((((((((((.(((((((((((.......(((((((((((...     -827.300000   \n",
       "6   .....((((((((((..((((.(((((..(((((((((((.(((((...     -984.700000   \n",
       "7   .(((((((((.(((((((((((((((((...(((((.((..(((((...    -2516.900000   \n",
       "8   ((((...(.(((((((((.(((((((((((((((((((((..((((...     -367.800000   \n",
       "9   ...............((((((((((((((((.((((..((((((((...    -2836.100000   \n",
       "10  ....((((((....((((((((.(((((....)))))))))))))(...     -809.200000   \n",
       "11  ..(((.((((((((((...(((((((((.(((((((((((((.......     -967.500000   \n",
       "12  ..((((..(((((.(((((((((((((((.(((((((.(((((((....    -2450.900000   \n",
       "13  .........(((((((((.(((((((((((((((((((((..((((...     -360.900000   \n",
       "14  ...........((((((.(((((..(((.((.((((.(((((((.....    -2422.200000   \n",
       "15  .((.((((((....((((.((((((((((((((.........((((...     -699.800000   \n",
       "16  .........(((((((...((((((((..(((((((.((..((.((...     -847.900000   \n",
       "17  .((((...((((..((((.(((((((((((.(((((((((.(((((...    -2068.300000   \n",
       "18  ........................((((((((((((.(((.(((((...     -300.500000   \n",
       "19  ...........((((((.(((((..(((.((.((((.(((...((....    -2020.200000   \n",
       "20  .(((((((......((...((.(((.(((((.((......))))))...     -616.700000   \n",
       "21  .(((((.((.((((.....(.((((((..(((((((.......(((...     -710.900000   \n",
       "22  ((((((........(((....((((((((((..((......(((((...    -1788.000000   \n",
       "23  ......................((((((((((((((((...........     -246.300000   \n",
       "24  ...............((((((.(((.((.(((((((..((.((((....    -1711.300000   \n",
       "25  ..............(((((((((((..(.(((((((((...(((.(...     -489.700000   \n",
       "26  (((.(((((.((((((.((((.(((((..((..((.(((...((.....     -602.000000   \n",
       "27  ...............(((.((((..(((.((.((((.(((...((....    -1464.300000   \n",
       "28  ...........((.((..(...(((((.(((..(((((...((..(...     -202.800000   \n",
       "\n",
       "         CAI  lambda  wildtype  \n",
       "0   0.640780     NaN      True  \n",
       "1   0.931062     NaN      True  \n",
       "2   0.741189     NaN      True  \n",
       "3   0.924591     NaN      True  \n",
       "4   0.759000     0.0     False  \n",
       "5   0.756000     0.0     False  \n",
       "6   0.761000     0.0     False  \n",
       "7   0.751000     0.0     False  \n",
       "8   0.706000     0.0     False  \n",
       "9   0.833000     1.0     False  \n",
       "10  0.839000     1.0     False  \n",
       "11  0.841000     1.0     False  \n",
       "12  0.844000     1.0     False  \n",
       "13  0.791000     1.0     False  \n",
       "14  0.948000     4.0     False  \n",
       "15  0.951000     4.0     False  \n",
       "16  0.946000     4.0     False  \n",
       "17  0.956000     4.0     False  \n",
       "18  0.931000     4.0     False  \n",
       "19  0.992000    10.0     False  \n",
       "20  0.984000    10.0     False  \n",
       "21  0.991000    10.0     False  \n",
       "22  0.989000    10.0     False  \n",
       "23  0.987000    10.0     False  \n",
       "24  1.000000  1000.0     False  \n",
       "25  1.000000  1000.0     False  \n",
       "26  1.000000  1000.0     False  \n",
       "27  1.000000  1000.0     False  \n",
       "28  1.000000  1000.0     False  "
      ]
     },
     "execution_count": 8,
     "metadata": {},
     "output_type": "execute_result"
    }
   ],
   "source": [
    "comparison  = pd.concat([baselines, designs], ignore_index=True)\n",
    "comparison"
   ]
  },
  {
   "cell_type": "code",
   "execution_count": null,
   "metadata": {},
   "outputs": [
    {
     "data": {
      "text/plain": [
       "<pandas.core.groupby.generic.DataFrameGroupBy object at 0x137e24640>"
      ]
     },
     "execution_count": 9,
     "metadata": {},
     "output_type": "execute_result"
    }
   ],
   "source": [
    "protein_group = comparison.groupby(\"Name\")\n",
    "protein_group"
   ]
  },
  {
   "cell_type": "code",
   "execution_count": null,
   "metadata": {},
   "outputs": [],
   "source": [
    "import plotly.express as px"
   ]
  },
  {
   "cell_type": "code",
   "execution_count": null,
   "metadata": {},
   "outputs": [
    {
     "data": {
      "application/vnd.plotly.v1+json": {
       "config": {
        "plotlyServerURL": "https://plot.ly"
       },
       "data": [
        {
         "customdata": [
          [
           "#52962:hSpCas9-nucleoplasminNLS-FLAG-P2A-BSD",
           null
          ]
         ],
         "hovertemplate": "wildtype=True<br>MFE (kcal/mol)=%{x}<br>CAI=%{y}<br>Name=%{customdata[0]}<br>lambda=%{customdata[1]}<extra></extra>",
         "legendgroup": "True",
         "marker": {
          "color": "#636efa",
          "line": {
           "color": "DarkSlateGrey",
           "width": 2
          },
          "size": 12,
          "symbol": "circle"
         },
         "mode": "markers",
         "name": "True",
         "orientation": "v",
         "showlegend": true,
         "type": "scatter",
         "x": [
          -1580.4000244140625
         ],
         "xaxis": "x",
         "y": [
          0.9310621305651892
         ],
         "yaxis": "y"
        },
        {
         "customdata": [
          [
           "#52962:hSpCas9-nucleoplasminNLS-FLAG-P2A-BSD",
           0
          ],
          [
           "#52962:hSpCas9-nucleoplasminNLS-FLAG-P2A-BSD",
           1
          ],
          [
           "#52962:hSpCas9-nucleoplasminNLS-FLAG-P2A-BSD",
           4
          ],
          [
           "#52962:hSpCas9-nucleoplasminNLS-FLAG-P2A-BSD",
           10
          ],
          [
           "#52962:hSpCas9-nucleoplasminNLS-FLAG-P2A-BSD",
           1000
          ]
         ],
         "hovertemplate": "wildtype=False<br>MFE (kcal/mol)=%{x}<br>CAI=%{y}<br>Name=%{customdata[0]}<br>lambda=%{customdata[1]}<extra></extra>",
         "legendgroup": "False",
         "marker": {
          "color": "#EF553B",
          "line": {
           "color": "DarkSlateGrey",
           "width": 2
          },
          "size": 12,
          "symbol": "circle"
         },
         "mode": "markers",
         "name": "False",
         "orientation": "v",
         "showlegend": true,
         "type": "scatter",
         "x": [
          -2901.8,
          -2836.1,
          -2422.2,
          -2020.2,
          -1711.3
         ],
         "xaxis": "x",
         "y": [
          0.759,
          0.833,
          0.948,
          0.992,
          1
         ],
         "yaxis": "y"
        }
       ],
       "layout": {
        "legend": {
         "title": {
          "text": "wildtype"
         },
         "tracegroupgap": 0
        },
        "template": {
         "data": {
          "bar": [
           {
            "error_x": {
             "color": "#2a3f5f"
            },
            "error_y": {
             "color": "#2a3f5f"
            },
            "marker": {
             "line": {
              "color": "#E5ECF6",
              "width": 0.5
             },
             "pattern": {
              "fillmode": "overlay",
              "size": 10,
              "solidity": 0.2
             }
            },
            "type": "bar"
           }
          ],
          "barpolar": [
           {
            "marker": {
             "line": {
              "color": "#E5ECF6",
              "width": 0.5
             },
             "pattern": {
              "fillmode": "overlay",
              "size": 10,
              "solidity": 0.2
             }
            },
            "type": "barpolar"
           }
          ],
          "carpet": [
           {
            "aaxis": {
             "endlinecolor": "#2a3f5f",
             "gridcolor": "white",
             "linecolor": "white",
             "minorgridcolor": "white",
             "startlinecolor": "#2a3f5f"
            },
            "baxis": {
             "endlinecolor": "#2a3f5f",
             "gridcolor": "white",
             "linecolor": "white",
             "minorgridcolor": "white",
             "startlinecolor": "#2a3f5f"
            },
            "type": "carpet"
           }
          ],
          "choropleth": [
           {
            "colorbar": {
             "outlinewidth": 0,
             "ticks": ""
            },
            "type": "choropleth"
           }
          ],
          "contour": [
           {
            "colorbar": {
             "outlinewidth": 0,
             "ticks": ""
            },
            "colorscale": [
             [
              0,
              "#0d0887"
             ],
             [
              0.1111111111111111,
              "#46039f"
             ],
             [
              0.2222222222222222,
              "#7201a8"
             ],
             [
              0.3333333333333333,
              "#9c179e"
             ],
             [
              0.4444444444444444,
              "#bd3786"
             ],
             [
              0.5555555555555556,
              "#d8576b"
             ],
             [
              0.6666666666666666,
              "#ed7953"
             ],
             [
              0.7777777777777778,
              "#fb9f3a"
             ],
             [
              0.8888888888888888,
              "#fdca26"
             ],
             [
              1,
              "#f0f921"
             ]
            ],
            "type": "contour"
           }
          ],
          "contourcarpet": [
           {
            "colorbar": {
             "outlinewidth": 0,
             "ticks": ""
            },
            "type": "contourcarpet"
           }
          ],
          "heatmap": [
           {
            "colorbar": {
             "outlinewidth": 0,
             "ticks": ""
            },
            "colorscale": [
             [
              0,
              "#0d0887"
             ],
             [
              0.1111111111111111,
              "#46039f"
             ],
             [
              0.2222222222222222,
              "#7201a8"
             ],
             [
              0.3333333333333333,
              "#9c179e"
             ],
             [
              0.4444444444444444,
              "#bd3786"
             ],
             [
              0.5555555555555556,
              "#d8576b"
             ],
             [
              0.6666666666666666,
              "#ed7953"
             ],
             [
              0.7777777777777778,
              "#fb9f3a"
             ],
             [
              0.8888888888888888,
              "#fdca26"
             ],
             [
              1,
              "#f0f921"
             ]
            ],
            "type": "heatmap"
           }
          ],
          "heatmapgl": [
           {
            "colorbar": {
             "outlinewidth": 0,
             "ticks": ""
            },
            "colorscale": [
             [
              0,
              "#0d0887"
             ],
             [
              0.1111111111111111,
              "#46039f"
             ],
             [
              0.2222222222222222,
              "#7201a8"
             ],
             [
              0.3333333333333333,
              "#9c179e"
             ],
             [
              0.4444444444444444,
              "#bd3786"
             ],
             [
              0.5555555555555556,
              "#d8576b"
             ],
             [
              0.6666666666666666,
              "#ed7953"
             ],
             [
              0.7777777777777778,
              "#fb9f3a"
             ],
             [
              0.8888888888888888,
              "#fdca26"
             ],
             [
              1,
              "#f0f921"
             ]
            ],
            "type": "heatmapgl"
           }
          ],
          "histogram": [
           {
            "marker": {
             "pattern": {
              "fillmode": "overlay",
              "size": 10,
              "solidity": 0.2
             }
            },
            "type": "histogram"
           }
          ],
          "histogram2d": [
           {
            "colorbar": {
             "outlinewidth": 0,
             "ticks": ""
            },
            "colorscale": [
             [
              0,
              "#0d0887"
             ],
             [
              0.1111111111111111,
              "#46039f"
             ],
             [
              0.2222222222222222,
              "#7201a8"
             ],
             [
              0.3333333333333333,
              "#9c179e"
             ],
             [
              0.4444444444444444,
              "#bd3786"
             ],
             [
              0.5555555555555556,
              "#d8576b"
             ],
             [
              0.6666666666666666,
              "#ed7953"
             ],
             [
              0.7777777777777778,
              "#fb9f3a"
             ],
             [
              0.8888888888888888,
              "#fdca26"
             ],
             [
              1,
              "#f0f921"
             ]
            ],
            "type": "histogram2d"
           }
          ],
          "histogram2dcontour": [
           {
            "colorbar": {
             "outlinewidth": 0,
             "ticks": ""
            },
            "colorscale": [
             [
              0,
              "#0d0887"
             ],
             [
              0.1111111111111111,
              "#46039f"
             ],
             [
              0.2222222222222222,
              "#7201a8"
             ],
             [
              0.3333333333333333,
              "#9c179e"
             ],
             [
              0.4444444444444444,
              "#bd3786"
             ],
             [
              0.5555555555555556,
              "#d8576b"
             ],
             [
              0.6666666666666666,
              "#ed7953"
             ],
             [
              0.7777777777777778,
              "#fb9f3a"
             ],
             [
              0.8888888888888888,
              "#fdca26"
             ],
             [
              1,
              "#f0f921"
             ]
            ],
            "type": "histogram2dcontour"
           }
          ],
          "mesh3d": [
           {
            "colorbar": {
             "outlinewidth": 0,
             "ticks": ""
            },
            "type": "mesh3d"
           }
          ],
          "parcoords": [
           {
            "line": {
             "colorbar": {
              "outlinewidth": 0,
              "ticks": ""
             }
            },
            "type": "parcoords"
           }
          ],
          "pie": [
           {
            "automargin": true,
            "type": "pie"
           }
          ],
          "scatter": [
           {
            "fillpattern": {
             "fillmode": "overlay",
             "size": 10,
             "solidity": 0.2
            },
            "type": "scatter"
           }
          ],
          "scatter3d": [
           {
            "line": {
             "colorbar": {
              "outlinewidth": 0,
              "ticks": ""
             }
            },
            "marker": {
             "colorbar": {
              "outlinewidth": 0,
              "ticks": ""
             }
            },
            "type": "scatter3d"
           }
          ],
          "scattercarpet": [
           {
            "marker": {
             "colorbar": {
              "outlinewidth": 0,
              "ticks": ""
             }
            },
            "type": "scattercarpet"
           }
          ],
          "scattergeo": [
           {
            "marker": {
             "colorbar": {
              "outlinewidth": 0,
              "ticks": ""
             }
            },
            "type": "scattergeo"
           }
          ],
          "scattergl": [
           {
            "marker": {
             "colorbar": {
              "outlinewidth": 0,
              "ticks": ""
             }
            },
            "type": "scattergl"
           }
          ],
          "scattermapbox": [
           {
            "marker": {
             "colorbar": {
              "outlinewidth": 0,
              "ticks": ""
             }
            },
            "type": "scattermapbox"
           }
          ],
          "scatterpolar": [
           {
            "marker": {
             "colorbar": {
              "outlinewidth": 0,
              "ticks": ""
             }
            },
            "type": "scatterpolar"
           }
          ],
          "scatterpolargl": [
           {
            "marker": {
             "colorbar": {
              "outlinewidth": 0,
              "ticks": ""
             }
            },
            "type": "scatterpolargl"
           }
          ],
          "scatterternary": [
           {
            "marker": {
             "colorbar": {
              "outlinewidth": 0,
              "ticks": ""
             }
            },
            "type": "scatterternary"
           }
          ],
          "surface": [
           {
            "colorbar": {
             "outlinewidth": 0,
             "ticks": ""
            },
            "colorscale": [
             [
              0,
              "#0d0887"
             ],
             [
              0.1111111111111111,
              "#46039f"
             ],
             [
              0.2222222222222222,
              "#7201a8"
             ],
             [
              0.3333333333333333,
              "#9c179e"
             ],
             [
              0.4444444444444444,
              "#bd3786"
             ],
             [
              0.5555555555555556,
              "#d8576b"
             ],
             [
              0.6666666666666666,
              "#ed7953"
             ],
             [
              0.7777777777777778,
              "#fb9f3a"
             ],
             [
              0.8888888888888888,
              "#fdca26"
             ],
             [
              1,
              "#f0f921"
             ]
            ],
            "type": "surface"
           }
          ],
          "table": [
           {
            "cells": {
             "fill": {
              "color": "#EBF0F8"
             },
             "line": {
              "color": "white"
             }
            },
            "header": {
             "fill": {
              "color": "#C8D4E3"
             },
             "line": {
              "color": "white"
             }
            },
            "type": "table"
           }
          ]
         },
         "layout": {
          "annotationdefaults": {
           "arrowcolor": "#2a3f5f",
           "arrowhead": 0,
           "arrowwidth": 1
          },
          "autotypenumbers": "strict",
          "coloraxis": {
           "colorbar": {
            "outlinewidth": 0,
            "ticks": ""
           }
          },
          "colorscale": {
           "diverging": [
            [
             0,
             "#8e0152"
            ],
            [
             0.1,
             "#c51b7d"
            ],
            [
             0.2,
             "#de77ae"
            ],
            [
             0.3,
             "#f1b6da"
            ],
            [
             0.4,
             "#fde0ef"
            ],
            [
             0.5,
             "#f7f7f7"
            ],
            [
             0.6,
             "#e6f5d0"
            ],
            [
             0.7,
             "#b8e186"
            ],
            [
             0.8,
             "#7fbc41"
            ],
            [
             0.9,
             "#4d9221"
            ],
            [
             1,
             "#276419"
            ]
           ],
           "sequential": [
            [
             0,
             "#0d0887"
            ],
            [
             0.1111111111111111,
             "#46039f"
            ],
            [
             0.2222222222222222,
             "#7201a8"
            ],
            [
             0.3333333333333333,
             "#9c179e"
            ],
            [
             0.4444444444444444,
             "#bd3786"
            ],
            [
             0.5555555555555556,
             "#d8576b"
            ],
            [
             0.6666666666666666,
             "#ed7953"
            ],
            [
             0.7777777777777778,
             "#fb9f3a"
            ],
            [
             0.8888888888888888,
             "#fdca26"
            ],
            [
             1,
             "#f0f921"
            ]
           ],
           "sequentialminus": [
            [
             0,
             "#0d0887"
            ],
            [
             0.1111111111111111,
             "#46039f"
            ],
            [
             0.2222222222222222,
             "#7201a8"
            ],
            [
             0.3333333333333333,
             "#9c179e"
            ],
            [
             0.4444444444444444,
             "#bd3786"
            ],
            [
             0.5555555555555556,
             "#d8576b"
            ],
            [
             0.6666666666666666,
             "#ed7953"
            ],
            [
             0.7777777777777778,
             "#fb9f3a"
            ],
            [
             0.8888888888888888,
             "#fdca26"
            ],
            [
             1,
             "#f0f921"
            ]
           ]
          },
          "colorway": [
           "#636efa",
           "#EF553B",
           "#00cc96",
           "#ab63fa",
           "#FFA15A",
           "#19d3f3",
           "#FF6692",
           "#B6E880",
           "#FF97FF",
           "#FECB52"
          ],
          "font": {
           "color": "#2a3f5f"
          },
          "geo": {
           "bgcolor": "white",
           "lakecolor": "white",
           "landcolor": "#E5ECF6",
           "showlakes": true,
           "showland": true,
           "subunitcolor": "white"
          },
          "hoverlabel": {
           "align": "left"
          },
          "hovermode": "closest",
          "mapbox": {
           "style": "light"
          },
          "paper_bgcolor": "white",
          "plot_bgcolor": "#E5ECF6",
          "polar": {
           "angularaxis": {
            "gridcolor": "white",
            "linecolor": "white",
            "ticks": ""
           },
           "bgcolor": "#E5ECF6",
           "radialaxis": {
            "gridcolor": "white",
            "linecolor": "white",
            "ticks": ""
           }
          },
          "scene": {
           "xaxis": {
            "backgroundcolor": "#E5ECF6",
            "gridcolor": "white",
            "gridwidth": 2,
            "linecolor": "white",
            "showbackground": true,
            "ticks": "",
            "zerolinecolor": "white"
           },
           "yaxis": {
            "backgroundcolor": "#E5ECF6",
            "gridcolor": "white",
            "gridwidth": 2,
            "linecolor": "white",
            "showbackground": true,
            "ticks": "",
            "zerolinecolor": "white"
           },
           "zaxis": {
            "backgroundcolor": "#E5ECF6",
            "gridcolor": "white",
            "gridwidth": 2,
            "linecolor": "white",
            "showbackground": true,
            "ticks": "",
            "zerolinecolor": "white"
           }
          },
          "shapedefaults": {
           "line": {
            "color": "#2a3f5f"
           }
          },
          "ternary": {
           "aaxis": {
            "gridcolor": "white",
            "linecolor": "white",
            "ticks": ""
           },
           "baxis": {
            "gridcolor": "white",
            "linecolor": "white",
            "ticks": ""
           },
           "bgcolor": "#E5ECF6",
           "caxis": {
            "gridcolor": "white",
            "linecolor": "white",
            "ticks": ""
           }
          },
          "title": {
           "x": 0.05
          },
          "xaxis": {
           "automargin": true,
           "gridcolor": "white",
           "linecolor": "white",
           "ticks": "",
           "title": {
            "standoff": 15
           },
           "zerolinecolor": "white",
           "zerolinewidth": 2
          },
          "yaxis": {
           "automargin": true,
           "gridcolor": "white",
           "linecolor": "white",
           "ticks": "",
           "title": {
            "standoff": 15
           },
           "zerolinecolor": "white",
           "zerolinewidth": 2
          }
         }
        },
        "title": {
         "text": "#52962:hSpCas9-nucleoplasminNLS-FLAG-P2A-BSD"
        },
        "xaxis": {
         "anchor": "y",
         "domain": [
          0,
          1
         ],
         "title": {
          "text": "MFE (kcal/mol)"
         }
        },
        "yaxis": {
         "anchor": "x",
         "domain": [
          0,
          1
         ],
         "title": {
          "text": "CAI"
         }
        }
       }
      }
     },
     "metadata": {},
     "output_type": "display_data"
    },
    {
     "data": {
      "application/vnd.plotly.v1+json": {
       "config": {
        "plotlyServerURL": "https://plot.ly"
       },
       "data": [
        {
         "customdata": [
          [
           "FLAG-P2A-BSD",
           0
          ],
          [
           "FLAG-P2A-BSD",
           1
          ],
          [
           "FLAG-P2A-BSD",
           4
          ],
          [
           "FLAG-P2A-BSD",
           10
          ],
          [
           "FLAG-P2A-BSD",
           1000
          ]
         ],
         "hovertemplate": "wildtype=False<br>MFE (kcal/mol)=%{x}<br>CAI=%{y}<br>Name=%{customdata[0]}<br>lambda=%{customdata[1]}<extra></extra>",
         "legendgroup": "False",
         "marker": {
          "color": "#636efa",
          "line": {
           "color": "DarkSlateGrey",
           "width": 2
          },
          "size": 12,
          "symbol": "circle"
         },
         "mode": "markers",
         "name": "False",
         "orientation": "v",
         "showlegend": true,
         "type": "scatter",
         "x": [
          -367.8,
          -360.9,
          -300.5,
          -246.3,
          -202.8
         ],
         "xaxis": "x",
         "y": [
          0.706,
          0.791,
          0.931,
          0.987,
          1
         ],
         "yaxis": "y"
        }
       ],
       "layout": {
        "legend": {
         "title": {
          "text": "wildtype"
         },
         "tracegroupgap": 0
        },
        "template": {
         "data": {
          "bar": [
           {
            "error_x": {
             "color": "#2a3f5f"
            },
            "error_y": {
             "color": "#2a3f5f"
            },
            "marker": {
             "line": {
              "color": "#E5ECF6",
              "width": 0.5
             },
             "pattern": {
              "fillmode": "overlay",
              "size": 10,
              "solidity": 0.2
             }
            },
            "type": "bar"
           }
          ],
          "barpolar": [
           {
            "marker": {
             "line": {
              "color": "#E5ECF6",
              "width": 0.5
             },
             "pattern": {
              "fillmode": "overlay",
              "size": 10,
              "solidity": 0.2
             }
            },
            "type": "barpolar"
           }
          ],
          "carpet": [
           {
            "aaxis": {
             "endlinecolor": "#2a3f5f",
             "gridcolor": "white",
             "linecolor": "white",
             "minorgridcolor": "white",
             "startlinecolor": "#2a3f5f"
            },
            "baxis": {
             "endlinecolor": "#2a3f5f",
             "gridcolor": "white",
             "linecolor": "white",
             "minorgridcolor": "white",
             "startlinecolor": "#2a3f5f"
            },
            "type": "carpet"
           }
          ],
          "choropleth": [
           {
            "colorbar": {
             "outlinewidth": 0,
             "ticks": ""
            },
            "type": "choropleth"
           }
          ],
          "contour": [
           {
            "colorbar": {
             "outlinewidth": 0,
             "ticks": ""
            },
            "colorscale": [
             [
              0,
              "#0d0887"
             ],
             [
              0.1111111111111111,
              "#46039f"
             ],
             [
              0.2222222222222222,
              "#7201a8"
             ],
             [
              0.3333333333333333,
              "#9c179e"
             ],
             [
              0.4444444444444444,
              "#bd3786"
             ],
             [
              0.5555555555555556,
              "#d8576b"
             ],
             [
              0.6666666666666666,
              "#ed7953"
             ],
             [
              0.7777777777777778,
              "#fb9f3a"
             ],
             [
              0.8888888888888888,
              "#fdca26"
             ],
             [
              1,
              "#f0f921"
             ]
            ],
            "type": "contour"
           }
          ],
          "contourcarpet": [
           {
            "colorbar": {
             "outlinewidth": 0,
             "ticks": ""
            },
            "type": "contourcarpet"
           }
          ],
          "heatmap": [
           {
            "colorbar": {
             "outlinewidth": 0,
             "ticks": ""
            },
            "colorscale": [
             [
              0,
              "#0d0887"
             ],
             [
              0.1111111111111111,
              "#46039f"
             ],
             [
              0.2222222222222222,
              "#7201a8"
             ],
             [
              0.3333333333333333,
              "#9c179e"
             ],
             [
              0.4444444444444444,
              "#bd3786"
             ],
             [
              0.5555555555555556,
              "#d8576b"
             ],
             [
              0.6666666666666666,
              "#ed7953"
             ],
             [
              0.7777777777777778,
              "#fb9f3a"
             ],
             [
              0.8888888888888888,
              "#fdca26"
             ],
             [
              1,
              "#f0f921"
             ]
            ],
            "type": "heatmap"
           }
          ],
          "heatmapgl": [
           {
            "colorbar": {
             "outlinewidth": 0,
             "ticks": ""
            },
            "colorscale": [
             [
              0,
              "#0d0887"
             ],
             [
              0.1111111111111111,
              "#46039f"
             ],
             [
              0.2222222222222222,
              "#7201a8"
             ],
             [
              0.3333333333333333,
              "#9c179e"
             ],
             [
              0.4444444444444444,
              "#bd3786"
             ],
             [
              0.5555555555555556,
              "#d8576b"
             ],
             [
              0.6666666666666666,
              "#ed7953"
             ],
             [
              0.7777777777777778,
              "#fb9f3a"
             ],
             [
              0.8888888888888888,
              "#fdca26"
             ],
             [
              1,
              "#f0f921"
             ]
            ],
            "type": "heatmapgl"
           }
          ],
          "histogram": [
           {
            "marker": {
             "pattern": {
              "fillmode": "overlay",
              "size": 10,
              "solidity": 0.2
             }
            },
            "type": "histogram"
           }
          ],
          "histogram2d": [
           {
            "colorbar": {
             "outlinewidth": 0,
             "ticks": ""
            },
            "colorscale": [
             [
              0,
              "#0d0887"
             ],
             [
              0.1111111111111111,
              "#46039f"
             ],
             [
              0.2222222222222222,
              "#7201a8"
             ],
             [
              0.3333333333333333,
              "#9c179e"
             ],
             [
              0.4444444444444444,
              "#bd3786"
             ],
             [
              0.5555555555555556,
              "#d8576b"
             ],
             [
              0.6666666666666666,
              "#ed7953"
             ],
             [
              0.7777777777777778,
              "#fb9f3a"
             ],
             [
              0.8888888888888888,
              "#fdca26"
             ],
             [
              1,
              "#f0f921"
             ]
            ],
            "type": "histogram2d"
           }
          ],
          "histogram2dcontour": [
           {
            "colorbar": {
             "outlinewidth": 0,
             "ticks": ""
            },
            "colorscale": [
             [
              0,
              "#0d0887"
             ],
             [
              0.1111111111111111,
              "#46039f"
             ],
             [
              0.2222222222222222,
              "#7201a8"
             ],
             [
              0.3333333333333333,
              "#9c179e"
             ],
             [
              0.4444444444444444,
              "#bd3786"
             ],
             [
              0.5555555555555556,
              "#d8576b"
             ],
             [
              0.6666666666666666,
              "#ed7953"
             ],
             [
              0.7777777777777778,
              "#fb9f3a"
             ],
             [
              0.8888888888888888,
              "#fdca26"
             ],
             [
              1,
              "#f0f921"
             ]
            ],
            "type": "histogram2dcontour"
           }
          ],
          "mesh3d": [
           {
            "colorbar": {
             "outlinewidth": 0,
             "ticks": ""
            },
            "type": "mesh3d"
           }
          ],
          "parcoords": [
           {
            "line": {
             "colorbar": {
              "outlinewidth": 0,
              "ticks": ""
             }
            },
            "type": "parcoords"
           }
          ],
          "pie": [
           {
            "automargin": true,
            "type": "pie"
           }
          ],
          "scatter": [
           {
            "fillpattern": {
             "fillmode": "overlay",
             "size": 10,
             "solidity": 0.2
            },
            "type": "scatter"
           }
          ],
          "scatter3d": [
           {
            "line": {
             "colorbar": {
              "outlinewidth": 0,
              "ticks": ""
             }
            },
            "marker": {
             "colorbar": {
              "outlinewidth": 0,
              "ticks": ""
             }
            },
            "type": "scatter3d"
           }
          ],
          "scattercarpet": [
           {
            "marker": {
             "colorbar": {
              "outlinewidth": 0,
              "ticks": ""
             }
            },
            "type": "scattercarpet"
           }
          ],
          "scattergeo": [
           {
            "marker": {
             "colorbar": {
              "outlinewidth": 0,
              "ticks": ""
             }
            },
            "type": "scattergeo"
           }
          ],
          "scattergl": [
           {
            "marker": {
             "colorbar": {
              "outlinewidth": 0,
              "ticks": ""
             }
            },
            "type": "scattergl"
           }
          ],
          "scattermapbox": [
           {
            "marker": {
             "colorbar": {
              "outlinewidth": 0,
              "ticks": ""
             }
            },
            "type": "scattermapbox"
           }
          ],
          "scatterpolar": [
           {
            "marker": {
             "colorbar": {
              "outlinewidth": 0,
              "ticks": ""
             }
            },
            "type": "scatterpolar"
           }
          ],
          "scatterpolargl": [
           {
            "marker": {
             "colorbar": {
              "outlinewidth": 0,
              "ticks": ""
             }
            },
            "type": "scatterpolargl"
           }
          ],
          "scatterternary": [
           {
            "marker": {
             "colorbar": {
              "outlinewidth": 0,
              "ticks": ""
             }
            },
            "type": "scatterternary"
           }
          ],
          "surface": [
           {
            "colorbar": {
             "outlinewidth": 0,
             "ticks": ""
            },
            "colorscale": [
             [
              0,
              "#0d0887"
             ],
             [
              0.1111111111111111,
              "#46039f"
             ],
             [
              0.2222222222222222,
              "#7201a8"
             ],
             [
              0.3333333333333333,
              "#9c179e"
             ],
             [
              0.4444444444444444,
              "#bd3786"
             ],
             [
              0.5555555555555556,
              "#d8576b"
             ],
             [
              0.6666666666666666,
              "#ed7953"
             ],
             [
              0.7777777777777778,
              "#fb9f3a"
             ],
             [
              0.8888888888888888,
              "#fdca26"
             ],
             [
              1,
              "#f0f921"
             ]
            ],
            "type": "surface"
           }
          ],
          "table": [
           {
            "cells": {
             "fill": {
              "color": "#EBF0F8"
             },
             "line": {
              "color": "white"
             }
            },
            "header": {
             "fill": {
              "color": "#C8D4E3"
             },
             "line": {
              "color": "white"
             }
            },
            "type": "table"
           }
          ]
         },
         "layout": {
          "annotationdefaults": {
           "arrowcolor": "#2a3f5f",
           "arrowhead": 0,
           "arrowwidth": 1
          },
          "autotypenumbers": "strict",
          "coloraxis": {
           "colorbar": {
            "outlinewidth": 0,
            "ticks": ""
           }
          },
          "colorscale": {
           "diverging": [
            [
             0,
             "#8e0152"
            ],
            [
             0.1,
             "#c51b7d"
            ],
            [
             0.2,
             "#de77ae"
            ],
            [
             0.3,
             "#f1b6da"
            ],
            [
             0.4,
             "#fde0ef"
            ],
            [
             0.5,
             "#f7f7f7"
            ],
            [
             0.6,
             "#e6f5d0"
            ],
            [
             0.7,
             "#b8e186"
            ],
            [
             0.8,
             "#7fbc41"
            ],
            [
             0.9,
             "#4d9221"
            ],
            [
             1,
             "#276419"
            ]
           ],
           "sequential": [
            [
             0,
             "#0d0887"
            ],
            [
             0.1111111111111111,
             "#46039f"
            ],
            [
             0.2222222222222222,
             "#7201a8"
            ],
            [
             0.3333333333333333,
             "#9c179e"
            ],
            [
             0.4444444444444444,
             "#bd3786"
            ],
            [
             0.5555555555555556,
             "#d8576b"
            ],
            [
             0.6666666666666666,
             "#ed7953"
            ],
            [
             0.7777777777777778,
             "#fb9f3a"
            ],
            [
             0.8888888888888888,
             "#fdca26"
            ],
            [
             1,
             "#f0f921"
            ]
           ],
           "sequentialminus": [
            [
             0,
             "#0d0887"
            ],
            [
             0.1111111111111111,
             "#46039f"
            ],
            [
             0.2222222222222222,
             "#7201a8"
            ],
            [
             0.3333333333333333,
             "#9c179e"
            ],
            [
             0.4444444444444444,
             "#bd3786"
            ],
            [
             0.5555555555555556,
             "#d8576b"
            ],
            [
             0.6666666666666666,
             "#ed7953"
            ],
            [
             0.7777777777777778,
             "#fb9f3a"
            ],
            [
             0.8888888888888888,
             "#fdca26"
            ],
            [
             1,
             "#f0f921"
            ]
           ]
          },
          "colorway": [
           "#636efa",
           "#EF553B",
           "#00cc96",
           "#ab63fa",
           "#FFA15A",
           "#19d3f3",
           "#FF6692",
           "#B6E880",
           "#FF97FF",
           "#FECB52"
          ],
          "font": {
           "color": "#2a3f5f"
          },
          "geo": {
           "bgcolor": "white",
           "lakecolor": "white",
           "landcolor": "#E5ECF6",
           "showlakes": true,
           "showland": true,
           "subunitcolor": "white"
          },
          "hoverlabel": {
           "align": "left"
          },
          "hovermode": "closest",
          "mapbox": {
           "style": "light"
          },
          "paper_bgcolor": "white",
          "plot_bgcolor": "#E5ECF6",
          "polar": {
           "angularaxis": {
            "gridcolor": "white",
            "linecolor": "white",
            "ticks": ""
           },
           "bgcolor": "#E5ECF6",
           "radialaxis": {
            "gridcolor": "white",
            "linecolor": "white",
            "ticks": ""
           }
          },
          "scene": {
           "xaxis": {
            "backgroundcolor": "#E5ECF6",
            "gridcolor": "white",
            "gridwidth": 2,
            "linecolor": "white",
            "showbackground": true,
            "ticks": "",
            "zerolinecolor": "white"
           },
           "yaxis": {
            "backgroundcolor": "#E5ECF6",
            "gridcolor": "white",
            "gridwidth": 2,
            "linecolor": "white",
            "showbackground": true,
            "ticks": "",
            "zerolinecolor": "white"
           },
           "zaxis": {
            "backgroundcolor": "#E5ECF6",
            "gridcolor": "white",
            "gridwidth": 2,
            "linecolor": "white",
            "showbackground": true,
            "ticks": "",
            "zerolinecolor": "white"
           }
          },
          "shapedefaults": {
           "line": {
            "color": "#2a3f5f"
           }
          },
          "ternary": {
           "aaxis": {
            "gridcolor": "white",
            "linecolor": "white",
            "ticks": ""
           },
           "baxis": {
            "gridcolor": "white",
            "linecolor": "white",
            "ticks": ""
           },
           "bgcolor": "#E5ECF6",
           "caxis": {
            "gridcolor": "white",
            "linecolor": "white",
            "ticks": ""
           }
          },
          "title": {
           "x": 0.05
          },
          "xaxis": {
           "automargin": true,
           "gridcolor": "white",
           "linecolor": "white",
           "ticks": "",
           "title": {
            "standoff": 15
           },
           "zerolinecolor": "white",
           "zerolinewidth": 2
          },
          "yaxis": {
           "automargin": true,
           "gridcolor": "white",
           "linecolor": "white",
           "ticks": "",
           "title": {
            "standoff": 15
           },
           "zerolinecolor": "white",
           "zerolinewidth": 2
          }
         }
        },
        "title": {
         "text": "FLAG-P2A-BSD"
        },
        "xaxis": {
         "anchor": "y",
         "domain": [
          0,
          1
         ],
         "title": {
          "text": "MFE (kcal/mol)"
         }
        },
        "yaxis": {
         "anchor": "x",
         "domain": [
          0,
          1
         ],
         "title": {
          "text": "CAI"
         }
        }
       }
      }
     },
     "metadata": {},
     "output_type": "display_data"
    },
    {
     "data": {
      "application/vnd.plotly.v1+json": {
       "config": {
        "plotlyServerURL": "https://plot.ly"
       },
       "data": [
        {
         "customdata": [
          [
           "ISDra2-TnpB",
           null
          ]
         ],
         "hovertemplate": "wildtype=True<br>MFE (kcal/mol)=%{x}<br>CAI=%{y}<br>Name=%{customdata[0]}<br>lambda=%{customdata[1]}<extra></extra>",
         "legendgroup": "True",
         "marker": {
          "color": "#636efa",
          "line": {
           "color": "DarkSlateGrey",
           "width": 2
          },
          "size": 12,
          "symbol": "circle"
         },
         "mode": "markers",
         "name": "True",
         "orientation": "v",
         "showlegend": true,
         "type": "scatter",
         "x": [
          -449.29998779296875
         ],
         "xaxis": "x",
         "y": [
          0.7411894525685927
         ],
         "yaxis": "y"
        },
        {
         "customdata": [
          [
           "ISDra2-TnpB",
           0
          ],
          [
           "ISDra2-TnpB",
           1
          ],
          [
           "ISDra2-TnpB",
           4
          ],
          [
           "ISDra2-TnpB",
           10
          ],
          [
           "ISDra2-TnpB",
           1000
          ]
         ],
         "hovertemplate": "wildtype=False<br>MFE (kcal/mol)=%{x}<br>CAI=%{y}<br>Name=%{customdata[0]}<br>lambda=%{customdata[1]}<extra></extra>",
         "legendgroup": "False",
         "marker": {
          "color": "#EF553B",
          "line": {
           "color": "DarkSlateGrey",
           "width": 2
          },
          "size": 12,
          "symbol": "circle"
         },
         "mode": "markers",
         "name": "False",
         "orientation": "v",
         "showlegend": true,
         "type": "scatter",
         "x": [
          -827.3,
          -809.2,
          -699.8,
          -616.7,
          -489.7
         ],
         "xaxis": "x",
         "y": [
          0.756,
          0.839,
          0.951,
          0.984,
          1
         ],
         "yaxis": "y"
        }
       ],
       "layout": {
        "legend": {
         "title": {
          "text": "wildtype"
         },
         "tracegroupgap": 0
        },
        "template": {
         "data": {
          "bar": [
           {
            "error_x": {
             "color": "#2a3f5f"
            },
            "error_y": {
             "color": "#2a3f5f"
            },
            "marker": {
             "line": {
              "color": "#E5ECF6",
              "width": 0.5
             },
             "pattern": {
              "fillmode": "overlay",
              "size": 10,
              "solidity": 0.2
             }
            },
            "type": "bar"
           }
          ],
          "barpolar": [
           {
            "marker": {
             "line": {
              "color": "#E5ECF6",
              "width": 0.5
             },
             "pattern": {
              "fillmode": "overlay",
              "size": 10,
              "solidity": 0.2
             }
            },
            "type": "barpolar"
           }
          ],
          "carpet": [
           {
            "aaxis": {
             "endlinecolor": "#2a3f5f",
             "gridcolor": "white",
             "linecolor": "white",
             "minorgridcolor": "white",
             "startlinecolor": "#2a3f5f"
            },
            "baxis": {
             "endlinecolor": "#2a3f5f",
             "gridcolor": "white",
             "linecolor": "white",
             "minorgridcolor": "white",
             "startlinecolor": "#2a3f5f"
            },
            "type": "carpet"
           }
          ],
          "choropleth": [
           {
            "colorbar": {
             "outlinewidth": 0,
             "ticks": ""
            },
            "type": "choropleth"
           }
          ],
          "contour": [
           {
            "colorbar": {
             "outlinewidth": 0,
             "ticks": ""
            },
            "colorscale": [
             [
              0,
              "#0d0887"
             ],
             [
              0.1111111111111111,
              "#46039f"
             ],
             [
              0.2222222222222222,
              "#7201a8"
             ],
             [
              0.3333333333333333,
              "#9c179e"
             ],
             [
              0.4444444444444444,
              "#bd3786"
             ],
             [
              0.5555555555555556,
              "#d8576b"
             ],
             [
              0.6666666666666666,
              "#ed7953"
             ],
             [
              0.7777777777777778,
              "#fb9f3a"
             ],
             [
              0.8888888888888888,
              "#fdca26"
             ],
             [
              1,
              "#f0f921"
             ]
            ],
            "type": "contour"
           }
          ],
          "contourcarpet": [
           {
            "colorbar": {
             "outlinewidth": 0,
             "ticks": ""
            },
            "type": "contourcarpet"
           }
          ],
          "heatmap": [
           {
            "colorbar": {
             "outlinewidth": 0,
             "ticks": ""
            },
            "colorscale": [
             [
              0,
              "#0d0887"
             ],
             [
              0.1111111111111111,
              "#46039f"
             ],
             [
              0.2222222222222222,
              "#7201a8"
             ],
             [
              0.3333333333333333,
              "#9c179e"
             ],
             [
              0.4444444444444444,
              "#bd3786"
             ],
             [
              0.5555555555555556,
              "#d8576b"
             ],
             [
              0.6666666666666666,
              "#ed7953"
             ],
             [
              0.7777777777777778,
              "#fb9f3a"
             ],
             [
              0.8888888888888888,
              "#fdca26"
             ],
             [
              1,
              "#f0f921"
             ]
            ],
            "type": "heatmap"
           }
          ],
          "heatmapgl": [
           {
            "colorbar": {
             "outlinewidth": 0,
             "ticks": ""
            },
            "colorscale": [
             [
              0,
              "#0d0887"
             ],
             [
              0.1111111111111111,
              "#46039f"
             ],
             [
              0.2222222222222222,
              "#7201a8"
             ],
             [
              0.3333333333333333,
              "#9c179e"
             ],
             [
              0.4444444444444444,
              "#bd3786"
             ],
             [
              0.5555555555555556,
              "#d8576b"
             ],
             [
              0.6666666666666666,
              "#ed7953"
             ],
             [
              0.7777777777777778,
              "#fb9f3a"
             ],
             [
              0.8888888888888888,
              "#fdca26"
             ],
             [
              1,
              "#f0f921"
             ]
            ],
            "type": "heatmapgl"
           }
          ],
          "histogram": [
           {
            "marker": {
             "pattern": {
              "fillmode": "overlay",
              "size": 10,
              "solidity": 0.2
             }
            },
            "type": "histogram"
           }
          ],
          "histogram2d": [
           {
            "colorbar": {
             "outlinewidth": 0,
             "ticks": ""
            },
            "colorscale": [
             [
              0,
              "#0d0887"
             ],
             [
              0.1111111111111111,
              "#46039f"
             ],
             [
              0.2222222222222222,
              "#7201a8"
             ],
             [
              0.3333333333333333,
              "#9c179e"
             ],
             [
              0.4444444444444444,
              "#bd3786"
             ],
             [
              0.5555555555555556,
              "#d8576b"
             ],
             [
              0.6666666666666666,
              "#ed7953"
             ],
             [
              0.7777777777777778,
              "#fb9f3a"
             ],
             [
              0.8888888888888888,
              "#fdca26"
             ],
             [
              1,
              "#f0f921"
             ]
            ],
            "type": "histogram2d"
           }
          ],
          "histogram2dcontour": [
           {
            "colorbar": {
             "outlinewidth": 0,
             "ticks": ""
            },
            "colorscale": [
             [
              0,
              "#0d0887"
             ],
             [
              0.1111111111111111,
              "#46039f"
             ],
             [
              0.2222222222222222,
              "#7201a8"
             ],
             [
              0.3333333333333333,
              "#9c179e"
             ],
             [
              0.4444444444444444,
              "#bd3786"
             ],
             [
              0.5555555555555556,
              "#d8576b"
             ],
             [
              0.6666666666666666,
              "#ed7953"
             ],
             [
              0.7777777777777778,
              "#fb9f3a"
             ],
             [
              0.8888888888888888,
              "#fdca26"
             ],
             [
              1,
              "#f0f921"
             ]
            ],
            "type": "histogram2dcontour"
           }
          ],
          "mesh3d": [
           {
            "colorbar": {
             "outlinewidth": 0,
             "ticks": ""
            },
            "type": "mesh3d"
           }
          ],
          "parcoords": [
           {
            "line": {
             "colorbar": {
              "outlinewidth": 0,
              "ticks": ""
             }
            },
            "type": "parcoords"
           }
          ],
          "pie": [
           {
            "automargin": true,
            "type": "pie"
           }
          ],
          "scatter": [
           {
            "fillpattern": {
             "fillmode": "overlay",
             "size": 10,
             "solidity": 0.2
            },
            "type": "scatter"
           }
          ],
          "scatter3d": [
           {
            "line": {
             "colorbar": {
              "outlinewidth": 0,
              "ticks": ""
             }
            },
            "marker": {
             "colorbar": {
              "outlinewidth": 0,
              "ticks": ""
             }
            },
            "type": "scatter3d"
           }
          ],
          "scattercarpet": [
           {
            "marker": {
             "colorbar": {
              "outlinewidth": 0,
              "ticks": ""
             }
            },
            "type": "scattercarpet"
           }
          ],
          "scattergeo": [
           {
            "marker": {
             "colorbar": {
              "outlinewidth": 0,
              "ticks": ""
             }
            },
            "type": "scattergeo"
           }
          ],
          "scattergl": [
           {
            "marker": {
             "colorbar": {
              "outlinewidth": 0,
              "ticks": ""
             }
            },
            "type": "scattergl"
           }
          ],
          "scattermapbox": [
           {
            "marker": {
             "colorbar": {
              "outlinewidth": 0,
              "ticks": ""
             }
            },
            "type": "scattermapbox"
           }
          ],
          "scatterpolar": [
           {
            "marker": {
             "colorbar": {
              "outlinewidth": 0,
              "ticks": ""
             }
            },
            "type": "scatterpolar"
           }
          ],
          "scatterpolargl": [
           {
            "marker": {
             "colorbar": {
              "outlinewidth": 0,
              "ticks": ""
             }
            },
            "type": "scatterpolargl"
           }
          ],
          "scatterternary": [
           {
            "marker": {
             "colorbar": {
              "outlinewidth": 0,
              "ticks": ""
             }
            },
            "type": "scatterternary"
           }
          ],
          "surface": [
           {
            "colorbar": {
             "outlinewidth": 0,
             "ticks": ""
            },
            "colorscale": [
             [
              0,
              "#0d0887"
             ],
             [
              0.1111111111111111,
              "#46039f"
             ],
             [
              0.2222222222222222,
              "#7201a8"
             ],
             [
              0.3333333333333333,
              "#9c179e"
             ],
             [
              0.4444444444444444,
              "#bd3786"
             ],
             [
              0.5555555555555556,
              "#d8576b"
             ],
             [
              0.6666666666666666,
              "#ed7953"
             ],
             [
              0.7777777777777778,
              "#fb9f3a"
             ],
             [
              0.8888888888888888,
              "#fdca26"
             ],
             [
              1,
              "#f0f921"
             ]
            ],
            "type": "surface"
           }
          ],
          "table": [
           {
            "cells": {
             "fill": {
              "color": "#EBF0F8"
             },
             "line": {
              "color": "white"
             }
            },
            "header": {
             "fill": {
              "color": "#C8D4E3"
             },
             "line": {
              "color": "white"
             }
            },
            "type": "table"
           }
          ]
         },
         "layout": {
          "annotationdefaults": {
           "arrowcolor": "#2a3f5f",
           "arrowhead": 0,
           "arrowwidth": 1
          },
          "autotypenumbers": "strict",
          "coloraxis": {
           "colorbar": {
            "outlinewidth": 0,
            "ticks": ""
           }
          },
          "colorscale": {
           "diverging": [
            [
             0,
             "#8e0152"
            ],
            [
             0.1,
             "#c51b7d"
            ],
            [
             0.2,
             "#de77ae"
            ],
            [
             0.3,
             "#f1b6da"
            ],
            [
             0.4,
             "#fde0ef"
            ],
            [
             0.5,
             "#f7f7f7"
            ],
            [
             0.6,
             "#e6f5d0"
            ],
            [
             0.7,
             "#b8e186"
            ],
            [
             0.8,
             "#7fbc41"
            ],
            [
             0.9,
             "#4d9221"
            ],
            [
             1,
             "#276419"
            ]
           ],
           "sequential": [
            [
             0,
             "#0d0887"
            ],
            [
             0.1111111111111111,
             "#46039f"
            ],
            [
             0.2222222222222222,
             "#7201a8"
            ],
            [
             0.3333333333333333,
             "#9c179e"
            ],
            [
             0.4444444444444444,
             "#bd3786"
            ],
            [
             0.5555555555555556,
             "#d8576b"
            ],
            [
             0.6666666666666666,
             "#ed7953"
            ],
            [
             0.7777777777777778,
             "#fb9f3a"
            ],
            [
             0.8888888888888888,
             "#fdca26"
            ],
            [
             1,
             "#f0f921"
            ]
           ],
           "sequentialminus": [
            [
             0,
             "#0d0887"
            ],
            [
             0.1111111111111111,
             "#46039f"
            ],
            [
             0.2222222222222222,
             "#7201a8"
            ],
            [
             0.3333333333333333,
             "#9c179e"
            ],
            [
             0.4444444444444444,
             "#bd3786"
            ],
            [
             0.5555555555555556,
             "#d8576b"
            ],
            [
             0.6666666666666666,
             "#ed7953"
            ],
            [
             0.7777777777777778,
             "#fb9f3a"
            ],
            [
             0.8888888888888888,
             "#fdca26"
            ],
            [
             1,
             "#f0f921"
            ]
           ]
          },
          "colorway": [
           "#636efa",
           "#EF553B",
           "#00cc96",
           "#ab63fa",
           "#FFA15A",
           "#19d3f3",
           "#FF6692",
           "#B6E880",
           "#FF97FF",
           "#FECB52"
          ],
          "font": {
           "color": "#2a3f5f"
          },
          "geo": {
           "bgcolor": "white",
           "lakecolor": "white",
           "landcolor": "#E5ECF6",
           "showlakes": true,
           "showland": true,
           "subunitcolor": "white"
          },
          "hoverlabel": {
           "align": "left"
          },
          "hovermode": "closest",
          "mapbox": {
           "style": "light"
          },
          "paper_bgcolor": "white",
          "plot_bgcolor": "#E5ECF6",
          "polar": {
           "angularaxis": {
            "gridcolor": "white",
            "linecolor": "white",
            "ticks": ""
           },
           "bgcolor": "#E5ECF6",
           "radialaxis": {
            "gridcolor": "white",
            "linecolor": "white",
            "ticks": ""
           }
          },
          "scene": {
           "xaxis": {
            "backgroundcolor": "#E5ECF6",
            "gridcolor": "white",
            "gridwidth": 2,
            "linecolor": "white",
            "showbackground": true,
            "ticks": "",
            "zerolinecolor": "white"
           },
           "yaxis": {
            "backgroundcolor": "#E5ECF6",
            "gridcolor": "white",
            "gridwidth": 2,
            "linecolor": "white",
            "showbackground": true,
            "ticks": "",
            "zerolinecolor": "white"
           },
           "zaxis": {
            "backgroundcolor": "#E5ECF6",
            "gridcolor": "white",
            "gridwidth": 2,
            "linecolor": "white",
            "showbackground": true,
            "ticks": "",
            "zerolinecolor": "white"
           }
          },
          "shapedefaults": {
           "line": {
            "color": "#2a3f5f"
           }
          },
          "ternary": {
           "aaxis": {
            "gridcolor": "white",
            "linecolor": "white",
            "ticks": ""
           },
           "baxis": {
            "gridcolor": "white",
            "linecolor": "white",
            "ticks": ""
           },
           "bgcolor": "#E5ECF6",
           "caxis": {
            "gridcolor": "white",
            "linecolor": "white",
            "ticks": ""
           }
          },
          "title": {
           "x": 0.05
          },
          "xaxis": {
           "automargin": true,
           "gridcolor": "white",
           "linecolor": "white",
           "ticks": "",
           "title": {
            "standoff": 15
           },
           "zerolinecolor": "white",
           "zerolinewidth": 2
          },
          "yaxis": {
           "automargin": true,
           "gridcolor": "white",
           "linecolor": "white",
           "ticks": "",
           "title": {
            "standoff": 15
           },
           "zerolinecolor": "white",
           "zerolinewidth": 2
          }
         }
        },
        "title": {
         "text": "ISDra2-TnpB"
        },
        "xaxis": {
         "anchor": "y",
         "domain": [
          0,
          1
         ],
         "title": {
          "text": "MFE (kcal/mol)"
         }
        },
        "yaxis": {
         "anchor": "x",
         "domain": [
          0,
          1
         ],
         "title": {
          "text": "CAI"
         }
        }
       }
      }
     },
     "metadata": {},
     "output_type": "display_data"
    },
    {
     "data": {
      "application/vnd.plotly.v1+json": {
       "config": {
        "plotlyServerURL": "https://plot.ly"
       },
       "data": [
        {
         "customdata": [
          [
           "OgeuIscB (H, Nishmasu):7xht",
           null
          ]
         ],
         "hovertemplate": "wildtype=True<br>MFE (kcal/mol)=%{x}<br>CAI=%{y}<br>Name=%{customdata[0]}<br>lambda=%{customdata[1]}<extra></extra>",
         "legendgroup": "True",
         "marker": {
          "color": "#636efa",
          "line": {
           "color": "DarkSlateGrey",
           "width": 2
          },
          "size": 12,
          "symbol": "circle"
         },
         "mode": "markers",
         "name": "True",
         "orientation": "v",
         "showlegend": true,
         "type": "scatter",
         "x": [
          -544.0999755859375
         ],
         "xaxis": "x",
         "y": [
          0.9245913085039347
         ],
         "yaxis": "y"
        },
        {
         "customdata": [
          [
           "OgeuIscB (H, Nishmasu):7xht",
           0
          ],
          [
           "OgeuIscB (H, Nishmasu):7xht",
           1
          ],
          [
           "OgeuIscB (H, Nishmasu):7xht",
           4
          ],
          [
           "OgeuIscB (H, Nishmasu):7xht",
           10
          ],
          [
           "OgeuIscB (H, Nishmasu):7xht",
           1000
          ]
         ],
         "hovertemplate": "wildtype=False<br>MFE (kcal/mol)=%{x}<br>CAI=%{y}<br>Name=%{customdata[0]}<br>lambda=%{customdata[1]}<extra></extra>",
         "legendgroup": "False",
         "marker": {
          "color": "#EF553B",
          "line": {
           "color": "DarkSlateGrey",
           "width": 2
          },
          "size": 12,
          "symbol": "circle"
         },
         "mode": "markers",
         "name": "False",
         "orientation": "v",
         "showlegend": true,
         "type": "scatter",
         "x": [
          -984.7,
          -967.5,
          -847.9,
          -710.9,
          -602
         ],
         "xaxis": "x",
         "y": [
          0.761,
          0.841,
          0.946,
          0.991,
          1
         ],
         "yaxis": "y"
        }
       ],
       "layout": {
        "legend": {
         "title": {
          "text": "wildtype"
         },
         "tracegroupgap": 0
        },
        "template": {
         "data": {
          "bar": [
           {
            "error_x": {
             "color": "#2a3f5f"
            },
            "error_y": {
             "color": "#2a3f5f"
            },
            "marker": {
             "line": {
              "color": "#E5ECF6",
              "width": 0.5
             },
             "pattern": {
              "fillmode": "overlay",
              "size": 10,
              "solidity": 0.2
             }
            },
            "type": "bar"
           }
          ],
          "barpolar": [
           {
            "marker": {
             "line": {
              "color": "#E5ECF6",
              "width": 0.5
             },
             "pattern": {
              "fillmode": "overlay",
              "size": 10,
              "solidity": 0.2
             }
            },
            "type": "barpolar"
           }
          ],
          "carpet": [
           {
            "aaxis": {
             "endlinecolor": "#2a3f5f",
             "gridcolor": "white",
             "linecolor": "white",
             "minorgridcolor": "white",
             "startlinecolor": "#2a3f5f"
            },
            "baxis": {
             "endlinecolor": "#2a3f5f",
             "gridcolor": "white",
             "linecolor": "white",
             "minorgridcolor": "white",
             "startlinecolor": "#2a3f5f"
            },
            "type": "carpet"
           }
          ],
          "choropleth": [
           {
            "colorbar": {
             "outlinewidth": 0,
             "ticks": ""
            },
            "type": "choropleth"
           }
          ],
          "contour": [
           {
            "colorbar": {
             "outlinewidth": 0,
             "ticks": ""
            },
            "colorscale": [
             [
              0,
              "#0d0887"
             ],
             [
              0.1111111111111111,
              "#46039f"
             ],
             [
              0.2222222222222222,
              "#7201a8"
             ],
             [
              0.3333333333333333,
              "#9c179e"
             ],
             [
              0.4444444444444444,
              "#bd3786"
             ],
             [
              0.5555555555555556,
              "#d8576b"
             ],
             [
              0.6666666666666666,
              "#ed7953"
             ],
             [
              0.7777777777777778,
              "#fb9f3a"
             ],
             [
              0.8888888888888888,
              "#fdca26"
             ],
             [
              1,
              "#f0f921"
             ]
            ],
            "type": "contour"
           }
          ],
          "contourcarpet": [
           {
            "colorbar": {
             "outlinewidth": 0,
             "ticks": ""
            },
            "type": "contourcarpet"
           }
          ],
          "heatmap": [
           {
            "colorbar": {
             "outlinewidth": 0,
             "ticks": ""
            },
            "colorscale": [
             [
              0,
              "#0d0887"
             ],
             [
              0.1111111111111111,
              "#46039f"
             ],
             [
              0.2222222222222222,
              "#7201a8"
             ],
             [
              0.3333333333333333,
              "#9c179e"
             ],
             [
              0.4444444444444444,
              "#bd3786"
             ],
             [
              0.5555555555555556,
              "#d8576b"
             ],
             [
              0.6666666666666666,
              "#ed7953"
             ],
             [
              0.7777777777777778,
              "#fb9f3a"
             ],
             [
              0.8888888888888888,
              "#fdca26"
             ],
             [
              1,
              "#f0f921"
             ]
            ],
            "type": "heatmap"
           }
          ],
          "heatmapgl": [
           {
            "colorbar": {
             "outlinewidth": 0,
             "ticks": ""
            },
            "colorscale": [
             [
              0,
              "#0d0887"
             ],
             [
              0.1111111111111111,
              "#46039f"
             ],
             [
              0.2222222222222222,
              "#7201a8"
             ],
             [
              0.3333333333333333,
              "#9c179e"
             ],
             [
              0.4444444444444444,
              "#bd3786"
             ],
             [
              0.5555555555555556,
              "#d8576b"
             ],
             [
              0.6666666666666666,
              "#ed7953"
             ],
             [
              0.7777777777777778,
              "#fb9f3a"
             ],
             [
              0.8888888888888888,
              "#fdca26"
             ],
             [
              1,
              "#f0f921"
             ]
            ],
            "type": "heatmapgl"
           }
          ],
          "histogram": [
           {
            "marker": {
             "pattern": {
              "fillmode": "overlay",
              "size": 10,
              "solidity": 0.2
             }
            },
            "type": "histogram"
           }
          ],
          "histogram2d": [
           {
            "colorbar": {
             "outlinewidth": 0,
             "ticks": ""
            },
            "colorscale": [
             [
              0,
              "#0d0887"
             ],
             [
              0.1111111111111111,
              "#46039f"
             ],
             [
              0.2222222222222222,
              "#7201a8"
             ],
             [
              0.3333333333333333,
              "#9c179e"
             ],
             [
              0.4444444444444444,
              "#bd3786"
             ],
             [
              0.5555555555555556,
              "#d8576b"
             ],
             [
              0.6666666666666666,
              "#ed7953"
             ],
             [
              0.7777777777777778,
              "#fb9f3a"
             ],
             [
              0.8888888888888888,
              "#fdca26"
             ],
             [
              1,
              "#f0f921"
             ]
            ],
            "type": "histogram2d"
           }
          ],
          "histogram2dcontour": [
           {
            "colorbar": {
             "outlinewidth": 0,
             "ticks": ""
            },
            "colorscale": [
             [
              0,
              "#0d0887"
             ],
             [
              0.1111111111111111,
              "#46039f"
             ],
             [
              0.2222222222222222,
              "#7201a8"
             ],
             [
              0.3333333333333333,
              "#9c179e"
             ],
             [
              0.4444444444444444,
              "#bd3786"
             ],
             [
              0.5555555555555556,
              "#d8576b"
             ],
             [
              0.6666666666666666,
              "#ed7953"
             ],
             [
              0.7777777777777778,
              "#fb9f3a"
             ],
             [
              0.8888888888888888,
              "#fdca26"
             ],
             [
              1,
              "#f0f921"
             ]
            ],
            "type": "histogram2dcontour"
           }
          ],
          "mesh3d": [
           {
            "colorbar": {
             "outlinewidth": 0,
             "ticks": ""
            },
            "type": "mesh3d"
           }
          ],
          "parcoords": [
           {
            "line": {
             "colorbar": {
              "outlinewidth": 0,
              "ticks": ""
             }
            },
            "type": "parcoords"
           }
          ],
          "pie": [
           {
            "automargin": true,
            "type": "pie"
           }
          ],
          "scatter": [
           {
            "fillpattern": {
             "fillmode": "overlay",
             "size": 10,
             "solidity": 0.2
            },
            "type": "scatter"
           }
          ],
          "scatter3d": [
           {
            "line": {
             "colorbar": {
              "outlinewidth": 0,
              "ticks": ""
             }
            },
            "marker": {
             "colorbar": {
              "outlinewidth": 0,
              "ticks": ""
             }
            },
            "type": "scatter3d"
           }
          ],
          "scattercarpet": [
           {
            "marker": {
             "colorbar": {
              "outlinewidth": 0,
              "ticks": ""
             }
            },
            "type": "scattercarpet"
           }
          ],
          "scattergeo": [
           {
            "marker": {
             "colorbar": {
              "outlinewidth": 0,
              "ticks": ""
             }
            },
            "type": "scattergeo"
           }
          ],
          "scattergl": [
           {
            "marker": {
             "colorbar": {
              "outlinewidth": 0,
              "ticks": ""
             }
            },
            "type": "scattergl"
           }
          ],
          "scattermapbox": [
           {
            "marker": {
             "colorbar": {
              "outlinewidth": 0,
              "ticks": ""
             }
            },
            "type": "scattermapbox"
           }
          ],
          "scatterpolar": [
           {
            "marker": {
             "colorbar": {
              "outlinewidth": 0,
              "ticks": ""
             }
            },
            "type": "scatterpolar"
           }
          ],
          "scatterpolargl": [
           {
            "marker": {
             "colorbar": {
              "outlinewidth": 0,
              "ticks": ""
             }
            },
            "type": "scatterpolargl"
           }
          ],
          "scatterternary": [
           {
            "marker": {
             "colorbar": {
              "outlinewidth": 0,
              "ticks": ""
             }
            },
            "type": "scatterternary"
           }
          ],
          "surface": [
           {
            "colorbar": {
             "outlinewidth": 0,
             "ticks": ""
            },
            "colorscale": [
             [
              0,
              "#0d0887"
             ],
             [
              0.1111111111111111,
              "#46039f"
             ],
             [
              0.2222222222222222,
              "#7201a8"
             ],
             [
              0.3333333333333333,
              "#9c179e"
             ],
             [
              0.4444444444444444,
              "#bd3786"
             ],
             [
              0.5555555555555556,
              "#d8576b"
             ],
             [
              0.6666666666666666,
              "#ed7953"
             ],
             [
              0.7777777777777778,
              "#fb9f3a"
             ],
             [
              0.8888888888888888,
              "#fdca26"
             ],
             [
              1,
              "#f0f921"
             ]
            ],
            "type": "surface"
           }
          ],
          "table": [
           {
            "cells": {
             "fill": {
              "color": "#EBF0F8"
             },
             "line": {
              "color": "white"
             }
            },
            "header": {
             "fill": {
              "color": "#C8D4E3"
             },
             "line": {
              "color": "white"
             }
            },
            "type": "table"
           }
          ]
         },
         "layout": {
          "annotationdefaults": {
           "arrowcolor": "#2a3f5f",
           "arrowhead": 0,
           "arrowwidth": 1
          },
          "autotypenumbers": "strict",
          "coloraxis": {
           "colorbar": {
            "outlinewidth": 0,
            "ticks": ""
           }
          },
          "colorscale": {
           "diverging": [
            [
             0,
             "#8e0152"
            ],
            [
             0.1,
             "#c51b7d"
            ],
            [
             0.2,
             "#de77ae"
            ],
            [
             0.3,
             "#f1b6da"
            ],
            [
             0.4,
             "#fde0ef"
            ],
            [
             0.5,
             "#f7f7f7"
            ],
            [
             0.6,
             "#e6f5d0"
            ],
            [
             0.7,
             "#b8e186"
            ],
            [
             0.8,
             "#7fbc41"
            ],
            [
             0.9,
             "#4d9221"
            ],
            [
             1,
             "#276419"
            ]
           ],
           "sequential": [
            [
             0,
             "#0d0887"
            ],
            [
             0.1111111111111111,
             "#46039f"
            ],
            [
             0.2222222222222222,
             "#7201a8"
            ],
            [
             0.3333333333333333,
             "#9c179e"
            ],
            [
             0.4444444444444444,
             "#bd3786"
            ],
            [
             0.5555555555555556,
             "#d8576b"
            ],
            [
             0.6666666666666666,
             "#ed7953"
            ],
            [
             0.7777777777777778,
             "#fb9f3a"
            ],
            [
             0.8888888888888888,
             "#fdca26"
            ],
            [
             1,
             "#f0f921"
            ]
           ],
           "sequentialminus": [
            [
             0,
             "#0d0887"
            ],
            [
             0.1111111111111111,
             "#46039f"
            ],
            [
             0.2222222222222222,
             "#7201a8"
            ],
            [
             0.3333333333333333,
             "#9c179e"
            ],
            [
             0.4444444444444444,
             "#bd3786"
            ],
            [
             0.5555555555555556,
             "#d8576b"
            ],
            [
             0.6666666666666666,
             "#ed7953"
            ],
            [
             0.7777777777777778,
             "#fb9f3a"
            ],
            [
             0.8888888888888888,
             "#fdca26"
            ],
            [
             1,
             "#f0f921"
            ]
           ]
          },
          "colorway": [
           "#636efa",
           "#EF553B",
           "#00cc96",
           "#ab63fa",
           "#FFA15A",
           "#19d3f3",
           "#FF6692",
           "#B6E880",
           "#FF97FF",
           "#FECB52"
          ],
          "font": {
           "color": "#2a3f5f"
          },
          "geo": {
           "bgcolor": "white",
           "lakecolor": "white",
           "landcolor": "#E5ECF6",
           "showlakes": true,
           "showland": true,
           "subunitcolor": "white"
          },
          "hoverlabel": {
           "align": "left"
          },
          "hovermode": "closest",
          "mapbox": {
           "style": "light"
          },
          "paper_bgcolor": "white",
          "plot_bgcolor": "#E5ECF6",
          "polar": {
           "angularaxis": {
            "gridcolor": "white",
            "linecolor": "white",
            "ticks": ""
           },
           "bgcolor": "#E5ECF6",
           "radialaxis": {
            "gridcolor": "white",
            "linecolor": "white",
            "ticks": ""
           }
          },
          "scene": {
           "xaxis": {
            "backgroundcolor": "#E5ECF6",
            "gridcolor": "white",
            "gridwidth": 2,
            "linecolor": "white",
            "showbackground": true,
            "ticks": "",
            "zerolinecolor": "white"
           },
           "yaxis": {
            "backgroundcolor": "#E5ECF6",
            "gridcolor": "white",
            "gridwidth": 2,
            "linecolor": "white",
            "showbackground": true,
            "ticks": "",
            "zerolinecolor": "white"
           },
           "zaxis": {
            "backgroundcolor": "#E5ECF6",
            "gridcolor": "white",
            "gridwidth": 2,
            "linecolor": "white",
            "showbackground": true,
            "ticks": "",
            "zerolinecolor": "white"
           }
          },
          "shapedefaults": {
           "line": {
            "color": "#2a3f5f"
           }
          },
          "ternary": {
           "aaxis": {
            "gridcolor": "white",
            "linecolor": "white",
            "ticks": ""
           },
           "baxis": {
            "gridcolor": "white",
            "linecolor": "white",
            "ticks": ""
           },
           "bgcolor": "#E5ECF6",
           "caxis": {
            "gridcolor": "white",
            "linecolor": "white",
            "ticks": ""
           }
          },
          "title": {
           "x": 0.05
          },
          "xaxis": {
           "automargin": true,
           "gridcolor": "white",
           "linecolor": "white",
           "ticks": "",
           "title": {
            "standoff": 15
           },
           "zerolinecolor": "white",
           "zerolinewidth": 2
          },
          "yaxis": {
           "automargin": true,
           "gridcolor": "white",
           "linecolor": "white",
           "ticks": "",
           "title": {
            "standoff": 15
           },
           "zerolinecolor": "white",
           "zerolinewidth": 2
          }
         }
        },
        "title": {
         "text": "OgeuIscB (H, Nishmasu):7xht"
        },
        "xaxis": {
         "anchor": "y",
         "domain": [
          0,
          1
         ],
         "title": {
          "text": "MFE (kcal/mol)"
         }
        },
        "yaxis": {
         "anchor": "x",
         "domain": [
          0,
          1
         ],
         "title": {
          "text": "CAI"
         }
        }
       }
      }
     },
     "metadata": {},
     "output_type": "display_data"
    },
    {
     "data": {
      "application/vnd.plotly.v1+json": {
       "config": {
        "plotlyServerURL": "https://plot.ly"
       },
       "data": [
        {
         "customdata": [
          [
           "WT SpCas9:chromosome:ASM1354v1:Chromosome:875719:879834:1",
           null
          ]
         ],
         "hovertemplate": "wildtype=True<br>MFE (kcal/mol)=%{x}<br>CAI=%{y}<br>Name=%{customdata[0]}<br>lambda=%{customdata[1]}<extra></extra>",
         "legendgroup": "True",
         "marker": {
          "color": "#636efa",
          "line": {
           "color": "DarkSlateGrey",
           "width": 2
          },
          "size": 12,
          "symbol": "circle"
         },
         "mode": "markers",
         "name": "True",
         "orientation": "v",
         "showlegend": true,
         "type": "scatter",
         "x": [
          -979.5
         ],
         "xaxis": "x",
         "y": [
          0.6407795734166258
         ],
         "yaxis": "y"
        },
        {
         "customdata": [
          [
           "WT SpCas9:chromosome:ASM1354v1:Chromosome:875719:879834:1",
           0
          ],
          [
           "WT SpCas9:chromosome:ASM1354v1:Chromosome:875719:879834:1",
           1
          ],
          [
           "WT SpCas9:chromosome:ASM1354v1:Chromosome:875719:879834:1",
           4
          ],
          [
           "WT SpCas9:chromosome:ASM1354v1:Chromosome:875719:879834:1",
           10
          ],
          [
           "WT SpCas9:chromosome:ASM1354v1:Chromosome:875719:879834:1",
           1000
          ]
         ],
         "hovertemplate": "wildtype=False<br>MFE (kcal/mol)=%{x}<br>CAI=%{y}<br>Name=%{customdata[0]}<br>lambda=%{customdata[1]}<extra></extra>",
         "legendgroup": "False",
         "marker": {
          "color": "#EF553B",
          "line": {
           "color": "DarkSlateGrey",
           "width": 2
          },
          "size": 12,
          "symbol": "circle"
         },
         "mode": "markers",
         "name": "False",
         "orientation": "v",
         "showlegend": true,
         "type": "scatter",
         "x": [
          -2516.9,
          -2450.9,
          -2068.3,
          -1788,
          -1464.3
         ],
         "xaxis": "x",
         "y": [
          0.751,
          0.844,
          0.956,
          0.989,
          1
         ],
         "yaxis": "y"
        }
       ],
       "layout": {
        "legend": {
         "title": {
          "text": "wildtype"
         },
         "tracegroupgap": 0
        },
        "template": {
         "data": {
          "bar": [
           {
            "error_x": {
             "color": "#2a3f5f"
            },
            "error_y": {
             "color": "#2a3f5f"
            },
            "marker": {
             "line": {
              "color": "#E5ECF6",
              "width": 0.5
             },
             "pattern": {
              "fillmode": "overlay",
              "size": 10,
              "solidity": 0.2
             }
            },
            "type": "bar"
           }
          ],
          "barpolar": [
           {
            "marker": {
             "line": {
              "color": "#E5ECF6",
              "width": 0.5
             },
             "pattern": {
              "fillmode": "overlay",
              "size": 10,
              "solidity": 0.2
             }
            },
            "type": "barpolar"
           }
          ],
          "carpet": [
           {
            "aaxis": {
             "endlinecolor": "#2a3f5f",
             "gridcolor": "white",
             "linecolor": "white",
             "minorgridcolor": "white",
             "startlinecolor": "#2a3f5f"
            },
            "baxis": {
             "endlinecolor": "#2a3f5f",
             "gridcolor": "white",
             "linecolor": "white",
             "minorgridcolor": "white",
             "startlinecolor": "#2a3f5f"
            },
            "type": "carpet"
           }
          ],
          "choropleth": [
           {
            "colorbar": {
             "outlinewidth": 0,
             "ticks": ""
            },
            "type": "choropleth"
           }
          ],
          "contour": [
           {
            "colorbar": {
             "outlinewidth": 0,
             "ticks": ""
            },
            "colorscale": [
             [
              0,
              "#0d0887"
             ],
             [
              0.1111111111111111,
              "#46039f"
             ],
             [
              0.2222222222222222,
              "#7201a8"
             ],
             [
              0.3333333333333333,
              "#9c179e"
             ],
             [
              0.4444444444444444,
              "#bd3786"
             ],
             [
              0.5555555555555556,
              "#d8576b"
             ],
             [
              0.6666666666666666,
              "#ed7953"
             ],
             [
              0.7777777777777778,
              "#fb9f3a"
             ],
             [
              0.8888888888888888,
              "#fdca26"
             ],
             [
              1,
              "#f0f921"
             ]
            ],
            "type": "contour"
           }
          ],
          "contourcarpet": [
           {
            "colorbar": {
             "outlinewidth": 0,
             "ticks": ""
            },
            "type": "contourcarpet"
           }
          ],
          "heatmap": [
           {
            "colorbar": {
             "outlinewidth": 0,
             "ticks": ""
            },
            "colorscale": [
             [
              0,
              "#0d0887"
             ],
             [
              0.1111111111111111,
              "#46039f"
             ],
             [
              0.2222222222222222,
              "#7201a8"
             ],
             [
              0.3333333333333333,
              "#9c179e"
             ],
             [
              0.4444444444444444,
              "#bd3786"
             ],
             [
              0.5555555555555556,
              "#d8576b"
             ],
             [
              0.6666666666666666,
              "#ed7953"
             ],
             [
              0.7777777777777778,
              "#fb9f3a"
             ],
             [
              0.8888888888888888,
              "#fdca26"
             ],
             [
              1,
              "#f0f921"
             ]
            ],
            "type": "heatmap"
           }
          ],
          "heatmapgl": [
           {
            "colorbar": {
             "outlinewidth": 0,
             "ticks": ""
            },
            "colorscale": [
             [
              0,
              "#0d0887"
             ],
             [
              0.1111111111111111,
              "#46039f"
             ],
             [
              0.2222222222222222,
              "#7201a8"
             ],
             [
              0.3333333333333333,
              "#9c179e"
             ],
             [
              0.4444444444444444,
              "#bd3786"
             ],
             [
              0.5555555555555556,
              "#d8576b"
             ],
             [
              0.6666666666666666,
              "#ed7953"
             ],
             [
              0.7777777777777778,
              "#fb9f3a"
             ],
             [
              0.8888888888888888,
              "#fdca26"
             ],
             [
              1,
              "#f0f921"
             ]
            ],
            "type": "heatmapgl"
           }
          ],
          "histogram": [
           {
            "marker": {
             "pattern": {
              "fillmode": "overlay",
              "size": 10,
              "solidity": 0.2
             }
            },
            "type": "histogram"
           }
          ],
          "histogram2d": [
           {
            "colorbar": {
             "outlinewidth": 0,
             "ticks": ""
            },
            "colorscale": [
             [
              0,
              "#0d0887"
             ],
             [
              0.1111111111111111,
              "#46039f"
             ],
             [
              0.2222222222222222,
              "#7201a8"
             ],
             [
              0.3333333333333333,
              "#9c179e"
             ],
             [
              0.4444444444444444,
              "#bd3786"
             ],
             [
              0.5555555555555556,
              "#d8576b"
             ],
             [
              0.6666666666666666,
              "#ed7953"
             ],
             [
              0.7777777777777778,
              "#fb9f3a"
             ],
             [
              0.8888888888888888,
              "#fdca26"
             ],
             [
              1,
              "#f0f921"
             ]
            ],
            "type": "histogram2d"
           }
          ],
          "histogram2dcontour": [
           {
            "colorbar": {
             "outlinewidth": 0,
             "ticks": ""
            },
            "colorscale": [
             [
              0,
              "#0d0887"
             ],
             [
              0.1111111111111111,
              "#46039f"
             ],
             [
              0.2222222222222222,
              "#7201a8"
             ],
             [
              0.3333333333333333,
              "#9c179e"
             ],
             [
              0.4444444444444444,
              "#bd3786"
             ],
             [
              0.5555555555555556,
              "#d8576b"
             ],
             [
              0.6666666666666666,
              "#ed7953"
             ],
             [
              0.7777777777777778,
              "#fb9f3a"
             ],
             [
              0.8888888888888888,
              "#fdca26"
             ],
             [
              1,
              "#f0f921"
             ]
            ],
            "type": "histogram2dcontour"
           }
          ],
          "mesh3d": [
           {
            "colorbar": {
             "outlinewidth": 0,
             "ticks": ""
            },
            "type": "mesh3d"
           }
          ],
          "parcoords": [
           {
            "line": {
             "colorbar": {
              "outlinewidth": 0,
              "ticks": ""
             }
            },
            "type": "parcoords"
           }
          ],
          "pie": [
           {
            "automargin": true,
            "type": "pie"
           }
          ],
          "scatter": [
           {
            "fillpattern": {
             "fillmode": "overlay",
             "size": 10,
             "solidity": 0.2
            },
            "type": "scatter"
           }
          ],
          "scatter3d": [
           {
            "line": {
             "colorbar": {
              "outlinewidth": 0,
              "ticks": ""
             }
            },
            "marker": {
             "colorbar": {
              "outlinewidth": 0,
              "ticks": ""
             }
            },
            "type": "scatter3d"
           }
          ],
          "scattercarpet": [
           {
            "marker": {
             "colorbar": {
              "outlinewidth": 0,
              "ticks": ""
             }
            },
            "type": "scattercarpet"
           }
          ],
          "scattergeo": [
           {
            "marker": {
             "colorbar": {
              "outlinewidth": 0,
              "ticks": ""
             }
            },
            "type": "scattergeo"
           }
          ],
          "scattergl": [
           {
            "marker": {
             "colorbar": {
              "outlinewidth": 0,
              "ticks": ""
             }
            },
            "type": "scattergl"
           }
          ],
          "scattermapbox": [
           {
            "marker": {
             "colorbar": {
              "outlinewidth": 0,
              "ticks": ""
             }
            },
            "type": "scattermapbox"
           }
          ],
          "scatterpolar": [
           {
            "marker": {
             "colorbar": {
              "outlinewidth": 0,
              "ticks": ""
             }
            },
            "type": "scatterpolar"
           }
          ],
          "scatterpolargl": [
           {
            "marker": {
             "colorbar": {
              "outlinewidth": 0,
              "ticks": ""
             }
            },
            "type": "scatterpolargl"
           }
          ],
          "scatterternary": [
           {
            "marker": {
             "colorbar": {
              "outlinewidth": 0,
              "ticks": ""
             }
            },
            "type": "scatterternary"
           }
          ],
          "surface": [
           {
            "colorbar": {
             "outlinewidth": 0,
             "ticks": ""
            },
            "colorscale": [
             [
              0,
              "#0d0887"
             ],
             [
              0.1111111111111111,
              "#46039f"
             ],
             [
              0.2222222222222222,
              "#7201a8"
             ],
             [
              0.3333333333333333,
              "#9c179e"
             ],
             [
              0.4444444444444444,
              "#bd3786"
             ],
             [
              0.5555555555555556,
              "#d8576b"
             ],
             [
              0.6666666666666666,
              "#ed7953"
             ],
             [
              0.7777777777777778,
              "#fb9f3a"
             ],
             [
              0.8888888888888888,
              "#fdca26"
             ],
             [
              1,
              "#f0f921"
             ]
            ],
            "type": "surface"
           }
          ],
          "table": [
           {
            "cells": {
             "fill": {
              "color": "#EBF0F8"
             },
             "line": {
              "color": "white"
             }
            },
            "header": {
             "fill": {
              "color": "#C8D4E3"
             },
             "line": {
              "color": "white"
             }
            },
            "type": "table"
           }
          ]
         },
         "layout": {
          "annotationdefaults": {
           "arrowcolor": "#2a3f5f",
           "arrowhead": 0,
           "arrowwidth": 1
          },
          "autotypenumbers": "strict",
          "coloraxis": {
           "colorbar": {
            "outlinewidth": 0,
            "ticks": ""
           }
          },
          "colorscale": {
           "diverging": [
            [
             0,
             "#8e0152"
            ],
            [
             0.1,
             "#c51b7d"
            ],
            [
             0.2,
             "#de77ae"
            ],
            [
             0.3,
             "#f1b6da"
            ],
            [
             0.4,
             "#fde0ef"
            ],
            [
             0.5,
             "#f7f7f7"
            ],
            [
             0.6,
             "#e6f5d0"
            ],
            [
             0.7,
             "#b8e186"
            ],
            [
             0.8,
             "#7fbc41"
            ],
            [
             0.9,
             "#4d9221"
            ],
            [
             1,
             "#276419"
            ]
           ],
           "sequential": [
            [
             0,
             "#0d0887"
            ],
            [
             0.1111111111111111,
             "#46039f"
            ],
            [
             0.2222222222222222,
             "#7201a8"
            ],
            [
             0.3333333333333333,
             "#9c179e"
            ],
            [
             0.4444444444444444,
             "#bd3786"
            ],
            [
             0.5555555555555556,
             "#d8576b"
            ],
            [
             0.6666666666666666,
             "#ed7953"
            ],
            [
             0.7777777777777778,
             "#fb9f3a"
            ],
            [
             0.8888888888888888,
             "#fdca26"
            ],
            [
             1,
             "#f0f921"
            ]
           ],
           "sequentialminus": [
            [
             0,
             "#0d0887"
            ],
            [
             0.1111111111111111,
             "#46039f"
            ],
            [
             0.2222222222222222,
             "#7201a8"
            ],
            [
             0.3333333333333333,
             "#9c179e"
            ],
            [
             0.4444444444444444,
             "#bd3786"
            ],
            [
             0.5555555555555556,
             "#d8576b"
            ],
            [
             0.6666666666666666,
             "#ed7953"
            ],
            [
             0.7777777777777778,
             "#fb9f3a"
            ],
            [
             0.8888888888888888,
             "#fdca26"
            ],
            [
             1,
             "#f0f921"
            ]
           ]
          },
          "colorway": [
           "#636efa",
           "#EF553B",
           "#00cc96",
           "#ab63fa",
           "#FFA15A",
           "#19d3f3",
           "#FF6692",
           "#B6E880",
           "#FF97FF",
           "#FECB52"
          ],
          "font": {
           "color": "#2a3f5f"
          },
          "geo": {
           "bgcolor": "white",
           "lakecolor": "white",
           "landcolor": "#E5ECF6",
           "showlakes": true,
           "showland": true,
           "subunitcolor": "white"
          },
          "hoverlabel": {
           "align": "left"
          },
          "hovermode": "closest",
          "mapbox": {
           "style": "light"
          },
          "paper_bgcolor": "white",
          "plot_bgcolor": "#E5ECF6",
          "polar": {
           "angularaxis": {
            "gridcolor": "white",
            "linecolor": "white",
            "ticks": ""
           },
           "bgcolor": "#E5ECF6",
           "radialaxis": {
            "gridcolor": "white",
            "linecolor": "white",
            "ticks": ""
           }
          },
          "scene": {
           "xaxis": {
            "backgroundcolor": "#E5ECF6",
            "gridcolor": "white",
            "gridwidth": 2,
            "linecolor": "white",
            "showbackground": true,
            "ticks": "",
            "zerolinecolor": "white"
           },
           "yaxis": {
            "backgroundcolor": "#E5ECF6",
            "gridcolor": "white",
            "gridwidth": 2,
            "linecolor": "white",
            "showbackground": true,
            "ticks": "",
            "zerolinecolor": "white"
           },
           "zaxis": {
            "backgroundcolor": "#E5ECF6",
            "gridcolor": "white",
            "gridwidth": 2,
            "linecolor": "white",
            "showbackground": true,
            "ticks": "",
            "zerolinecolor": "white"
           }
          },
          "shapedefaults": {
           "line": {
            "color": "#2a3f5f"
           }
          },
          "ternary": {
           "aaxis": {
            "gridcolor": "white",
            "linecolor": "white",
            "ticks": ""
           },
           "baxis": {
            "gridcolor": "white",
            "linecolor": "white",
            "ticks": ""
           },
           "bgcolor": "#E5ECF6",
           "caxis": {
            "gridcolor": "white",
            "linecolor": "white",
            "ticks": ""
           }
          },
          "title": {
           "x": 0.05
          },
          "xaxis": {
           "automargin": true,
           "gridcolor": "white",
           "linecolor": "white",
           "ticks": "",
           "title": {
            "standoff": 15
           },
           "zerolinecolor": "white",
           "zerolinewidth": 2
          },
          "yaxis": {
           "automargin": true,
           "gridcolor": "white",
           "linecolor": "white",
           "ticks": "",
           "title": {
            "standoff": 15
           },
           "zerolinecolor": "white",
           "zerolinewidth": 2
          }
         }
        },
        "title": {
         "text": "WT SpCas9:chromosome:ASM1354v1:Chromosome:875719:879834:1"
        },
        "xaxis": {
         "anchor": "y",
         "domain": [
          0,
          1
         ],
         "title": {
          "text": "MFE (kcal/mol)"
         }
        },
        "yaxis": {
         "anchor": "x",
         "domain": [
          0,
          1
         ],
         "title": {
          "text": "CAI"
         }
        }
       }
      }
     },
     "metadata": {},
     "output_type": "display_data"
    }
   ],
   "source": [
    "def vis(group):\n",
    "    fig = px.scatter(group, x=\"MFE (kcal/mol)\", y=\"CAI\", color=\"wildtype\", hover_data=[\"Name\", \"lambda\"], title=f\"{group.iloc[0]['Name']}\")\n",
    "    fig.update_traces(marker=dict(size=12,\n",
    "                              line=dict(width=2,\n",
    "                                        color='DarkSlateGrey')),\n",
    "                  selector=dict(mode='markers'))\n",
    "    fig.show()\n",
    "    fig.write_html(f\"./plots/{group.iloc[0]['Name']}.html\")\n",
    "    fig.write_image(f\"./plots/{group.iloc[0]['Name']}.png\")\n",
    "\n",
    "for name, group in protein_group:\n",
    "    vis(group)"
   ]
  },
  {
   "cell_type": "code",
   "execution_count": null,
   "metadata": {},
   "outputs": [],
   "source": []
  }
 ],
 "metadata": {
  "kernelspec": {
   "display_name": "Python 3",
   "language": "python",
   "name": "python3"
  },
  "language_info": {
   "codemirror_mode": {
    "name": "ipython",
    "version": 3
   },
   "file_extension": ".py",
   "mimetype": "text/x-python",
   "name": "python",
   "nbconvert_exporter": "python",
   "pygments_lexer": "ipython3",
   "version": "3.9.16"
  },
  "orig_nbformat": 4
 },
 "nbformat": 4,
 "nbformat_minor": 2
}
