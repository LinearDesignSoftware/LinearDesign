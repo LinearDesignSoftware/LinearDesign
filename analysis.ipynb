{
 "cells": [
  {
   "cell_type": "code",
   "execution_count": 1,
   "metadata": {},
   "outputs": [],
   "source": [
    "import pandas as pd\n",
    "import numpy as np\n",
    "from ViennaRNA import RNA\n",
    "from cai import calc_cai\n",
    "from text_processing import input_preprocessing"
   ]
  },
  {
   "cell_type": "code",
   "execution_count": 2,
   "metadata": {},
   "outputs": [],
   "source": [
    "DESIGN_PATH = \"./designs/proteins/nuclease_wildtype.fasta+design.csv\"\n",
    "BASELINE_PATH = \"./designs/proteins/nuclease_wildtype_RNA.fasta\""
   ]
  },
  {
   "cell_type": "code",
   "execution_count": 3,
   "metadata": {},
   "outputs": [],
   "source": [
    "def parse_fasta(text: str):\n",
    "    text = text.strip()\n",
    "    text = text.replace(\">\", \"\")\n",
    "    return text\n",
    "\n",
    "preprocessed_input_path = input_preprocessing(BASELINE_PATH, mode=\"RNA\")\n",
    "\n",
    "with open(preprocessed_input_path, \"r\") as f:\n",
    "    baselines = f.readlines()\n",
    "    baselines = list(map(lambda x: parse_fasta(x), baselines))\n",
    "\n",
    "baselines = pd.DataFrame(np.array(baselines).reshape(-1, 2), columns=[\"Name\", \"mRNA sequence\"])"
   ]
  },
  {
   "cell_type": "code",
   "execution_count": 4,
   "metadata": {},
   "outputs": [],
   "source": [
    "def get_mfe(rna_sequence):\n",
    "    ss, mfe = RNA.fold(rna_sequence)\n",
    "\n",
    "    return ss, mfe\n",
    "\n",
    "\n",
    "baselines[\"mRNA structure\"], baselines[\"MFE (kcal/mol)\"] = zip(*baselines[\"mRNA sequence\"].map(get_mfe))\n"
   ]
  },
  {
   "cell_type": "code",
   "execution_count": 5,
   "metadata": {},
   "outputs": [
    {
     "data": {
      "text/html": [
       "<div>\n",
       "<style scoped>\n",
       "    .dataframe tbody tr th:only-of-type {\n",
       "        vertical-align: middle;\n",
       "    }\n",
       "\n",
       "    .dataframe tbody tr th {\n",
       "        vertical-align: top;\n",
       "    }\n",
       "\n",
       "    .dataframe thead th {\n",
       "        text-align: right;\n",
       "    }\n",
       "</style>\n",
       "<table border=\"1\" class=\"dataframe\">\n",
       "  <thead>\n",
       "    <tr style=\"text-align: right;\">\n",
       "      <th></th>\n",
       "      <th>Name</th>\n",
       "      <th>mRNA sequence</th>\n",
       "      <th>mRNA structure</th>\n",
       "      <th>MFE (kcal/mol)</th>\n",
       "    </tr>\n",
       "  </thead>\n",
       "  <tbody>\n",
       "    <tr>\n",
       "      <th>0</th>\n",
       "      <td>52962_Lenti_Cas9_BSD [2886-7526]</td>\n",
       "      <td>AUGGACAAGAAGUACAGCAUCGGCCUGGACAUCGGCACCAACUCUG...</td>\n",
       "      <td>((((...((((((((....((((((((..(..((((.(((.(((.....</td>\n",
       "      <td>-1580.400024</td>\n",
       "    </tr>\n",
       "    <tr>\n",
       "      <th>1</th>\n",
       "      <td>pLenti-IscB-P2A-BSD_KJY [2886-4955]</td>\n",
       "      <td>augaaacggacagccgacggaagcgaguucgagucaccaaagaaga...</td>\n",
       "      <td>..........((((....((..(((...(((.(((((((..........</td>\n",
       "      <td>-733.799988</td>\n",
       "    </tr>\n",
       "    <tr>\n",
       "      <th>2</th>\n",
       "      <td>pLenti-TnpB-P2A-BSD_KJY [2886-4691]</td>\n",
       "      <td>augaaacggacagccgacggaagcgaguucgagucaccaaagaaga...</td>\n",
       "      <td>.......(((((((((((((((((...((((..((.........))...</td>\n",
       "      <td>-633.900024</td>\n",
       "    </tr>\n",
       "  </tbody>\n",
       "</table>\n",
       "</div>"
      ],
      "text/plain": [
       "                                  Name   \n",
       "0     52962_Lenti_Cas9_BSD [2886-7526]  \\\n",
       "1  pLenti-IscB-P2A-BSD_KJY [2886-4955]   \n",
       "2  pLenti-TnpB-P2A-BSD_KJY [2886-4691]   \n",
       "\n",
       "                                       mRNA sequence   \n",
       "0  AUGGACAAGAAGUACAGCAUCGGCCUGGACAUCGGCACCAACUCUG...  \\\n",
       "1  augaaacggacagccgacggaagcgaguucgagucaccaaagaaga...   \n",
       "2  augaaacggacagccgacggaagcgaguucgagucaccaaagaaga...   \n",
       "\n",
       "                                      mRNA structure  MFE (kcal/mol)  \n",
       "0  ((((...((((((((....((((((((..(..((((.(((.(((.....    -1580.400024  \n",
       "1  ..........((((....((..(((...(((.(((((((..........     -733.799988  \n",
       "2  .......(((((((((((((((((...((((..((.........))...     -633.900024  "
      ]
     },
     "execution_count": 5,
     "metadata": {},
     "output_type": "execute_result"
    }
   ],
   "source": [
    "baselines"
   ]
  },
  {
   "cell_type": "code",
   "execution_count": 6,
   "metadata": {},
   "outputs": [],
   "source": [
    "baselines[\"CAI\"] = baselines[\"mRNA sequence\"].apply(lambda x: calc_cai(x))\n",
    "baselines[\"lambda\"] = np.nan\n",
    "baselines[\"wildtype\"] = True"
   ]
  },
  {
   "cell_type": "code",
   "execution_count": 7,
   "metadata": {},
   "outputs": [
    {
     "data": {
      "text/html": [
       "<div>\n",
       "<style scoped>\n",
       "    .dataframe tbody tr th:only-of-type {\n",
       "        vertical-align: middle;\n",
       "    }\n",
       "\n",
       "    .dataframe tbody tr th {\n",
       "        vertical-align: top;\n",
       "    }\n",
       "\n",
       "    .dataframe thead th {\n",
       "        text-align: right;\n",
       "    }\n",
       "</style>\n",
       "<table border=\"1\" class=\"dataframe\">\n",
       "  <thead>\n",
       "    <tr style=\"text-align: right;\">\n",
       "      <th></th>\n",
       "      <th>Name</th>\n",
       "      <th>mRNA sequence</th>\n",
       "      <th>mRNA structure</th>\n",
       "      <th>MFE (kcal/mol)</th>\n",
       "      <th>CAI</th>\n",
       "      <th>lambda</th>\n",
       "      <th>wildtype</th>\n",
       "    </tr>\n",
       "  </thead>\n",
       "  <tbody>\n",
       "    <tr>\n",
       "      <th>0</th>\n",
       "      <td>52962_Lenti_Cas9_BSD [2886-7526]</td>\n",
       "      <td>AUGGACAAGAAGUACAGCAUCGGCCUGGACAUCGGCACCAACUCUG...</td>\n",
       "      <td>((((...((((((((....((((((((..(..((((.(((.(((.....</td>\n",
       "      <td>-1580.400024</td>\n",
       "      <td>0.931062</td>\n",
       "      <td>NaN</td>\n",
       "      <td>True</td>\n",
       "    </tr>\n",
       "    <tr>\n",
       "      <th>1</th>\n",
       "      <td>pLenti-IscB-P2A-BSD_KJY [2886-4955]</td>\n",
       "      <td>augaaacggacagccgacggaagcgaguucgagucaccaaagaaga...</td>\n",
       "      <td>..........((((....((..(((...(((.(((((((..........</td>\n",
       "      <td>-733.799988</td>\n",
       "      <td>0.875812</td>\n",
       "      <td>NaN</td>\n",
       "      <td>True</td>\n",
       "    </tr>\n",
       "    <tr>\n",
       "      <th>2</th>\n",
       "      <td>pLenti-TnpB-P2A-BSD_KJY [2886-4691]</td>\n",
       "      <td>augaaacggacagccgacggaagcgaguucgagucaccaaagaaga...</td>\n",
       "      <td>.......(((((((((((((((((...((((..((.........))...</td>\n",
       "      <td>-633.900024</td>\n",
       "      <td>0.870357</td>\n",
       "      <td>NaN</td>\n",
       "      <td>True</td>\n",
       "    </tr>\n",
       "  </tbody>\n",
       "</table>\n",
       "</div>"
      ],
      "text/plain": [
       "                                  Name   \n",
       "0     52962_Lenti_Cas9_BSD [2886-7526]  \\\n",
       "1  pLenti-IscB-P2A-BSD_KJY [2886-4955]   \n",
       "2  pLenti-TnpB-P2A-BSD_KJY [2886-4691]   \n",
       "\n",
       "                                       mRNA sequence   \n",
       "0  AUGGACAAGAAGUACAGCAUCGGCCUGGACAUCGGCACCAACUCUG...  \\\n",
       "1  augaaacggacagccgacggaagcgaguucgagucaccaaagaaga...   \n",
       "2  augaaacggacagccgacggaagcgaguucgagucaccaaagaaga...   \n",
       "\n",
       "                                      mRNA structure  MFE (kcal/mol)   \n",
       "0  ((((...((((((((....((((((((..(..((((.(((.(((.....    -1580.400024  \\\n",
       "1  ..........((((....((..(((...(((.(((((((..........     -733.799988   \n",
       "2  .......(((((((((((((((((...((((..((.........))...     -633.900024   \n",
       "\n",
       "        CAI  lambda  wildtype  \n",
       "0  0.931062     NaN      True  \n",
       "1  0.875812     NaN      True  \n",
       "2  0.870357     NaN      True  "
      ]
     },
     "execution_count": 7,
     "metadata": {},
     "output_type": "execute_result"
    }
   ],
   "source": [
    "baselines"
   ]
  },
  {
   "cell_type": "code",
   "execution_count": 19,
   "metadata": {},
   "outputs": [
    {
     "data": {
      "text/html": [
       "<div>\n",
       "<style scoped>\n",
       "    .dataframe tbody tr th:only-of-type {\n",
       "        vertical-align: middle;\n",
       "    }\n",
       "\n",
       "    .dataframe tbody tr th {\n",
       "        vertical-align: top;\n",
       "    }\n",
       "\n",
       "    .dataframe thead th {\n",
       "        text-align: right;\n",
       "    }\n",
       "</style>\n",
       "<table border=\"1\" class=\"dataframe\">\n",
       "  <thead>\n",
       "    <tr style=\"text-align: right;\">\n",
       "      <th></th>\n",
       "      <th>Name</th>\n",
       "      <th>mRNA sequence</th>\n",
       "      <th>mRNA structure</th>\n",
       "      <th>MFE (kcal/mol)</th>\n",
       "      <th>CAI</th>\n",
       "      <th>lambda</th>\n",
       "      <th>wildtype</th>\n",
       "    </tr>\n",
       "  </thead>\n",
       "  <tbody>\n",
       "    <tr>\n",
       "      <th>0</th>\n",
       "      <td>pLenti-TnpB-P2A-BSD_KJY [2886-4691]</td>\n",
       "      <td>AUGAAGCGCACUGCCGACGGGUCCGAGUUUGAGAGCCCGAAGAAGA...</td>\n",
       "      <td>(((((((((((((((((.(((((((.(((((.(((((((..........</td>\n",
       "      <td>-1268.4</td>\n",
       "      <td>0.751</td>\n",
       "      <td>0.0</td>\n",
       "      <td>False</td>\n",
       "    </tr>\n",
       "    <tr>\n",
       "      <th>1</th>\n",
       "      <td>52962_Lenti_Cas9_BSD [2886-7526]</td>\n",
       "      <td>AUGGACAAGAAGUACUCCAUCGGCCUUGACAUUGGCACUAAUUCCG...</td>\n",
       "      <td>...............((((((((((((((((.((((..((((((((...</td>\n",
       "      <td>-2901.8</td>\n",
       "      <td>0.759</td>\n",
       "      <td>0.0</td>\n",
       "      <td>False</td>\n",
       "    </tr>\n",
       "    <tr>\n",
       "      <th>2</th>\n",
       "      <td>pLenti-IscB-P2A-BSD_KJY [2886-4955]</td>\n",
       "      <td>AUGAAGCGUACCGCCGACGGGAGCGAGUUCGAGAGUCCCAAGAAGA...</td>\n",
       "      <td>.(.(((((((((.((((((((((.(((((((.(((((((((.(......</td>\n",
       "      <td>-1427.8</td>\n",
       "      <td>0.740</td>\n",
       "      <td>0.0</td>\n",
       "      <td>False</td>\n",
       "    </tr>\n",
       "    <tr>\n",
       "      <th>3</th>\n",
       "      <td>pLenti-TnpB-P2A-BSD_KJY [2886-4691]</td>\n",
       "      <td>AUGAAGCGCACUGCCGACGGGUCCGAGUUUGAGAGCCCGAAGAAGA...</td>\n",
       "      <td>(((((((((((((((((.(((((((.(((((.(((((((..........</td>\n",
       "      <td>-1268.4</td>\n",
       "      <td>0.756</td>\n",
       "      <td>0.1</td>\n",
       "      <td>False</td>\n",
       "    </tr>\n",
       "    <tr>\n",
       "      <th>4</th>\n",
       "      <td>52962_Lenti_Cas9_BSD [2886-7526]</td>\n",
       "      <td>AUGGACAAGAAGUACUCCAUCGGCCUUGACAUUGGCACUAAUUCCG...</td>\n",
       "      <td>...............((((((((((((((((.((((..((((((((...</td>\n",
       "      <td>-2901.4</td>\n",
       "      <td>0.768</td>\n",
       "      <td>0.1</td>\n",
       "      <td>False</td>\n",
       "    </tr>\n",
       "    <tr>\n",
       "      <th>5</th>\n",
       "      <td>pLenti-IscB-P2A-BSD_KJY [2886-4955]</td>\n",
       "      <td>AUGAAGCGUACCGCGGACGGGAGCGAGUUCGAGAGUCCCAAGAAGA...</td>\n",
       "      <td>.(.(((((((((.((((((((((.(((((((.(((((((((.(......</td>\n",
       "      <td>-1427.6</td>\n",
       "      <td>0.757</td>\n",
       "      <td>0.1</td>\n",
       "      <td>False</td>\n",
       "    </tr>\n",
       "    <tr>\n",
       "      <th>6</th>\n",
       "      <td>pLenti-TnpB-P2A-BSD_KJY [2886-4691]</td>\n",
       "      <td>AUGAAGCGCACUGCCGACGGGUCCGAGUUUGAGAGCCCGAAGAAGA...</td>\n",
       "      <td>(((((((((((((((((.(((((((.(((((.(((((((..........</td>\n",
       "      <td>-1268.4</td>\n",
       "      <td>0.756</td>\n",
       "      <td>0.2</td>\n",
       "      <td>False</td>\n",
       "    </tr>\n",
       "    <tr>\n",
       "      <th>7</th>\n",
       "      <td>52962_Lenti_Cas9_BSD [2886-7526]</td>\n",
       "      <td>AUGGACAAGAAGUACUCCAUCGGCCUUGACAUUGGCACUAAUUCCG...</td>\n",
       "      <td>...............((((((((((((((((.((((..((((((((...</td>\n",
       "      <td>-2898.3</td>\n",
       "      <td>0.777</td>\n",
       "      <td>0.2</td>\n",
       "      <td>False</td>\n",
       "    </tr>\n",
       "    <tr>\n",
       "      <th>8</th>\n",
       "      <td>pLenti-IscB-P2A-BSD_KJY [2886-4955]</td>\n",
       "      <td>AUGAAGCGUACCGCGGACGGCAGCGAGUUCGAGAGUCCCAAGAAGA...</td>\n",
       "      <td>.(.(((((((((.((((((((((.(((((((.(((((((((.(......</td>\n",
       "      <td>-1427.1</td>\n",
       "      <td>0.760</td>\n",
       "      <td>0.2</td>\n",
       "      <td>False</td>\n",
       "    </tr>\n",
       "    <tr>\n",
       "      <th>9</th>\n",
       "      <td>pLenti-TnpB-P2A-BSD_KJY [2886-4691]</td>\n",
       "      <td>AUGAAGCGCACCGCGGACGGCUCUGAGUUCGAGUCACCUAAGAAGA...</td>\n",
       "      <td>.....((((((((((((.(((.((...((((((((((((..........</td>\n",
       "      <td>-1259.9</td>\n",
       "      <td>0.794</td>\n",
       "      <td>0.5</td>\n",
       "      <td>False</td>\n",
       "    </tr>\n",
       "    <tr>\n",
       "      <th>10</th>\n",
       "      <td>52962_Lenti_Cas9_BSD [2886-7526]</td>\n",
       "      <td>AUGGACAAGAAGUACUCCAUCGGCCUUGACAUUGGCACUAAUUCCG...</td>\n",
       "      <td>...............((((((((((((((((.((((..(((((((....</td>\n",
       "      <td>-2882.9</td>\n",
       "      <td>0.800</td>\n",
       "      <td>0.5</td>\n",
       "      <td>False</td>\n",
       "    </tr>\n",
       "    <tr>\n",
       "      <th>11</th>\n",
       "      <td>pLenti-IscB-P2A-BSD_KJY [2886-4955]</td>\n",
       "      <td>AUGAAGCGGACAGCGGAUGGUAGUGAGUUCGAGUCCCCGAAGAAGA...</td>\n",
       "      <td>.....((((((((((.((((((.(..((((..((((((((.........</td>\n",
       "      <td>-1418.0</td>\n",
       "      <td>0.798</td>\n",
       "      <td>0.5</td>\n",
       "      <td>False</td>\n",
       "    </tr>\n",
       "    <tr>\n",
       "      <th>12</th>\n",
       "      <td>pLenti-TnpB-P2A-BSD_KJY [2886-4691]</td>\n",
       "      <td>AUGAAGCGCACCGCGGACGGCUCUGAGUUCGAGUCACCUAAGAAGA...</td>\n",
       "      <td>......(((((((((((.(((.((...((((((((((((..........</td>\n",
       "      <td>-1233.8</td>\n",
       "      <td>0.837</td>\n",
       "      <td>1.0</td>\n",
       "      <td>False</td>\n",
       "    </tr>\n",
       "    <tr>\n",
       "      <th>13</th>\n",
       "      <td>52962_Lenti_Cas9_BSD [2886-7526]</td>\n",
       "      <td>AUGGACAAGAAGUACUCCAUCGGCCUUGACAUUGGCACUAAUUCCG...</td>\n",
       "      <td>...............((((((((((((((((.((((..((((((((...</td>\n",
       "      <td>-2836.1</td>\n",
       "      <td>0.833</td>\n",
       "      <td>1.0</td>\n",
       "      <td>False</td>\n",
       "    </tr>\n",
       "    <tr>\n",
       "      <th>14</th>\n",
       "      <td>pLenti-IscB-P2A-BSD_KJY [2886-4955]</td>\n",
       "      <td>AUGAAGCGGACAGCCGAUGGGUCCGAGUUCGAGUCUCCCAAGAAGA...</td>\n",
       "      <td>.....((((((((((((((((((((.(((((.((((((((((((.(...</td>\n",
       "      <td>-1390.2</td>\n",
       "      <td>0.848</td>\n",
       "      <td>1.0</td>\n",
       "      <td>False</td>\n",
       "    </tr>\n",
       "    <tr>\n",
       "      <th>15</th>\n",
       "      <td>pLenti-TnpB-P2A-BSD_KJY [2886-4691]</td>\n",
       "      <td>AUGAAGCGGACGGCCGACGGCAGCGAGUUCGAGAGCCCCAAGAAGA...</td>\n",
       "      <td>.((.(((((.((((((.((((((((..(((((((((((((.(.......</td>\n",
       "      <td>-1177.0</td>\n",
       "      <td>0.890</td>\n",
       "      <td>2.0</td>\n",
       "      <td>False</td>\n",
       "    </tr>\n",
       "    <tr>\n",
       "      <th>16</th>\n",
       "      <td>52962_Lenti_Cas9_BSD [2886-7526]</td>\n",
       "      <td>AUGGACAAGAAGUACUCCAUCGGUCUGGAUAUCGGCACCAACUCCG...</td>\n",
       "      <td>...........((((((.((((((...(((..((((.(((((((.....</td>\n",
       "      <td>-2671.8</td>\n",
       "      <td>0.899</td>\n",
       "      <td>2.0</td>\n",
       "      <td>False</td>\n",
       "    </tr>\n",
       "    <tr>\n",
       "      <th>17</th>\n",
       "      <td>pLenti-IscB-P2A-BSD_KJY [2886-4955]</td>\n",
       "      <td>AUGAAGCGGACUGCCGACGGCAGUGAGUUUGAGUCACCAAAGAAGA...</td>\n",
       "      <td>.....(((((.((((((((((((((.(((((((((((((..........</td>\n",
       "      <td>-1353.3</td>\n",
       "      <td>0.879</td>\n",
       "      <td>2.0</td>\n",
       "      <td>False</td>\n",
       "    </tr>\n",
       "    <tr>\n",
       "      <th>18</th>\n",
       "      <td>pLenti-TnpB-P2A-BSD_KJY [2886-4691]</td>\n",
       "      <td>AUGAAGCGCACCGCCGACGGCUCUGAGUUCGAGUCACCUAAGAAGA...</td>\n",
       "      <td>.....(((((((((.((.(((.((...((((((((((((..........</td>\n",
       "      <td>-1028.6</td>\n",
       "      <td>0.960</td>\n",
       "      <td>5.0</td>\n",
       "      <td>False</td>\n",
       "    </tr>\n",
       "    <tr>\n",
       "      <th>19</th>\n",
       "      <td>52962_Lenti_Cas9_BSD [2886-7526]</td>\n",
       "      <td>AUGGACAAGAAGUACUCCAUCGGCCUGGACAUCGGCACCAACUCCG...</td>\n",
       "      <td>.....((....((((((.(((((..(((.((.((((.(((((((.....</td>\n",
       "      <td>-2292.4</td>\n",
       "      <td>0.966</td>\n",
       "      <td>5.0</td>\n",
       "      <td>False</td>\n",
       "    </tr>\n",
       "    <tr>\n",
       "      <th>20</th>\n",
       "      <td>pLenti-IscB-P2A-BSD_KJY [2886-4955]</td>\n",
       "      <td>AUGAAGCGGACCGCUGACGGCAGCGAGUUCGAGAGCCCUAAGAAGA...</td>\n",
       "      <td>......((((((((((....))))).)))))..((((((..........</td>\n",
       "      <td>-1153.6</td>\n",
       "      <td>0.965</td>\n",
       "      <td>5.0</td>\n",
       "      <td>False</td>\n",
       "    </tr>\n",
       "    <tr>\n",
       "      <th>21</th>\n",
       "      <td>pLenti-TnpB-P2A-BSD_KJY [2886-4691]</td>\n",
       "      <td>AUGAAGCGGACCGCCGACGGCUCCGAGUUCGAGAGCCCCAAGAAGA...</td>\n",
       "      <td>.((..(((((.((((..((((((((....)).)))))............</td>\n",
       "      <td>-921.0</td>\n",
       "      <td>0.985</td>\n",
       "      <td>10.0</td>\n",
       "      <td>False</td>\n",
       "    </tr>\n",
       "    <tr>\n",
       "      <th>22</th>\n",
       "      <td>52962_Lenti_Cas9_BSD [2886-7526]</td>\n",
       "      <td>AUGGACAAGAAGUACUCCAUCGGCCUGGACAUCGGCACCAACAGCG...</td>\n",
       "      <td>...........((((((.(((((..(((.((.((((.(((...((....</td>\n",
       "      <td>-2020.2</td>\n",
       "      <td>0.992</td>\n",
       "      <td>10.0</td>\n",
       "      <td>False</td>\n",
       "    </tr>\n",
       "    <tr>\n",
       "      <th>23</th>\n",
       "      <td>pLenti-IscB-P2A-BSD_KJY [2886-4955]</td>\n",
       "      <td>AUGAAGCGCACCGCCGACGGCUCCGAGUUCGAGAGCCCCAAGAAGA...</td>\n",
       "      <td>.....((.((((.(((..(((((((....)).)))))............</td>\n",
       "      <td>-1019.0</td>\n",
       "      <td>0.990</td>\n",
       "      <td>10.0</td>\n",
       "      <td>False</td>\n",
       "    </tr>\n",
       "    <tr>\n",
       "      <th>24</th>\n",
       "      <td>pLenti-TnpB-P2A-BSD_KJY [2886-4691]</td>\n",
       "      <td>AUGAAGCGGACCGCCGACGGCAGCGAGUUCGAGAGCCCCAAGAAGA...</td>\n",
       "      <td>............((((.((((.(((.((((((..(((((..........</td>\n",
       "      <td>-746.4</td>\n",
       "      <td>1.000</td>\n",
       "      <td>1000.0</td>\n",
       "      <td>False</td>\n",
       "    </tr>\n",
       "    <tr>\n",
       "      <th>25</th>\n",
       "      <td>52962_Lenti_Cas9_BSD [2886-7526]</td>\n",
       "      <td>AUGGACAAGAAGUACAGCAUCGGCCUGGACAUCGGCACCAACAGCG...</td>\n",
       "      <td>...............((((((.(((.((.(((((((..((.((((....</td>\n",
       "      <td>-1711.3</td>\n",
       "      <td>1.000</td>\n",
       "      <td>1000.0</td>\n",
       "      <td>False</td>\n",
       "    </tr>\n",
       "    <tr>\n",
       "      <th>26</th>\n",
       "      <td>pLenti-IscB-P2A-BSD_KJY [2886-4955]</td>\n",
       "      <td>AUGAAGCGGACCGCCGACGGCAGCGAGUUCGAGAGCCCCAAGAAGA...</td>\n",
       "      <td>......((((((((........))).)))))..(((((...........</td>\n",
       "      <td>-864.3</td>\n",
       "      <td>1.000</td>\n",
       "      <td>1000.0</td>\n",
       "      <td>False</td>\n",
       "    </tr>\n",
       "  </tbody>\n",
       "</table>\n",
       "</div>"
      ],
      "text/plain": [
       "                                   Name   \n",
       "0   pLenti-TnpB-P2A-BSD_KJY [2886-4691]  \\\n",
       "1      52962_Lenti_Cas9_BSD [2886-7526]   \n",
       "2   pLenti-IscB-P2A-BSD_KJY [2886-4955]   \n",
       "3   pLenti-TnpB-P2A-BSD_KJY [2886-4691]   \n",
       "4      52962_Lenti_Cas9_BSD [2886-7526]   \n",
       "5   pLenti-IscB-P2A-BSD_KJY [2886-4955]   \n",
       "6   pLenti-TnpB-P2A-BSD_KJY [2886-4691]   \n",
       "7      52962_Lenti_Cas9_BSD [2886-7526]   \n",
       "8   pLenti-IscB-P2A-BSD_KJY [2886-4955]   \n",
       "9   pLenti-TnpB-P2A-BSD_KJY [2886-4691]   \n",
       "10     52962_Lenti_Cas9_BSD [2886-7526]   \n",
       "11  pLenti-IscB-P2A-BSD_KJY [2886-4955]   \n",
       "12  pLenti-TnpB-P2A-BSD_KJY [2886-4691]   \n",
       "13     52962_Lenti_Cas9_BSD [2886-7526]   \n",
       "14  pLenti-IscB-P2A-BSD_KJY [2886-4955]   \n",
       "15  pLenti-TnpB-P2A-BSD_KJY [2886-4691]   \n",
       "16     52962_Lenti_Cas9_BSD [2886-7526]   \n",
       "17  pLenti-IscB-P2A-BSD_KJY [2886-4955]   \n",
       "18  pLenti-TnpB-P2A-BSD_KJY [2886-4691]   \n",
       "19     52962_Lenti_Cas9_BSD [2886-7526]   \n",
       "20  pLenti-IscB-P2A-BSD_KJY [2886-4955]   \n",
       "21  pLenti-TnpB-P2A-BSD_KJY [2886-4691]   \n",
       "22     52962_Lenti_Cas9_BSD [2886-7526]   \n",
       "23  pLenti-IscB-P2A-BSD_KJY [2886-4955]   \n",
       "24  pLenti-TnpB-P2A-BSD_KJY [2886-4691]   \n",
       "25     52962_Lenti_Cas9_BSD [2886-7526]   \n",
       "26  pLenti-IscB-P2A-BSD_KJY [2886-4955]   \n",
       "\n",
       "                                        mRNA sequence   \n",
       "0   AUGAAGCGCACUGCCGACGGGUCCGAGUUUGAGAGCCCGAAGAAGA...  \\\n",
       "1   AUGGACAAGAAGUACUCCAUCGGCCUUGACAUUGGCACUAAUUCCG...   \n",
       "2   AUGAAGCGUACCGCCGACGGGAGCGAGUUCGAGAGUCCCAAGAAGA...   \n",
       "3   AUGAAGCGCACUGCCGACGGGUCCGAGUUUGAGAGCCCGAAGAAGA...   \n",
       "4   AUGGACAAGAAGUACUCCAUCGGCCUUGACAUUGGCACUAAUUCCG...   \n",
       "5   AUGAAGCGUACCGCGGACGGGAGCGAGUUCGAGAGUCCCAAGAAGA...   \n",
       "6   AUGAAGCGCACUGCCGACGGGUCCGAGUUUGAGAGCCCGAAGAAGA...   \n",
       "7   AUGGACAAGAAGUACUCCAUCGGCCUUGACAUUGGCACUAAUUCCG...   \n",
       "8   AUGAAGCGUACCGCGGACGGCAGCGAGUUCGAGAGUCCCAAGAAGA...   \n",
       "9   AUGAAGCGCACCGCGGACGGCUCUGAGUUCGAGUCACCUAAGAAGA...   \n",
       "10  AUGGACAAGAAGUACUCCAUCGGCCUUGACAUUGGCACUAAUUCCG...   \n",
       "11  AUGAAGCGGACAGCGGAUGGUAGUGAGUUCGAGUCCCCGAAGAAGA...   \n",
       "12  AUGAAGCGCACCGCGGACGGCUCUGAGUUCGAGUCACCUAAGAAGA...   \n",
       "13  AUGGACAAGAAGUACUCCAUCGGCCUUGACAUUGGCACUAAUUCCG...   \n",
       "14  AUGAAGCGGACAGCCGAUGGGUCCGAGUUCGAGUCUCCCAAGAAGA...   \n",
       "15  AUGAAGCGGACGGCCGACGGCAGCGAGUUCGAGAGCCCCAAGAAGA...   \n",
       "16  AUGGACAAGAAGUACUCCAUCGGUCUGGAUAUCGGCACCAACUCCG...   \n",
       "17  AUGAAGCGGACUGCCGACGGCAGUGAGUUUGAGUCACCAAAGAAGA...   \n",
       "18  AUGAAGCGCACCGCCGACGGCUCUGAGUUCGAGUCACCUAAGAAGA...   \n",
       "19  AUGGACAAGAAGUACUCCAUCGGCCUGGACAUCGGCACCAACUCCG...   \n",
       "20  AUGAAGCGGACCGCUGACGGCAGCGAGUUCGAGAGCCCUAAGAAGA...   \n",
       "21  AUGAAGCGGACCGCCGACGGCUCCGAGUUCGAGAGCCCCAAGAAGA...   \n",
       "22  AUGGACAAGAAGUACUCCAUCGGCCUGGACAUCGGCACCAACAGCG...   \n",
       "23  AUGAAGCGCACCGCCGACGGCUCCGAGUUCGAGAGCCCCAAGAAGA...   \n",
       "24  AUGAAGCGGACCGCCGACGGCAGCGAGUUCGAGAGCCCCAAGAAGA...   \n",
       "25  AUGGACAAGAAGUACAGCAUCGGCCUGGACAUCGGCACCAACAGCG...   \n",
       "26  AUGAAGCGGACCGCCGACGGCAGCGAGUUCGAGAGCCCCAAGAAGA...   \n",
       "\n",
       "                                       mRNA structure  MFE (kcal/mol)    CAI   \n",
       "0   (((((((((((((((((.(((((((.(((((.(((((((..........         -1268.4  0.751  \\\n",
       "1   ...............((((((((((((((((.((((..((((((((...         -2901.8  0.759   \n",
       "2   .(.(((((((((.((((((((((.(((((((.(((((((((.(......         -1427.8  0.740   \n",
       "3   (((((((((((((((((.(((((((.(((((.(((((((..........         -1268.4  0.756   \n",
       "4   ...............((((((((((((((((.((((..((((((((...         -2901.4  0.768   \n",
       "5   .(.(((((((((.((((((((((.(((((((.(((((((((.(......         -1427.6  0.757   \n",
       "6   (((((((((((((((((.(((((((.(((((.(((((((..........         -1268.4  0.756   \n",
       "7   ...............((((((((((((((((.((((..((((((((...         -2898.3  0.777   \n",
       "8   .(.(((((((((.((((((((((.(((((((.(((((((((.(......         -1427.1  0.760   \n",
       "9   .....((((((((((((.(((.((...((((((((((((..........         -1259.9  0.794   \n",
       "10  ...............((((((((((((((((.((((..(((((((....         -2882.9  0.800   \n",
       "11  .....((((((((((.((((((.(..((((..((((((((.........         -1418.0  0.798   \n",
       "12  ......(((((((((((.(((.((...((((((((((((..........         -1233.8  0.837   \n",
       "13  ...............((((((((((((((((.((((..((((((((...         -2836.1  0.833   \n",
       "14  .....((((((((((((((((((((.(((((.((((((((((((.(...         -1390.2  0.848   \n",
       "15  .((.(((((.((((((.((((((((..(((((((((((((.(.......         -1177.0  0.890   \n",
       "16  ...........((((((.((((((...(((..((((.(((((((.....         -2671.8  0.899   \n",
       "17  .....(((((.((((((((((((((.(((((((((((((..........         -1353.3  0.879   \n",
       "18  .....(((((((((.((.(((.((...((((((((((((..........         -1028.6  0.960   \n",
       "19  .....((....((((((.(((((..(((.((.((((.(((((((.....         -2292.4  0.966   \n",
       "20  ......((((((((((....))))).)))))..((((((..........         -1153.6  0.965   \n",
       "21  .((..(((((.((((..((((((((....)).)))))............          -921.0  0.985   \n",
       "22  ...........((((((.(((((..(((.((.((((.(((...((....         -2020.2  0.992   \n",
       "23  .....((.((((.(((..(((((((....)).)))))............         -1019.0  0.990   \n",
       "24  ............((((.((((.(((.((((((..(((((..........          -746.4  1.000   \n",
       "25  ...............((((((.(((.((.(((((((..((.((((....         -1711.3  1.000   \n",
       "26  ......((((((((........))).)))))..(((((...........          -864.3  1.000   \n",
       "\n",
       "    lambda  wildtype  \n",
       "0      0.0     False  \n",
       "1      0.0     False  \n",
       "2      0.0     False  \n",
       "3      0.1     False  \n",
       "4      0.1     False  \n",
       "5      0.1     False  \n",
       "6      0.2     False  \n",
       "7      0.2     False  \n",
       "8      0.2     False  \n",
       "9      0.5     False  \n",
       "10     0.5     False  \n",
       "11     0.5     False  \n",
       "12     1.0     False  \n",
       "13     1.0     False  \n",
       "14     1.0     False  \n",
       "15     2.0     False  \n",
       "16     2.0     False  \n",
       "17     2.0     False  \n",
       "18     5.0     False  \n",
       "19     5.0     False  \n",
       "20     5.0     False  \n",
       "21    10.0     False  \n",
       "22    10.0     False  \n",
       "23    10.0     False  \n",
       "24  1000.0     False  \n",
       "25  1000.0     False  \n",
       "26  1000.0     False  "
      ]
     },
     "execution_count": 19,
     "metadata": {},
     "output_type": "execute_result"
    }
   ],
   "source": [
    "designs = pd.read_csv(DESIGN_PATH)\n",
    "designs[\"Name\"] = designs[\"Name\"].apply(lambda x: x.replace(\"translation \", \"\"))\n",
    "designs[\"wildtype\"] = False\n",
    "designs"
   ]
  },
  {
   "cell_type": "code",
   "execution_count": 20,
   "metadata": {},
   "outputs": [
    {
     "data": {
      "text/html": [
       "<div>\n",
       "<style scoped>\n",
       "    .dataframe tbody tr th:only-of-type {\n",
       "        vertical-align: middle;\n",
       "    }\n",
       "\n",
       "    .dataframe tbody tr th {\n",
       "        vertical-align: top;\n",
       "    }\n",
       "\n",
       "    .dataframe thead th {\n",
       "        text-align: right;\n",
       "    }\n",
       "</style>\n",
       "<table border=\"1\" class=\"dataframe\">\n",
       "  <thead>\n",
       "    <tr style=\"text-align: right;\">\n",
       "      <th></th>\n",
       "      <th>Name</th>\n",
       "      <th>mRNA sequence</th>\n",
       "      <th>mRNA structure</th>\n",
       "      <th>MFE (kcal/mol)</th>\n",
       "      <th>CAI</th>\n",
       "      <th>lambda</th>\n",
       "      <th>wildtype</th>\n",
       "    </tr>\n",
       "  </thead>\n",
       "  <tbody>\n",
       "    <tr>\n",
       "      <th>0</th>\n",
       "      <td>52962_Lenti_Cas9_BSD [2886-7526]</td>\n",
       "      <td>AUGGACAAGAAGUACAGCAUCGGCCUGGACAUCGGCACCAACUCUG...</td>\n",
       "      <td>((((...((((((((....((((((((..(..((((.(((.(((.....</td>\n",
       "      <td>-1580.400024</td>\n",
       "      <td>0.931062</td>\n",
       "      <td>NaN</td>\n",
       "      <td>True</td>\n",
       "    </tr>\n",
       "    <tr>\n",
       "      <th>1</th>\n",
       "      <td>pLenti-IscB-P2A-BSD_KJY [2886-4955]</td>\n",
       "      <td>augaaacggacagccgacggaagcgaguucgagucaccaaagaaga...</td>\n",
       "      <td>..........((((....((..(((...(((.(((((((..........</td>\n",
       "      <td>-733.799988</td>\n",
       "      <td>0.875812</td>\n",
       "      <td>NaN</td>\n",
       "      <td>True</td>\n",
       "    </tr>\n",
       "    <tr>\n",
       "      <th>2</th>\n",
       "      <td>pLenti-TnpB-P2A-BSD_KJY [2886-4691]</td>\n",
       "      <td>augaaacggacagccgacggaagcgaguucgagucaccaaagaaga...</td>\n",
       "      <td>.......(((((((((((((((((...((((..((.........))...</td>\n",
       "      <td>-633.900024</td>\n",
       "      <td>0.870357</td>\n",
       "      <td>NaN</td>\n",
       "      <td>True</td>\n",
       "    </tr>\n",
       "    <tr>\n",
       "      <th>3</th>\n",
       "      <td>pLenti-TnpB-P2A-BSD_KJY [2886-4691]</td>\n",
       "      <td>AUGAAGCGCACUGCCGACGGGUCCGAGUUUGAGAGCCCGAAGAAGA...</td>\n",
       "      <td>(((((((((((((((((.(((((((.(((((.(((((((..........</td>\n",
       "      <td>-1268.400000</td>\n",
       "      <td>0.751000</td>\n",
       "      <td>0.0</td>\n",
       "      <td>False</td>\n",
       "    </tr>\n",
       "    <tr>\n",
       "      <th>4</th>\n",
       "      <td>52962_Lenti_Cas9_BSD [2886-7526]</td>\n",
       "      <td>AUGGACAAGAAGUACUCCAUCGGCCUUGACAUUGGCACUAAUUCCG...</td>\n",
       "      <td>...............((((((((((((((((.((((..((((((((...</td>\n",
       "      <td>-2901.800000</td>\n",
       "      <td>0.759000</td>\n",
       "      <td>0.0</td>\n",
       "      <td>False</td>\n",
       "    </tr>\n",
       "    <tr>\n",
       "      <th>5</th>\n",
       "      <td>pLenti-IscB-P2A-BSD_KJY [2886-4955]</td>\n",
       "      <td>AUGAAGCGUACCGCCGACGGGAGCGAGUUCGAGAGUCCCAAGAAGA...</td>\n",
       "      <td>.(.(((((((((.((((((((((.(((((((.(((((((((.(......</td>\n",
       "      <td>-1427.800000</td>\n",
       "      <td>0.740000</td>\n",
       "      <td>0.0</td>\n",
       "      <td>False</td>\n",
       "    </tr>\n",
       "    <tr>\n",
       "      <th>6</th>\n",
       "      <td>pLenti-TnpB-P2A-BSD_KJY [2886-4691]</td>\n",
       "      <td>AUGAAGCGCACUGCCGACGGGUCCGAGUUUGAGAGCCCGAAGAAGA...</td>\n",
       "      <td>(((((((((((((((((.(((((((.(((((.(((((((..........</td>\n",
       "      <td>-1268.400000</td>\n",
       "      <td>0.756000</td>\n",
       "      <td>0.1</td>\n",
       "      <td>False</td>\n",
       "    </tr>\n",
       "    <tr>\n",
       "      <th>7</th>\n",
       "      <td>52962_Lenti_Cas9_BSD [2886-7526]</td>\n",
       "      <td>AUGGACAAGAAGUACUCCAUCGGCCUUGACAUUGGCACUAAUUCCG...</td>\n",
       "      <td>...............((((((((((((((((.((((..((((((((...</td>\n",
       "      <td>-2901.400000</td>\n",
       "      <td>0.768000</td>\n",
       "      <td>0.1</td>\n",
       "      <td>False</td>\n",
       "    </tr>\n",
       "    <tr>\n",
       "      <th>8</th>\n",
       "      <td>pLenti-IscB-P2A-BSD_KJY [2886-4955]</td>\n",
       "      <td>AUGAAGCGUACCGCGGACGGGAGCGAGUUCGAGAGUCCCAAGAAGA...</td>\n",
       "      <td>.(.(((((((((.((((((((((.(((((((.(((((((((.(......</td>\n",
       "      <td>-1427.600000</td>\n",
       "      <td>0.757000</td>\n",
       "      <td>0.1</td>\n",
       "      <td>False</td>\n",
       "    </tr>\n",
       "    <tr>\n",
       "      <th>9</th>\n",
       "      <td>pLenti-TnpB-P2A-BSD_KJY [2886-4691]</td>\n",
       "      <td>AUGAAGCGCACUGCCGACGGGUCCGAGUUUGAGAGCCCGAAGAAGA...</td>\n",
       "      <td>(((((((((((((((((.(((((((.(((((.(((((((..........</td>\n",
       "      <td>-1268.400000</td>\n",
       "      <td>0.756000</td>\n",
       "      <td>0.2</td>\n",
       "      <td>False</td>\n",
       "    </tr>\n",
       "    <tr>\n",
       "      <th>10</th>\n",
       "      <td>52962_Lenti_Cas9_BSD [2886-7526]</td>\n",
       "      <td>AUGGACAAGAAGUACUCCAUCGGCCUUGACAUUGGCACUAAUUCCG...</td>\n",
       "      <td>...............((((((((((((((((.((((..((((((((...</td>\n",
       "      <td>-2898.300000</td>\n",
       "      <td>0.777000</td>\n",
       "      <td>0.2</td>\n",
       "      <td>False</td>\n",
       "    </tr>\n",
       "    <tr>\n",
       "      <th>11</th>\n",
       "      <td>pLenti-IscB-P2A-BSD_KJY [2886-4955]</td>\n",
       "      <td>AUGAAGCGUACCGCGGACGGCAGCGAGUUCGAGAGUCCCAAGAAGA...</td>\n",
       "      <td>.(.(((((((((.((((((((((.(((((((.(((((((((.(......</td>\n",
       "      <td>-1427.100000</td>\n",
       "      <td>0.760000</td>\n",
       "      <td>0.2</td>\n",
       "      <td>False</td>\n",
       "    </tr>\n",
       "    <tr>\n",
       "      <th>12</th>\n",
       "      <td>pLenti-TnpB-P2A-BSD_KJY [2886-4691]</td>\n",
       "      <td>AUGAAGCGCACCGCGGACGGCUCUGAGUUCGAGUCACCUAAGAAGA...</td>\n",
       "      <td>.....((((((((((((.(((.((...((((((((((((..........</td>\n",
       "      <td>-1259.900000</td>\n",
       "      <td>0.794000</td>\n",
       "      <td>0.5</td>\n",
       "      <td>False</td>\n",
       "    </tr>\n",
       "    <tr>\n",
       "      <th>13</th>\n",
       "      <td>52962_Lenti_Cas9_BSD [2886-7526]</td>\n",
       "      <td>AUGGACAAGAAGUACUCCAUCGGCCUUGACAUUGGCACUAAUUCCG...</td>\n",
       "      <td>...............((((((((((((((((.((((..(((((((....</td>\n",
       "      <td>-2882.900000</td>\n",
       "      <td>0.800000</td>\n",
       "      <td>0.5</td>\n",
       "      <td>False</td>\n",
       "    </tr>\n",
       "    <tr>\n",
       "      <th>14</th>\n",
       "      <td>pLenti-IscB-P2A-BSD_KJY [2886-4955]</td>\n",
       "      <td>AUGAAGCGGACAGCGGAUGGUAGUGAGUUCGAGUCCCCGAAGAAGA...</td>\n",
       "      <td>.....((((((((((.((((((.(..((((..((((((((.........</td>\n",
       "      <td>-1418.000000</td>\n",
       "      <td>0.798000</td>\n",
       "      <td>0.5</td>\n",
       "      <td>False</td>\n",
       "    </tr>\n",
       "    <tr>\n",
       "      <th>15</th>\n",
       "      <td>pLenti-TnpB-P2A-BSD_KJY [2886-4691]</td>\n",
       "      <td>AUGAAGCGCACCGCGGACGGCUCUGAGUUCGAGUCACCUAAGAAGA...</td>\n",
       "      <td>......(((((((((((.(((.((...((((((((((((..........</td>\n",
       "      <td>-1233.800000</td>\n",
       "      <td>0.837000</td>\n",
       "      <td>1.0</td>\n",
       "      <td>False</td>\n",
       "    </tr>\n",
       "    <tr>\n",
       "      <th>16</th>\n",
       "      <td>52962_Lenti_Cas9_BSD [2886-7526]</td>\n",
       "      <td>AUGGACAAGAAGUACUCCAUCGGCCUUGACAUUGGCACUAAUUCCG...</td>\n",
       "      <td>...............((((((((((((((((.((((..((((((((...</td>\n",
       "      <td>-2836.100000</td>\n",
       "      <td>0.833000</td>\n",
       "      <td>1.0</td>\n",
       "      <td>False</td>\n",
       "    </tr>\n",
       "    <tr>\n",
       "      <th>17</th>\n",
       "      <td>pLenti-IscB-P2A-BSD_KJY [2886-4955]</td>\n",
       "      <td>AUGAAGCGGACAGCCGAUGGGUCCGAGUUCGAGUCUCCCAAGAAGA...</td>\n",
       "      <td>.....((((((((((((((((((((.(((((.((((((((((((.(...</td>\n",
       "      <td>-1390.200000</td>\n",
       "      <td>0.848000</td>\n",
       "      <td>1.0</td>\n",
       "      <td>False</td>\n",
       "    </tr>\n",
       "    <tr>\n",
       "      <th>18</th>\n",
       "      <td>pLenti-TnpB-P2A-BSD_KJY [2886-4691]</td>\n",
       "      <td>AUGAAGCGGACGGCCGACGGCAGCGAGUUCGAGAGCCCCAAGAAGA...</td>\n",
       "      <td>.((.(((((.((((((.((((((((..(((((((((((((.(.......</td>\n",
       "      <td>-1177.000000</td>\n",
       "      <td>0.890000</td>\n",
       "      <td>2.0</td>\n",
       "      <td>False</td>\n",
       "    </tr>\n",
       "    <tr>\n",
       "      <th>19</th>\n",
       "      <td>52962_Lenti_Cas9_BSD [2886-7526]</td>\n",
       "      <td>AUGGACAAGAAGUACUCCAUCGGUCUGGAUAUCGGCACCAACUCCG...</td>\n",
       "      <td>...........((((((.((((((...(((..((((.(((((((.....</td>\n",
       "      <td>-2671.800000</td>\n",
       "      <td>0.899000</td>\n",
       "      <td>2.0</td>\n",
       "      <td>False</td>\n",
       "    </tr>\n",
       "    <tr>\n",
       "      <th>20</th>\n",
       "      <td>pLenti-IscB-P2A-BSD_KJY [2886-4955]</td>\n",
       "      <td>AUGAAGCGGACUGCCGACGGCAGUGAGUUUGAGUCACCAAAGAAGA...</td>\n",
       "      <td>.....(((((.((((((((((((((.(((((((((((((..........</td>\n",
       "      <td>-1353.300000</td>\n",
       "      <td>0.879000</td>\n",
       "      <td>2.0</td>\n",
       "      <td>False</td>\n",
       "    </tr>\n",
       "    <tr>\n",
       "      <th>21</th>\n",
       "      <td>pLenti-TnpB-P2A-BSD_KJY [2886-4691]</td>\n",
       "      <td>AUGAAGCGCACCGCCGACGGCUCUGAGUUCGAGUCACCUAAGAAGA...</td>\n",
       "      <td>.....(((((((((.((.(((.((...((((((((((((..........</td>\n",
       "      <td>-1028.600000</td>\n",
       "      <td>0.960000</td>\n",
       "      <td>5.0</td>\n",
       "      <td>False</td>\n",
       "    </tr>\n",
       "    <tr>\n",
       "      <th>22</th>\n",
       "      <td>52962_Lenti_Cas9_BSD [2886-7526]</td>\n",
       "      <td>AUGGACAAGAAGUACUCCAUCGGCCUGGACAUCGGCACCAACUCCG...</td>\n",
       "      <td>.....((....((((((.(((((..(((.((.((((.(((((((.....</td>\n",
       "      <td>-2292.400000</td>\n",
       "      <td>0.966000</td>\n",
       "      <td>5.0</td>\n",
       "      <td>False</td>\n",
       "    </tr>\n",
       "    <tr>\n",
       "      <th>23</th>\n",
       "      <td>pLenti-IscB-P2A-BSD_KJY [2886-4955]</td>\n",
       "      <td>AUGAAGCGGACCGCUGACGGCAGCGAGUUCGAGAGCCCUAAGAAGA...</td>\n",
       "      <td>......((((((((((....))))).)))))..((((((..........</td>\n",
       "      <td>-1153.600000</td>\n",
       "      <td>0.965000</td>\n",
       "      <td>5.0</td>\n",
       "      <td>False</td>\n",
       "    </tr>\n",
       "    <tr>\n",
       "      <th>24</th>\n",
       "      <td>pLenti-TnpB-P2A-BSD_KJY [2886-4691]</td>\n",
       "      <td>AUGAAGCGGACCGCCGACGGCUCCGAGUUCGAGAGCCCCAAGAAGA...</td>\n",
       "      <td>.((..(((((.((((..((((((((....)).)))))............</td>\n",
       "      <td>-921.000000</td>\n",
       "      <td>0.985000</td>\n",
       "      <td>10.0</td>\n",
       "      <td>False</td>\n",
       "    </tr>\n",
       "    <tr>\n",
       "      <th>25</th>\n",
       "      <td>52962_Lenti_Cas9_BSD [2886-7526]</td>\n",
       "      <td>AUGGACAAGAAGUACUCCAUCGGCCUGGACAUCGGCACCAACAGCG...</td>\n",
       "      <td>...........((((((.(((((..(((.((.((((.(((...((....</td>\n",
       "      <td>-2020.200000</td>\n",
       "      <td>0.992000</td>\n",
       "      <td>10.0</td>\n",
       "      <td>False</td>\n",
       "    </tr>\n",
       "    <tr>\n",
       "      <th>26</th>\n",
       "      <td>pLenti-IscB-P2A-BSD_KJY [2886-4955]</td>\n",
       "      <td>AUGAAGCGCACCGCCGACGGCUCCGAGUUCGAGAGCCCCAAGAAGA...</td>\n",
       "      <td>.....((.((((.(((..(((((((....)).)))))............</td>\n",
       "      <td>-1019.000000</td>\n",
       "      <td>0.990000</td>\n",
       "      <td>10.0</td>\n",
       "      <td>False</td>\n",
       "    </tr>\n",
       "    <tr>\n",
       "      <th>27</th>\n",
       "      <td>pLenti-TnpB-P2A-BSD_KJY [2886-4691]</td>\n",
       "      <td>AUGAAGCGGACCGCCGACGGCAGCGAGUUCGAGAGCCCCAAGAAGA...</td>\n",
       "      <td>............((((.((((.(((.((((((..(((((..........</td>\n",
       "      <td>-746.400000</td>\n",
       "      <td>1.000000</td>\n",
       "      <td>1000.0</td>\n",
       "      <td>False</td>\n",
       "    </tr>\n",
       "    <tr>\n",
       "      <th>28</th>\n",
       "      <td>52962_Lenti_Cas9_BSD [2886-7526]</td>\n",
       "      <td>AUGGACAAGAAGUACAGCAUCGGCCUGGACAUCGGCACCAACAGCG...</td>\n",
       "      <td>...............((((((.(((.((.(((((((..((.((((....</td>\n",
       "      <td>-1711.300000</td>\n",
       "      <td>1.000000</td>\n",
       "      <td>1000.0</td>\n",
       "      <td>False</td>\n",
       "    </tr>\n",
       "    <tr>\n",
       "      <th>29</th>\n",
       "      <td>pLenti-IscB-P2A-BSD_KJY [2886-4955]</td>\n",
       "      <td>AUGAAGCGGACCGCCGACGGCAGCGAGUUCGAGAGCCCCAAGAAGA...</td>\n",
       "      <td>......((((((((........))).)))))..(((((...........</td>\n",
       "      <td>-864.300000</td>\n",
       "      <td>1.000000</td>\n",
       "      <td>1000.0</td>\n",
       "      <td>False</td>\n",
       "    </tr>\n",
       "  </tbody>\n",
       "</table>\n",
       "</div>"
      ],
      "text/plain": [
       "                                   Name   \n",
       "0      52962_Lenti_Cas9_BSD [2886-7526]  \\\n",
       "1   pLenti-IscB-P2A-BSD_KJY [2886-4955]   \n",
       "2   pLenti-TnpB-P2A-BSD_KJY [2886-4691]   \n",
       "3   pLenti-TnpB-P2A-BSD_KJY [2886-4691]   \n",
       "4      52962_Lenti_Cas9_BSD [2886-7526]   \n",
       "5   pLenti-IscB-P2A-BSD_KJY [2886-4955]   \n",
       "6   pLenti-TnpB-P2A-BSD_KJY [2886-4691]   \n",
       "7      52962_Lenti_Cas9_BSD [2886-7526]   \n",
       "8   pLenti-IscB-P2A-BSD_KJY [2886-4955]   \n",
       "9   pLenti-TnpB-P2A-BSD_KJY [2886-4691]   \n",
       "10     52962_Lenti_Cas9_BSD [2886-7526]   \n",
       "11  pLenti-IscB-P2A-BSD_KJY [2886-4955]   \n",
       "12  pLenti-TnpB-P2A-BSD_KJY [2886-4691]   \n",
       "13     52962_Lenti_Cas9_BSD [2886-7526]   \n",
       "14  pLenti-IscB-P2A-BSD_KJY [2886-4955]   \n",
       "15  pLenti-TnpB-P2A-BSD_KJY [2886-4691]   \n",
       "16     52962_Lenti_Cas9_BSD [2886-7526]   \n",
       "17  pLenti-IscB-P2A-BSD_KJY [2886-4955]   \n",
       "18  pLenti-TnpB-P2A-BSD_KJY [2886-4691]   \n",
       "19     52962_Lenti_Cas9_BSD [2886-7526]   \n",
       "20  pLenti-IscB-P2A-BSD_KJY [2886-4955]   \n",
       "21  pLenti-TnpB-P2A-BSD_KJY [2886-4691]   \n",
       "22     52962_Lenti_Cas9_BSD [2886-7526]   \n",
       "23  pLenti-IscB-P2A-BSD_KJY [2886-4955]   \n",
       "24  pLenti-TnpB-P2A-BSD_KJY [2886-4691]   \n",
       "25     52962_Lenti_Cas9_BSD [2886-7526]   \n",
       "26  pLenti-IscB-P2A-BSD_KJY [2886-4955]   \n",
       "27  pLenti-TnpB-P2A-BSD_KJY [2886-4691]   \n",
       "28     52962_Lenti_Cas9_BSD [2886-7526]   \n",
       "29  pLenti-IscB-P2A-BSD_KJY [2886-4955]   \n",
       "\n",
       "                                        mRNA sequence   \n",
       "0   AUGGACAAGAAGUACAGCAUCGGCCUGGACAUCGGCACCAACUCUG...  \\\n",
       "1   augaaacggacagccgacggaagcgaguucgagucaccaaagaaga...   \n",
       "2   augaaacggacagccgacggaagcgaguucgagucaccaaagaaga...   \n",
       "3   AUGAAGCGCACUGCCGACGGGUCCGAGUUUGAGAGCCCGAAGAAGA...   \n",
       "4   AUGGACAAGAAGUACUCCAUCGGCCUUGACAUUGGCACUAAUUCCG...   \n",
       "5   AUGAAGCGUACCGCCGACGGGAGCGAGUUCGAGAGUCCCAAGAAGA...   \n",
       "6   AUGAAGCGCACUGCCGACGGGUCCGAGUUUGAGAGCCCGAAGAAGA...   \n",
       "7   AUGGACAAGAAGUACUCCAUCGGCCUUGACAUUGGCACUAAUUCCG...   \n",
       "8   AUGAAGCGUACCGCGGACGGGAGCGAGUUCGAGAGUCCCAAGAAGA...   \n",
       "9   AUGAAGCGCACUGCCGACGGGUCCGAGUUUGAGAGCCCGAAGAAGA...   \n",
       "10  AUGGACAAGAAGUACUCCAUCGGCCUUGACAUUGGCACUAAUUCCG...   \n",
       "11  AUGAAGCGUACCGCGGACGGCAGCGAGUUCGAGAGUCCCAAGAAGA...   \n",
       "12  AUGAAGCGCACCGCGGACGGCUCUGAGUUCGAGUCACCUAAGAAGA...   \n",
       "13  AUGGACAAGAAGUACUCCAUCGGCCUUGACAUUGGCACUAAUUCCG...   \n",
       "14  AUGAAGCGGACAGCGGAUGGUAGUGAGUUCGAGUCCCCGAAGAAGA...   \n",
       "15  AUGAAGCGCACCGCGGACGGCUCUGAGUUCGAGUCACCUAAGAAGA...   \n",
       "16  AUGGACAAGAAGUACUCCAUCGGCCUUGACAUUGGCACUAAUUCCG...   \n",
       "17  AUGAAGCGGACAGCCGAUGGGUCCGAGUUCGAGUCUCCCAAGAAGA...   \n",
       "18  AUGAAGCGGACGGCCGACGGCAGCGAGUUCGAGAGCCCCAAGAAGA...   \n",
       "19  AUGGACAAGAAGUACUCCAUCGGUCUGGAUAUCGGCACCAACUCCG...   \n",
       "20  AUGAAGCGGACUGCCGACGGCAGUGAGUUUGAGUCACCAAAGAAGA...   \n",
       "21  AUGAAGCGCACCGCCGACGGCUCUGAGUUCGAGUCACCUAAGAAGA...   \n",
       "22  AUGGACAAGAAGUACUCCAUCGGCCUGGACAUCGGCACCAACUCCG...   \n",
       "23  AUGAAGCGGACCGCUGACGGCAGCGAGUUCGAGAGCCCUAAGAAGA...   \n",
       "24  AUGAAGCGGACCGCCGACGGCUCCGAGUUCGAGAGCCCCAAGAAGA...   \n",
       "25  AUGGACAAGAAGUACUCCAUCGGCCUGGACAUCGGCACCAACAGCG...   \n",
       "26  AUGAAGCGCACCGCCGACGGCUCCGAGUUCGAGAGCCCCAAGAAGA...   \n",
       "27  AUGAAGCGGACCGCCGACGGCAGCGAGUUCGAGAGCCCCAAGAAGA...   \n",
       "28  AUGGACAAGAAGUACAGCAUCGGCCUGGACAUCGGCACCAACAGCG...   \n",
       "29  AUGAAGCGGACCGCCGACGGCAGCGAGUUCGAGAGCCCCAAGAAGA...   \n",
       "\n",
       "                                       mRNA structure  MFE (kcal/mol)   \n",
       "0   ((((...((((((((....((((((((..(..((((.(((.(((.....    -1580.400024  \\\n",
       "1   ..........((((....((..(((...(((.(((((((..........     -733.799988   \n",
       "2   .......(((((((((((((((((...((((..((.........))...     -633.900024   \n",
       "3   (((((((((((((((((.(((((((.(((((.(((((((..........    -1268.400000   \n",
       "4   ...............((((((((((((((((.((((..((((((((...    -2901.800000   \n",
       "5   .(.(((((((((.((((((((((.(((((((.(((((((((.(......    -1427.800000   \n",
       "6   (((((((((((((((((.(((((((.(((((.(((((((..........    -1268.400000   \n",
       "7   ...............((((((((((((((((.((((..((((((((...    -2901.400000   \n",
       "8   .(.(((((((((.((((((((((.(((((((.(((((((((.(......    -1427.600000   \n",
       "9   (((((((((((((((((.(((((((.(((((.(((((((..........    -1268.400000   \n",
       "10  ...............((((((((((((((((.((((..((((((((...    -2898.300000   \n",
       "11  .(.(((((((((.((((((((((.(((((((.(((((((((.(......    -1427.100000   \n",
       "12  .....((((((((((((.(((.((...((((((((((((..........    -1259.900000   \n",
       "13  ...............((((((((((((((((.((((..(((((((....    -2882.900000   \n",
       "14  .....((((((((((.((((((.(..((((..((((((((.........    -1418.000000   \n",
       "15  ......(((((((((((.(((.((...((((((((((((..........    -1233.800000   \n",
       "16  ...............((((((((((((((((.((((..((((((((...    -2836.100000   \n",
       "17  .....((((((((((((((((((((.(((((.((((((((((((.(...    -1390.200000   \n",
       "18  .((.(((((.((((((.((((((((..(((((((((((((.(.......    -1177.000000   \n",
       "19  ...........((((((.((((((...(((..((((.(((((((.....    -2671.800000   \n",
       "20  .....(((((.((((((((((((((.(((((((((((((..........    -1353.300000   \n",
       "21  .....(((((((((.((.(((.((...((((((((((((..........    -1028.600000   \n",
       "22  .....((....((((((.(((((..(((.((.((((.(((((((.....    -2292.400000   \n",
       "23  ......((((((((((....))))).)))))..((((((..........    -1153.600000   \n",
       "24  .((..(((((.((((..((((((((....)).)))))............     -921.000000   \n",
       "25  ...........((((((.(((((..(((.((.((((.(((...((....    -2020.200000   \n",
       "26  .....((.((((.(((..(((((((....)).)))))............    -1019.000000   \n",
       "27  ............((((.((((.(((.((((((..(((((..........     -746.400000   \n",
       "28  ...............((((((.(((.((.(((((((..((.((((....    -1711.300000   \n",
       "29  ......((((((((........))).)))))..(((((...........     -864.300000   \n",
       "\n",
       "         CAI  lambda  wildtype  \n",
       "0   0.931062     NaN      True  \n",
       "1   0.875812     NaN      True  \n",
       "2   0.870357     NaN      True  \n",
       "3   0.751000     0.0     False  \n",
       "4   0.759000     0.0     False  \n",
       "5   0.740000     0.0     False  \n",
       "6   0.756000     0.1     False  \n",
       "7   0.768000     0.1     False  \n",
       "8   0.757000     0.1     False  \n",
       "9   0.756000     0.2     False  \n",
       "10  0.777000     0.2     False  \n",
       "11  0.760000     0.2     False  \n",
       "12  0.794000     0.5     False  \n",
       "13  0.800000     0.5     False  \n",
       "14  0.798000     0.5     False  \n",
       "15  0.837000     1.0     False  \n",
       "16  0.833000     1.0     False  \n",
       "17  0.848000     1.0     False  \n",
       "18  0.890000     2.0     False  \n",
       "19  0.899000     2.0     False  \n",
       "20  0.879000     2.0     False  \n",
       "21  0.960000     5.0     False  \n",
       "22  0.966000     5.0     False  \n",
       "23  0.965000     5.0     False  \n",
       "24  0.985000    10.0     False  \n",
       "25  0.992000    10.0     False  \n",
       "26  0.990000    10.0     False  \n",
       "27  1.000000  1000.0     False  \n",
       "28  1.000000  1000.0     False  \n",
       "29  1.000000  1000.0     False  "
      ]
     },
     "execution_count": 20,
     "metadata": {},
     "output_type": "execute_result"
    }
   ],
   "source": [
    "comparison  = pd.concat([baselines, designs], ignore_index=True)\n",
    "comparison"
   ]
  },
  {
   "cell_type": "code",
   "execution_count": 21,
   "metadata": {},
   "outputs": [
    {
     "data": {
      "text/plain": [
       "<pandas.core.groupby.generic.DataFrameGroupBy object at 0x14e82b070>"
      ]
     },
     "execution_count": 21,
     "metadata": {},
     "output_type": "execute_result"
    }
   ],
   "source": [
    "protein_group = comparison.groupby(\"Name\")\n",
    "protein_group"
   ]
  },
  {
   "cell_type": "code",
   "execution_count": 22,
   "metadata": {},
   "outputs": [],
   "source": [
    "import plotly.express as px"
   ]
  },
  {
   "cell_type": "code",
   "execution_count": 23,
   "metadata": {},
   "outputs": [
    {
     "data": {
      "application/vnd.plotly.v1+json": {
       "config": {
        "plotlyServerURL": "https://plot.ly"
       },
       "data": [
        {
         "customdata": [
          [
           "52962_Lenti_Cas9_BSD [2886-7526]",
           null
          ]
         ],
         "hovertemplate": "wildtype=True<br>MFE (kcal/mol)=%{x}<br>CAI=%{y}<br>Name=%{customdata[0]}<br>lambda=%{customdata[1]}<extra></extra>",
         "legendgroup": "True",
         "marker": {
          "color": "#636efa",
          "line": {
           "color": "DarkSlateGrey",
           "width": 2
          },
          "size": 12,
          "symbol": "circle"
         },
         "mode": "markers",
         "name": "True",
         "orientation": "v",
         "showlegend": true,
         "type": "scatter",
         "x": [
          -1580.4000244140625
         ],
         "xaxis": "x",
         "y": [
          0.9310621305651892
         ],
         "yaxis": "y"
        },
        {
         "customdata": [
          [
           "52962_Lenti_Cas9_BSD [2886-7526]",
           0
          ],
          [
           "52962_Lenti_Cas9_BSD [2886-7526]",
           0.1
          ],
          [
           "52962_Lenti_Cas9_BSD [2886-7526]",
           0.2
          ],
          [
           "52962_Lenti_Cas9_BSD [2886-7526]",
           0.5
          ],
          [
           "52962_Lenti_Cas9_BSD [2886-7526]",
           1
          ],
          [
           "52962_Lenti_Cas9_BSD [2886-7526]",
           2
          ],
          [
           "52962_Lenti_Cas9_BSD [2886-7526]",
           5
          ],
          [
           "52962_Lenti_Cas9_BSD [2886-7526]",
           10
          ],
          [
           "52962_Lenti_Cas9_BSD [2886-7526]",
           1000
          ]
         ],
         "hovertemplate": "wildtype=False<br>MFE (kcal/mol)=%{x}<br>CAI=%{y}<br>Name=%{customdata[0]}<br>lambda=%{customdata[1]}<extra></extra>",
         "legendgroup": "False",
         "marker": {
          "color": "#EF553B",
          "line": {
           "color": "DarkSlateGrey",
           "width": 2
          },
          "size": 12,
          "symbol": "circle"
         },
         "mode": "markers",
         "name": "False",
         "orientation": "v",
         "showlegend": true,
         "type": "scatter",
         "x": [
          -2901.8,
          -2901.4,
          -2898.3,
          -2882.9,
          -2836.1,
          -2671.8,
          -2292.4,
          -2020.2,
          -1711.3
         ],
         "xaxis": "x",
         "y": [
          0.759,
          0.768,
          0.777,
          0.8,
          0.833,
          0.899,
          0.966,
          0.992,
          1
         ],
         "yaxis": "y"
        }
       ],
       "layout": {
        "legend": {
         "title": {
          "text": "wildtype"
         },
         "tracegroupgap": 0
        },
        "template": {
         "data": {
          "bar": [
           {
            "error_x": {
             "color": "#2a3f5f"
            },
            "error_y": {
             "color": "#2a3f5f"
            },
            "marker": {
             "line": {
              "color": "#E5ECF6",
              "width": 0.5
             },
             "pattern": {
              "fillmode": "overlay",
              "size": 10,
              "solidity": 0.2
             }
            },
            "type": "bar"
           }
          ],
          "barpolar": [
           {
            "marker": {
             "line": {
              "color": "#E5ECF6",
              "width": 0.5
             },
             "pattern": {
              "fillmode": "overlay",
              "size": 10,
              "solidity": 0.2
             }
            },
            "type": "barpolar"
           }
          ],
          "carpet": [
           {
            "aaxis": {
             "endlinecolor": "#2a3f5f",
             "gridcolor": "white",
             "linecolor": "white",
             "minorgridcolor": "white",
             "startlinecolor": "#2a3f5f"
            },
            "baxis": {
             "endlinecolor": "#2a3f5f",
             "gridcolor": "white",
             "linecolor": "white",
             "minorgridcolor": "white",
             "startlinecolor": "#2a3f5f"
            },
            "type": "carpet"
           }
          ],
          "choropleth": [
           {
            "colorbar": {
             "outlinewidth": 0,
             "ticks": ""
            },
            "type": "choropleth"
           }
          ],
          "contour": [
           {
            "colorbar": {
             "outlinewidth": 0,
             "ticks": ""
            },
            "colorscale": [
             [
              0,
              "#0d0887"
             ],
             [
              0.1111111111111111,
              "#46039f"
             ],
             [
              0.2222222222222222,
              "#7201a8"
             ],
             [
              0.3333333333333333,
              "#9c179e"
             ],
             [
              0.4444444444444444,
              "#bd3786"
             ],
             [
              0.5555555555555556,
              "#d8576b"
             ],
             [
              0.6666666666666666,
              "#ed7953"
             ],
             [
              0.7777777777777778,
              "#fb9f3a"
             ],
             [
              0.8888888888888888,
              "#fdca26"
             ],
             [
              1,
              "#f0f921"
             ]
            ],
            "type": "contour"
           }
          ],
          "contourcarpet": [
           {
            "colorbar": {
             "outlinewidth": 0,
             "ticks": ""
            },
            "type": "contourcarpet"
           }
          ],
          "heatmap": [
           {
            "colorbar": {
             "outlinewidth": 0,
             "ticks": ""
            },
            "colorscale": [
             [
              0,
              "#0d0887"
             ],
             [
              0.1111111111111111,
              "#46039f"
             ],
             [
              0.2222222222222222,
              "#7201a8"
             ],
             [
              0.3333333333333333,
              "#9c179e"
             ],
             [
              0.4444444444444444,
              "#bd3786"
             ],
             [
              0.5555555555555556,
              "#d8576b"
             ],
             [
              0.6666666666666666,
              "#ed7953"
             ],
             [
              0.7777777777777778,
              "#fb9f3a"
             ],
             [
              0.8888888888888888,
              "#fdca26"
             ],
             [
              1,
              "#f0f921"
             ]
            ],
            "type": "heatmap"
           }
          ],
          "heatmapgl": [
           {
            "colorbar": {
             "outlinewidth": 0,
             "ticks": ""
            },
            "colorscale": [
             [
              0,
              "#0d0887"
             ],
             [
              0.1111111111111111,
              "#46039f"
             ],
             [
              0.2222222222222222,
              "#7201a8"
             ],
             [
              0.3333333333333333,
              "#9c179e"
             ],
             [
              0.4444444444444444,
              "#bd3786"
             ],
             [
              0.5555555555555556,
              "#d8576b"
             ],
             [
              0.6666666666666666,
              "#ed7953"
             ],
             [
              0.7777777777777778,
              "#fb9f3a"
             ],
             [
              0.8888888888888888,
              "#fdca26"
             ],
             [
              1,
              "#f0f921"
             ]
            ],
            "type": "heatmapgl"
           }
          ],
          "histogram": [
           {
            "marker": {
             "pattern": {
              "fillmode": "overlay",
              "size": 10,
              "solidity": 0.2
             }
            },
            "type": "histogram"
           }
          ],
          "histogram2d": [
           {
            "colorbar": {
             "outlinewidth": 0,
             "ticks": ""
            },
            "colorscale": [
             [
              0,
              "#0d0887"
             ],
             [
              0.1111111111111111,
              "#46039f"
             ],
             [
              0.2222222222222222,
              "#7201a8"
             ],
             [
              0.3333333333333333,
              "#9c179e"
             ],
             [
              0.4444444444444444,
              "#bd3786"
             ],
             [
              0.5555555555555556,
              "#d8576b"
             ],
             [
              0.6666666666666666,
              "#ed7953"
             ],
             [
              0.7777777777777778,
              "#fb9f3a"
             ],
             [
              0.8888888888888888,
              "#fdca26"
             ],
             [
              1,
              "#f0f921"
             ]
            ],
            "type": "histogram2d"
           }
          ],
          "histogram2dcontour": [
           {
            "colorbar": {
             "outlinewidth": 0,
             "ticks": ""
            },
            "colorscale": [
             [
              0,
              "#0d0887"
             ],
             [
              0.1111111111111111,
              "#46039f"
             ],
             [
              0.2222222222222222,
              "#7201a8"
             ],
             [
              0.3333333333333333,
              "#9c179e"
             ],
             [
              0.4444444444444444,
              "#bd3786"
             ],
             [
              0.5555555555555556,
              "#d8576b"
             ],
             [
              0.6666666666666666,
              "#ed7953"
             ],
             [
              0.7777777777777778,
              "#fb9f3a"
             ],
             [
              0.8888888888888888,
              "#fdca26"
             ],
             [
              1,
              "#f0f921"
             ]
            ],
            "type": "histogram2dcontour"
           }
          ],
          "mesh3d": [
           {
            "colorbar": {
             "outlinewidth": 0,
             "ticks": ""
            },
            "type": "mesh3d"
           }
          ],
          "parcoords": [
           {
            "line": {
             "colorbar": {
              "outlinewidth": 0,
              "ticks": ""
             }
            },
            "type": "parcoords"
           }
          ],
          "pie": [
           {
            "automargin": true,
            "type": "pie"
           }
          ],
          "scatter": [
           {
            "fillpattern": {
             "fillmode": "overlay",
             "size": 10,
             "solidity": 0.2
            },
            "type": "scatter"
           }
          ],
          "scatter3d": [
           {
            "line": {
             "colorbar": {
              "outlinewidth": 0,
              "ticks": ""
             }
            },
            "marker": {
             "colorbar": {
              "outlinewidth": 0,
              "ticks": ""
             }
            },
            "type": "scatter3d"
           }
          ],
          "scattercarpet": [
           {
            "marker": {
             "colorbar": {
              "outlinewidth": 0,
              "ticks": ""
             }
            },
            "type": "scattercarpet"
           }
          ],
          "scattergeo": [
           {
            "marker": {
             "colorbar": {
              "outlinewidth": 0,
              "ticks": ""
             }
            },
            "type": "scattergeo"
           }
          ],
          "scattergl": [
           {
            "marker": {
             "colorbar": {
              "outlinewidth": 0,
              "ticks": ""
             }
            },
            "type": "scattergl"
           }
          ],
          "scattermapbox": [
           {
            "marker": {
             "colorbar": {
              "outlinewidth": 0,
              "ticks": ""
             }
            },
            "type": "scattermapbox"
           }
          ],
          "scatterpolar": [
           {
            "marker": {
             "colorbar": {
              "outlinewidth": 0,
              "ticks": ""
             }
            },
            "type": "scatterpolar"
           }
          ],
          "scatterpolargl": [
           {
            "marker": {
             "colorbar": {
              "outlinewidth": 0,
              "ticks": ""
             }
            },
            "type": "scatterpolargl"
           }
          ],
          "scatterternary": [
           {
            "marker": {
             "colorbar": {
              "outlinewidth": 0,
              "ticks": ""
             }
            },
            "type": "scatterternary"
           }
          ],
          "surface": [
           {
            "colorbar": {
             "outlinewidth": 0,
             "ticks": ""
            },
            "colorscale": [
             [
              0,
              "#0d0887"
             ],
             [
              0.1111111111111111,
              "#46039f"
             ],
             [
              0.2222222222222222,
              "#7201a8"
             ],
             [
              0.3333333333333333,
              "#9c179e"
             ],
             [
              0.4444444444444444,
              "#bd3786"
             ],
             [
              0.5555555555555556,
              "#d8576b"
             ],
             [
              0.6666666666666666,
              "#ed7953"
             ],
             [
              0.7777777777777778,
              "#fb9f3a"
             ],
             [
              0.8888888888888888,
              "#fdca26"
             ],
             [
              1,
              "#f0f921"
             ]
            ],
            "type": "surface"
           }
          ],
          "table": [
           {
            "cells": {
             "fill": {
              "color": "#EBF0F8"
             },
             "line": {
              "color": "white"
             }
            },
            "header": {
             "fill": {
              "color": "#C8D4E3"
             },
             "line": {
              "color": "white"
             }
            },
            "type": "table"
           }
          ]
         },
         "layout": {
          "annotationdefaults": {
           "arrowcolor": "#2a3f5f",
           "arrowhead": 0,
           "arrowwidth": 1
          },
          "autotypenumbers": "strict",
          "coloraxis": {
           "colorbar": {
            "outlinewidth": 0,
            "ticks": ""
           }
          },
          "colorscale": {
           "diverging": [
            [
             0,
             "#8e0152"
            ],
            [
             0.1,
             "#c51b7d"
            ],
            [
             0.2,
             "#de77ae"
            ],
            [
             0.3,
             "#f1b6da"
            ],
            [
             0.4,
             "#fde0ef"
            ],
            [
             0.5,
             "#f7f7f7"
            ],
            [
             0.6,
             "#e6f5d0"
            ],
            [
             0.7,
             "#b8e186"
            ],
            [
             0.8,
             "#7fbc41"
            ],
            [
             0.9,
             "#4d9221"
            ],
            [
             1,
             "#276419"
            ]
           ],
           "sequential": [
            [
             0,
             "#0d0887"
            ],
            [
             0.1111111111111111,
             "#46039f"
            ],
            [
             0.2222222222222222,
             "#7201a8"
            ],
            [
             0.3333333333333333,
             "#9c179e"
            ],
            [
             0.4444444444444444,
             "#bd3786"
            ],
            [
             0.5555555555555556,
             "#d8576b"
            ],
            [
             0.6666666666666666,
             "#ed7953"
            ],
            [
             0.7777777777777778,
             "#fb9f3a"
            ],
            [
             0.8888888888888888,
             "#fdca26"
            ],
            [
             1,
             "#f0f921"
            ]
           ],
           "sequentialminus": [
            [
             0,
             "#0d0887"
            ],
            [
             0.1111111111111111,
             "#46039f"
            ],
            [
             0.2222222222222222,
             "#7201a8"
            ],
            [
             0.3333333333333333,
             "#9c179e"
            ],
            [
             0.4444444444444444,
             "#bd3786"
            ],
            [
             0.5555555555555556,
             "#d8576b"
            ],
            [
             0.6666666666666666,
             "#ed7953"
            ],
            [
             0.7777777777777778,
             "#fb9f3a"
            ],
            [
             0.8888888888888888,
             "#fdca26"
            ],
            [
             1,
             "#f0f921"
            ]
           ]
          },
          "colorway": [
           "#636efa",
           "#EF553B",
           "#00cc96",
           "#ab63fa",
           "#FFA15A",
           "#19d3f3",
           "#FF6692",
           "#B6E880",
           "#FF97FF",
           "#FECB52"
          ],
          "font": {
           "color": "#2a3f5f"
          },
          "geo": {
           "bgcolor": "white",
           "lakecolor": "white",
           "landcolor": "#E5ECF6",
           "showlakes": true,
           "showland": true,
           "subunitcolor": "white"
          },
          "hoverlabel": {
           "align": "left"
          },
          "hovermode": "closest",
          "mapbox": {
           "style": "light"
          },
          "paper_bgcolor": "white",
          "plot_bgcolor": "#E5ECF6",
          "polar": {
           "angularaxis": {
            "gridcolor": "white",
            "linecolor": "white",
            "ticks": ""
           },
           "bgcolor": "#E5ECF6",
           "radialaxis": {
            "gridcolor": "white",
            "linecolor": "white",
            "ticks": ""
           }
          },
          "scene": {
           "xaxis": {
            "backgroundcolor": "#E5ECF6",
            "gridcolor": "white",
            "gridwidth": 2,
            "linecolor": "white",
            "showbackground": true,
            "ticks": "",
            "zerolinecolor": "white"
           },
           "yaxis": {
            "backgroundcolor": "#E5ECF6",
            "gridcolor": "white",
            "gridwidth": 2,
            "linecolor": "white",
            "showbackground": true,
            "ticks": "",
            "zerolinecolor": "white"
           },
           "zaxis": {
            "backgroundcolor": "#E5ECF6",
            "gridcolor": "white",
            "gridwidth": 2,
            "linecolor": "white",
            "showbackground": true,
            "ticks": "",
            "zerolinecolor": "white"
           }
          },
          "shapedefaults": {
           "line": {
            "color": "#2a3f5f"
           }
          },
          "ternary": {
           "aaxis": {
            "gridcolor": "white",
            "linecolor": "white",
            "ticks": ""
           },
           "baxis": {
            "gridcolor": "white",
            "linecolor": "white",
            "ticks": ""
           },
           "bgcolor": "#E5ECF6",
           "caxis": {
            "gridcolor": "white",
            "linecolor": "white",
            "ticks": ""
           }
          },
          "title": {
           "x": 0.05
          },
          "xaxis": {
           "automargin": true,
           "gridcolor": "white",
           "linecolor": "white",
           "ticks": "",
           "title": {
            "standoff": 15
           },
           "zerolinecolor": "white",
           "zerolinewidth": 2
          },
          "yaxis": {
           "automargin": true,
           "gridcolor": "white",
           "linecolor": "white",
           "ticks": "",
           "title": {
            "standoff": 15
           },
           "zerolinecolor": "white",
           "zerolinewidth": 2
          }
         }
        },
        "title": {
         "text": "52962_Lenti_Cas9_BSD [2886-7526]"
        },
        "xaxis": {
         "anchor": "y",
         "domain": [
          0,
          1
         ],
         "title": {
          "text": "MFE (kcal/mol)"
         }
        },
        "yaxis": {
         "anchor": "x",
         "domain": [
          0,
          1
         ],
         "title": {
          "text": "CAI"
         }
        }
       }
      }
     },
     "metadata": {},
     "output_type": "display_data"
    },
    {
     "data": {
      "application/vnd.plotly.v1+json": {
       "config": {
        "plotlyServerURL": "https://plot.ly"
       },
       "data": [
        {
         "customdata": [
          [
           "pLenti-IscB-P2A-BSD_KJY [2886-4955]",
           null
          ]
         ],
         "hovertemplate": "wildtype=True<br>MFE (kcal/mol)=%{x}<br>CAI=%{y}<br>Name=%{customdata[0]}<br>lambda=%{customdata[1]}<extra></extra>",
         "legendgroup": "True",
         "marker": {
          "color": "#636efa",
          "line": {
           "color": "DarkSlateGrey",
           "width": 2
          },
          "size": 12,
          "symbol": "circle"
         },
         "mode": "markers",
         "name": "True",
         "orientation": "v",
         "showlegend": true,
         "type": "scatter",
         "x": [
          -733.7999877929688
         ],
         "xaxis": "x",
         "y": [
          0.8758119748201438
         ],
         "yaxis": "y"
        },
        {
         "customdata": [
          [
           "pLenti-IscB-P2A-BSD_KJY [2886-4955]",
           0
          ],
          [
           "pLenti-IscB-P2A-BSD_KJY [2886-4955]",
           0.1
          ],
          [
           "pLenti-IscB-P2A-BSD_KJY [2886-4955]",
           0.2
          ],
          [
           "pLenti-IscB-P2A-BSD_KJY [2886-4955]",
           0.5
          ],
          [
           "pLenti-IscB-P2A-BSD_KJY [2886-4955]",
           1
          ],
          [
           "pLenti-IscB-P2A-BSD_KJY [2886-4955]",
           2
          ],
          [
           "pLenti-IscB-P2A-BSD_KJY [2886-4955]",
           5
          ],
          [
           "pLenti-IscB-P2A-BSD_KJY [2886-4955]",
           10
          ],
          [
           "pLenti-IscB-P2A-BSD_KJY [2886-4955]",
           1000
          ]
         ],
         "hovertemplate": "wildtype=False<br>MFE (kcal/mol)=%{x}<br>CAI=%{y}<br>Name=%{customdata[0]}<br>lambda=%{customdata[1]}<extra></extra>",
         "legendgroup": "False",
         "marker": {
          "color": "#EF553B",
          "line": {
           "color": "DarkSlateGrey",
           "width": 2
          },
          "size": 12,
          "symbol": "circle"
         },
         "mode": "markers",
         "name": "False",
         "orientation": "v",
         "showlegend": true,
         "type": "scatter",
         "x": [
          -1427.8,
          -1427.6,
          -1427.1,
          -1418,
          -1390.2,
          -1353.3,
          -1153.6,
          -1019,
          -864.3
         ],
         "xaxis": "x",
         "y": [
          0.74,
          0.757,
          0.76,
          0.798,
          0.848,
          0.879,
          0.965,
          0.99,
          1
         ],
         "yaxis": "y"
        }
       ],
       "layout": {
        "legend": {
         "title": {
          "text": "wildtype"
         },
         "tracegroupgap": 0
        },
        "template": {
         "data": {
          "bar": [
           {
            "error_x": {
             "color": "#2a3f5f"
            },
            "error_y": {
             "color": "#2a3f5f"
            },
            "marker": {
             "line": {
              "color": "#E5ECF6",
              "width": 0.5
             },
             "pattern": {
              "fillmode": "overlay",
              "size": 10,
              "solidity": 0.2
             }
            },
            "type": "bar"
           }
          ],
          "barpolar": [
           {
            "marker": {
             "line": {
              "color": "#E5ECF6",
              "width": 0.5
             },
             "pattern": {
              "fillmode": "overlay",
              "size": 10,
              "solidity": 0.2
             }
            },
            "type": "barpolar"
           }
          ],
          "carpet": [
           {
            "aaxis": {
             "endlinecolor": "#2a3f5f",
             "gridcolor": "white",
             "linecolor": "white",
             "minorgridcolor": "white",
             "startlinecolor": "#2a3f5f"
            },
            "baxis": {
             "endlinecolor": "#2a3f5f",
             "gridcolor": "white",
             "linecolor": "white",
             "minorgridcolor": "white",
             "startlinecolor": "#2a3f5f"
            },
            "type": "carpet"
           }
          ],
          "choropleth": [
           {
            "colorbar": {
             "outlinewidth": 0,
             "ticks": ""
            },
            "type": "choropleth"
           }
          ],
          "contour": [
           {
            "colorbar": {
             "outlinewidth": 0,
             "ticks": ""
            },
            "colorscale": [
             [
              0,
              "#0d0887"
             ],
             [
              0.1111111111111111,
              "#46039f"
             ],
             [
              0.2222222222222222,
              "#7201a8"
             ],
             [
              0.3333333333333333,
              "#9c179e"
             ],
             [
              0.4444444444444444,
              "#bd3786"
             ],
             [
              0.5555555555555556,
              "#d8576b"
             ],
             [
              0.6666666666666666,
              "#ed7953"
             ],
             [
              0.7777777777777778,
              "#fb9f3a"
             ],
             [
              0.8888888888888888,
              "#fdca26"
             ],
             [
              1,
              "#f0f921"
             ]
            ],
            "type": "contour"
           }
          ],
          "contourcarpet": [
           {
            "colorbar": {
             "outlinewidth": 0,
             "ticks": ""
            },
            "type": "contourcarpet"
           }
          ],
          "heatmap": [
           {
            "colorbar": {
             "outlinewidth": 0,
             "ticks": ""
            },
            "colorscale": [
             [
              0,
              "#0d0887"
             ],
             [
              0.1111111111111111,
              "#46039f"
             ],
             [
              0.2222222222222222,
              "#7201a8"
             ],
             [
              0.3333333333333333,
              "#9c179e"
             ],
             [
              0.4444444444444444,
              "#bd3786"
             ],
             [
              0.5555555555555556,
              "#d8576b"
             ],
             [
              0.6666666666666666,
              "#ed7953"
             ],
             [
              0.7777777777777778,
              "#fb9f3a"
             ],
             [
              0.8888888888888888,
              "#fdca26"
             ],
             [
              1,
              "#f0f921"
             ]
            ],
            "type": "heatmap"
           }
          ],
          "heatmapgl": [
           {
            "colorbar": {
             "outlinewidth": 0,
             "ticks": ""
            },
            "colorscale": [
             [
              0,
              "#0d0887"
             ],
             [
              0.1111111111111111,
              "#46039f"
             ],
             [
              0.2222222222222222,
              "#7201a8"
             ],
             [
              0.3333333333333333,
              "#9c179e"
             ],
             [
              0.4444444444444444,
              "#bd3786"
             ],
             [
              0.5555555555555556,
              "#d8576b"
             ],
             [
              0.6666666666666666,
              "#ed7953"
             ],
             [
              0.7777777777777778,
              "#fb9f3a"
             ],
             [
              0.8888888888888888,
              "#fdca26"
             ],
             [
              1,
              "#f0f921"
             ]
            ],
            "type": "heatmapgl"
           }
          ],
          "histogram": [
           {
            "marker": {
             "pattern": {
              "fillmode": "overlay",
              "size": 10,
              "solidity": 0.2
             }
            },
            "type": "histogram"
           }
          ],
          "histogram2d": [
           {
            "colorbar": {
             "outlinewidth": 0,
             "ticks": ""
            },
            "colorscale": [
             [
              0,
              "#0d0887"
             ],
             [
              0.1111111111111111,
              "#46039f"
             ],
             [
              0.2222222222222222,
              "#7201a8"
             ],
             [
              0.3333333333333333,
              "#9c179e"
             ],
             [
              0.4444444444444444,
              "#bd3786"
             ],
             [
              0.5555555555555556,
              "#d8576b"
             ],
             [
              0.6666666666666666,
              "#ed7953"
             ],
             [
              0.7777777777777778,
              "#fb9f3a"
             ],
             [
              0.8888888888888888,
              "#fdca26"
             ],
             [
              1,
              "#f0f921"
             ]
            ],
            "type": "histogram2d"
           }
          ],
          "histogram2dcontour": [
           {
            "colorbar": {
             "outlinewidth": 0,
             "ticks": ""
            },
            "colorscale": [
             [
              0,
              "#0d0887"
             ],
             [
              0.1111111111111111,
              "#46039f"
             ],
             [
              0.2222222222222222,
              "#7201a8"
             ],
             [
              0.3333333333333333,
              "#9c179e"
             ],
             [
              0.4444444444444444,
              "#bd3786"
             ],
             [
              0.5555555555555556,
              "#d8576b"
             ],
             [
              0.6666666666666666,
              "#ed7953"
             ],
             [
              0.7777777777777778,
              "#fb9f3a"
             ],
             [
              0.8888888888888888,
              "#fdca26"
             ],
             [
              1,
              "#f0f921"
             ]
            ],
            "type": "histogram2dcontour"
           }
          ],
          "mesh3d": [
           {
            "colorbar": {
             "outlinewidth": 0,
             "ticks": ""
            },
            "type": "mesh3d"
           }
          ],
          "parcoords": [
           {
            "line": {
             "colorbar": {
              "outlinewidth": 0,
              "ticks": ""
             }
            },
            "type": "parcoords"
           }
          ],
          "pie": [
           {
            "automargin": true,
            "type": "pie"
           }
          ],
          "scatter": [
           {
            "fillpattern": {
             "fillmode": "overlay",
             "size": 10,
             "solidity": 0.2
            },
            "type": "scatter"
           }
          ],
          "scatter3d": [
           {
            "line": {
             "colorbar": {
              "outlinewidth": 0,
              "ticks": ""
             }
            },
            "marker": {
             "colorbar": {
              "outlinewidth": 0,
              "ticks": ""
             }
            },
            "type": "scatter3d"
           }
          ],
          "scattercarpet": [
           {
            "marker": {
             "colorbar": {
              "outlinewidth": 0,
              "ticks": ""
             }
            },
            "type": "scattercarpet"
           }
          ],
          "scattergeo": [
           {
            "marker": {
             "colorbar": {
              "outlinewidth": 0,
              "ticks": ""
             }
            },
            "type": "scattergeo"
           }
          ],
          "scattergl": [
           {
            "marker": {
             "colorbar": {
              "outlinewidth": 0,
              "ticks": ""
             }
            },
            "type": "scattergl"
           }
          ],
          "scattermapbox": [
           {
            "marker": {
             "colorbar": {
              "outlinewidth": 0,
              "ticks": ""
             }
            },
            "type": "scattermapbox"
           }
          ],
          "scatterpolar": [
           {
            "marker": {
             "colorbar": {
              "outlinewidth": 0,
              "ticks": ""
             }
            },
            "type": "scatterpolar"
           }
          ],
          "scatterpolargl": [
           {
            "marker": {
             "colorbar": {
              "outlinewidth": 0,
              "ticks": ""
             }
            },
            "type": "scatterpolargl"
           }
          ],
          "scatterternary": [
           {
            "marker": {
             "colorbar": {
              "outlinewidth": 0,
              "ticks": ""
             }
            },
            "type": "scatterternary"
           }
          ],
          "surface": [
           {
            "colorbar": {
             "outlinewidth": 0,
             "ticks": ""
            },
            "colorscale": [
             [
              0,
              "#0d0887"
             ],
             [
              0.1111111111111111,
              "#46039f"
             ],
             [
              0.2222222222222222,
              "#7201a8"
             ],
             [
              0.3333333333333333,
              "#9c179e"
             ],
             [
              0.4444444444444444,
              "#bd3786"
             ],
             [
              0.5555555555555556,
              "#d8576b"
             ],
             [
              0.6666666666666666,
              "#ed7953"
             ],
             [
              0.7777777777777778,
              "#fb9f3a"
             ],
             [
              0.8888888888888888,
              "#fdca26"
             ],
             [
              1,
              "#f0f921"
             ]
            ],
            "type": "surface"
           }
          ],
          "table": [
           {
            "cells": {
             "fill": {
              "color": "#EBF0F8"
             },
             "line": {
              "color": "white"
             }
            },
            "header": {
             "fill": {
              "color": "#C8D4E3"
             },
             "line": {
              "color": "white"
             }
            },
            "type": "table"
           }
          ]
         },
         "layout": {
          "annotationdefaults": {
           "arrowcolor": "#2a3f5f",
           "arrowhead": 0,
           "arrowwidth": 1
          },
          "autotypenumbers": "strict",
          "coloraxis": {
           "colorbar": {
            "outlinewidth": 0,
            "ticks": ""
           }
          },
          "colorscale": {
           "diverging": [
            [
             0,
             "#8e0152"
            ],
            [
             0.1,
             "#c51b7d"
            ],
            [
             0.2,
             "#de77ae"
            ],
            [
             0.3,
             "#f1b6da"
            ],
            [
             0.4,
             "#fde0ef"
            ],
            [
             0.5,
             "#f7f7f7"
            ],
            [
             0.6,
             "#e6f5d0"
            ],
            [
             0.7,
             "#b8e186"
            ],
            [
             0.8,
             "#7fbc41"
            ],
            [
             0.9,
             "#4d9221"
            ],
            [
             1,
             "#276419"
            ]
           ],
           "sequential": [
            [
             0,
             "#0d0887"
            ],
            [
             0.1111111111111111,
             "#46039f"
            ],
            [
             0.2222222222222222,
             "#7201a8"
            ],
            [
             0.3333333333333333,
             "#9c179e"
            ],
            [
             0.4444444444444444,
             "#bd3786"
            ],
            [
             0.5555555555555556,
             "#d8576b"
            ],
            [
             0.6666666666666666,
             "#ed7953"
            ],
            [
             0.7777777777777778,
             "#fb9f3a"
            ],
            [
             0.8888888888888888,
             "#fdca26"
            ],
            [
             1,
             "#f0f921"
            ]
           ],
           "sequentialminus": [
            [
             0,
             "#0d0887"
            ],
            [
             0.1111111111111111,
             "#46039f"
            ],
            [
             0.2222222222222222,
             "#7201a8"
            ],
            [
             0.3333333333333333,
             "#9c179e"
            ],
            [
             0.4444444444444444,
             "#bd3786"
            ],
            [
             0.5555555555555556,
             "#d8576b"
            ],
            [
             0.6666666666666666,
             "#ed7953"
            ],
            [
             0.7777777777777778,
             "#fb9f3a"
            ],
            [
             0.8888888888888888,
             "#fdca26"
            ],
            [
             1,
             "#f0f921"
            ]
           ]
          },
          "colorway": [
           "#636efa",
           "#EF553B",
           "#00cc96",
           "#ab63fa",
           "#FFA15A",
           "#19d3f3",
           "#FF6692",
           "#B6E880",
           "#FF97FF",
           "#FECB52"
          ],
          "font": {
           "color": "#2a3f5f"
          },
          "geo": {
           "bgcolor": "white",
           "lakecolor": "white",
           "landcolor": "#E5ECF6",
           "showlakes": true,
           "showland": true,
           "subunitcolor": "white"
          },
          "hoverlabel": {
           "align": "left"
          },
          "hovermode": "closest",
          "mapbox": {
           "style": "light"
          },
          "paper_bgcolor": "white",
          "plot_bgcolor": "#E5ECF6",
          "polar": {
           "angularaxis": {
            "gridcolor": "white",
            "linecolor": "white",
            "ticks": ""
           },
           "bgcolor": "#E5ECF6",
           "radialaxis": {
            "gridcolor": "white",
            "linecolor": "white",
            "ticks": ""
           }
          },
          "scene": {
           "xaxis": {
            "backgroundcolor": "#E5ECF6",
            "gridcolor": "white",
            "gridwidth": 2,
            "linecolor": "white",
            "showbackground": true,
            "ticks": "",
            "zerolinecolor": "white"
           },
           "yaxis": {
            "backgroundcolor": "#E5ECF6",
            "gridcolor": "white",
            "gridwidth": 2,
            "linecolor": "white",
            "showbackground": true,
            "ticks": "",
            "zerolinecolor": "white"
           },
           "zaxis": {
            "backgroundcolor": "#E5ECF6",
            "gridcolor": "white",
            "gridwidth": 2,
            "linecolor": "white",
            "showbackground": true,
            "ticks": "",
            "zerolinecolor": "white"
           }
          },
          "shapedefaults": {
           "line": {
            "color": "#2a3f5f"
           }
          },
          "ternary": {
           "aaxis": {
            "gridcolor": "white",
            "linecolor": "white",
            "ticks": ""
           },
           "baxis": {
            "gridcolor": "white",
            "linecolor": "white",
            "ticks": ""
           },
           "bgcolor": "#E5ECF6",
           "caxis": {
            "gridcolor": "white",
            "linecolor": "white",
            "ticks": ""
           }
          },
          "title": {
           "x": 0.05
          },
          "xaxis": {
           "automargin": true,
           "gridcolor": "white",
           "linecolor": "white",
           "ticks": "",
           "title": {
            "standoff": 15
           },
           "zerolinecolor": "white",
           "zerolinewidth": 2
          },
          "yaxis": {
           "automargin": true,
           "gridcolor": "white",
           "linecolor": "white",
           "ticks": "",
           "title": {
            "standoff": 15
           },
           "zerolinecolor": "white",
           "zerolinewidth": 2
          }
         }
        },
        "title": {
         "text": "pLenti-IscB-P2A-BSD_KJY [2886-4955]"
        },
        "xaxis": {
         "anchor": "y",
         "domain": [
          0,
          1
         ],
         "title": {
          "text": "MFE (kcal/mol)"
         }
        },
        "yaxis": {
         "anchor": "x",
         "domain": [
          0,
          1
         ],
         "title": {
          "text": "CAI"
         }
        }
       }
      }
     },
     "metadata": {},
     "output_type": "display_data"
    },
    {
     "data": {
      "application/vnd.plotly.v1+json": {
       "config": {
        "plotlyServerURL": "https://plot.ly"
       },
       "data": [
        {
         "customdata": [
          [
           "pLenti-TnpB-P2A-BSD_KJY [2886-4691]",
           null
          ]
         ],
         "hovertemplate": "wildtype=True<br>MFE (kcal/mol)=%{x}<br>CAI=%{y}<br>Name=%{customdata[0]}<br>lambda=%{customdata[1]}<extra></extra>",
         "legendgroup": "True",
         "marker": {
          "color": "#636efa",
          "line": {
           "color": "DarkSlateGrey",
           "width": 2
          },
          "size": 12,
          "symbol": "circle"
         },
         "mode": "markers",
         "name": "True",
         "orientation": "v",
         "showlegend": true,
         "type": "scatter",
         "x": [
          -633.9000244140625
         ],
         "xaxis": "x",
         "y": [
          0.8703572563575799
         ],
         "yaxis": "y"
        },
        {
         "customdata": [
          [
           "pLenti-TnpB-P2A-BSD_KJY [2886-4691]",
           0
          ],
          [
           "pLenti-TnpB-P2A-BSD_KJY [2886-4691]",
           0.1
          ],
          [
           "pLenti-TnpB-P2A-BSD_KJY [2886-4691]",
           0.2
          ],
          [
           "pLenti-TnpB-P2A-BSD_KJY [2886-4691]",
           0.5
          ],
          [
           "pLenti-TnpB-P2A-BSD_KJY [2886-4691]",
           1
          ],
          [
           "pLenti-TnpB-P2A-BSD_KJY [2886-4691]",
           2
          ],
          [
           "pLenti-TnpB-P2A-BSD_KJY [2886-4691]",
           5
          ],
          [
           "pLenti-TnpB-P2A-BSD_KJY [2886-4691]",
           10
          ],
          [
           "pLenti-TnpB-P2A-BSD_KJY [2886-4691]",
           1000
          ]
         ],
         "hovertemplate": "wildtype=False<br>MFE (kcal/mol)=%{x}<br>CAI=%{y}<br>Name=%{customdata[0]}<br>lambda=%{customdata[1]}<extra></extra>",
         "legendgroup": "False",
         "marker": {
          "color": "#EF553B",
          "line": {
           "color": "DarkSlateGrey",
           "width": 2
          },
          "size": 12,
          "symbol": "circle"
         },
         "mode": "markers",
         "name": "False",
         "orientation": "v",
         "showlegend": true,
         "type": "scatter",
         "x": [
          -1268.4,
          -1268.4,
          -1268.4,
          -1259.9,
          -1233.8,
          -1177,
          -1028.6,
          -921,
          -746.4
         ],
         "xaxis": "x",
         "y": [
          0.751,
          0.756,
          0.756,
          0.794,
          0.837,
          0.89,
          0.96,
          0.985,
          1
         ],
         "yaxis": "y"
        }
       ],
       "layout": {
        "legend": {
         "title": {
          "text": "wildtype"
         },
         "tracegroupgap": 0
        },
        "template": {
         "data": {
          "bar": [
           {
            "error_x": {
             "color": "#2a3f5f"
            },
            "error_y": {
             "color": "#2a3f5f"
            },
            "marker": {
             "line": {
              "color": "#E5ECF6",
              "width": 0.5
             },
             "pattern": {
              "fillmode": "overlay",
              "size": 10,
              "solidity": 0.2
             }
            },
            "type": "bar"
           }
          ],
          "barpolar": [
           {
            "marker": {
             "line": {
              "color": "#E5ECF6",
              "width": 0.5
             },
             "pattern": {
              "fillmode": "overlay",
              "size": 10,
              "solidity": 0.2
             }
            },
            "type": "barpolar"
           }
          ],
          "carpet": [
           {
            "aaxis": {
             "endlinecolor": "#2a3f5f",
             "gridcolor": "white",
             "linecolor": "white",
             "minorgridcolor": "white",
             "startlinecolor": "#2a3f5f"
            },
            "baxis": {
             "endlinecolor": "#2a3f5f",
             "gridcolor": "white",
             "linecolor": "white",
             "minorgridcolor": "white",
             "startlinecolor": "#2a3f5f"
            },
            "type": "carpet"
           }
          ],
          "choropleth": [
           {
            "colorbar": {
             "outlinewidth": 0,
             "ticks": ""
            },
            "type": "choropleth"
           }
          ],
          "contour": [
           {
            "colorbar": {
             "outlinewidth": 0,
             "ticks": ""
            },
            "colorscale": [
             [
              0,
              "#0d0887"
             ],
             [
              0.1111111111111111,
              "#46039f"
             ],
             [
              0.2222222222222222,
              "#7201a8"
             ],
             [
              0.3333333333333333,
              "#9c179e"
             ],
             [
              0.4444444444444444,
              "#bd3786"
             ],
             [
              0.5555555555555556,
              "#d8576b"
             ],
             [
              0.6666666666666666,
              "#ed7953"
             ],
             [
              0.7777777777777778,
              "#fb9f3a"
             ],
             [
              0.8888888888888888,
              "#fdca26"
             ],
             [
              1,
              "#f0f921"
             ]
            ],
            "type": "contour"
           }
          ],
          "contourcarpet": [
           {
            "colorbar": {
             "outlinewidth": 0,
             "ticks": ""
            },
            "type": "contourcarpet"
           }
          ],
          "heatmap": [
           {
            "colorbar": {
             "outlinewidth": 0,
             "ticks": ""
            },
            "colorscale": [
             [
              0,
              "#0d0887"
             ],
             [
              0.1111111111111111,
              "#46039f"
             ],
             [
              0.2222222222222222,
              "#7201a8"
             ],
             [
              0.3333333333333333,
              "#9c179e"
             ],
             [
              0.4444444444444444,
              "#bd3786"
             ],
             [
              0.5555555555555556,
              "#d8576b"
             ],
             [
              0.6666666666666666,
              "#ed7953"
             ],
             [
              0.7777777777777778,
              "#fb9f3a"
             ],
             [
              0.8888888888888888,
              "#fdca26"
             ],
             [
              1,
              "#f0f921"
             ]
            ],
            "type": "heatmap"
           }
          ],
          "heatmapgl": [
           {
            "colorbar": {
             "outlinewidth": 0,
             "ticks": ""
            },
            "colorscale": [
             [
              0,
              "#0d0887"
             ],
             [
              0.1111111111111111,
              "#46039f"
             ],
             [
              0.2222222222222222,
              "#7201a8"
             ],
             [
              0.3333333333333333,
              "#9c179e"
             ],
             [
              0.4444444444444444,
              "#bd3786"
             ],
             [
              0.5555555555555556,
              "#d8576b"
             ],
             [
              0.6666666666666666,
              "#ed7953"
             ],
             [
              0.7777777777777778,
              "#fb9f3a"
             ],
             [
              0.8888888888888888,
              "#fdca26"
             ],
             [
              1,
              "#f0f921"
             ]
            ],
            "type": "heatmapgl"
           }
          ],
          "histogram": [
           {
            "marker": {
             "pattern": {
              "fillmode": "overlay",
              "size": 10,
              "solidity": 0.2
             }
            },
            "type": "histogram"
           }
          ],
          "histogram2d": [
           {
            "colorbar": {
             "outlinewidth": 0,
             "ticks": ""
            },
            "colorscale": [
             [
              0,
              "#0d0887"
             ],
             [
              0.1111111111111111,
              "#46039f"
             ],
             [
              0.2222222222222222,
              "#7201a8"
             ],
             [
              0.3333333333333333,
              "#9c179e"
             ],
             [
              0.4444444444444444,
              "#bd3786"
             ],
             [
              0.5555555555555556,
              "#d8576b"
             ],
             [
              0.6666666666666666,
              "#ed7953"
             ],
             [
              0.7777777777777778,
              "#fb9f3a"
             ],
             [
              0.8888888888888888,
              "#fdca26"
             ],
             [
              1,
              "#f0f921"
             ]
            ],
            "type": "histogram2d"
           }
          ],
          "histogram2dcontour": [
           {
            "colorbar": {
             "outlinewidth": 0,
             "ticks": ""
            },
            "colorscale": [
             [
              0,
              "#0d0887"
             ],
             [
              0.1111111111111111,
              "#46039f"
             ],
             [
              0.2222222222222222,
              "#7201a8"
             ],
             [
              0.3333333333333333,
              "#9c179e"
             ],
             [
              0.4444444444444444,
              "#bd3786"
             ],
             [
              0.5555555555555556,
              "#d8576b"
             ],
             [
              0.6666666666666666,
              "#ed7953"
             ],
             [
              0.7777777777777778,
              "#fb9f3a"
             ],
             [
              0.8888888888888888,
              "#fdca26"
             ],
             [
              1,
              "#f0f921"
             ]
            ],
            "type": "histogram2dcontour"
           }
          ],
          "mesh3d": [
           {
            "colorbar": {
             "outlinewidth": 0,
             "ticks": ""
            },
            "type": "mesh3d"
           }
          ],
          "parcoords": [
           {
            "line": {
             "colorbar": {
              "outlinewidth": 0,
              "ticks": ""
             }
            },
            "type": "parcoords"
           }
          ],
          "pie": [
           {
            "automargin": true,
            "type": "pie"
           }
          ],
          "scatter": [
           {
            "fillpattern": {
             "fillmode": "overlay",
             "size": 10,
             "solidity": 0.2
            },
            "type": "scatter"
           }
          ],
          "scatter3d": [
           {
            "line": {
             "colorbar": {
              "outlinewidth": 0,
              "ticks": ""
             }
            },
            "marker": {
             "colorbar": {
              "outlinewidth": 0,
              "ticks": ""
             }
            },
            "type": "scatter3d"
           }
          ],
          "scattercarpet": [
           {
            "marker": {
             "colorbar": {
              "outlinewidth": 0,
              "ticks": ""
             }
            },
            "type": "scattercarpet"
           }
          ],
          "scattergeo": [
           {
            "marker": {
             "colorbar": {
              "outlinewidth": 0,
              "ticks": ""
             }
            },
            "type": "scattergeo"
           }
          ],
          "scattergl": [
           {
            "marker": {
             "colorbar": {
              "outlinewidth": 0,
              "ticks": ""
             }
            },
            "type": "scattergl"
           }
          ],
          "scattermapbox": [
           {
            "marker": {
             "colorbar": {
              "outlinewidth": 0,
              "ticks": ""
             }
            },
            "type": "scattermapbox"
           }
          ],
          "scatterpolar": [
           {
            "marker": {
             "colorbar": {
              "outlinewidth": 0,
              "ticks": ""
             }
            },
            "type": "scatterpolar"
           }
          ],
          "scatterpolargl": [
           {
            "marker": {
             "colorbar": {
              "outlinewidth": 0,
              "ticks": ""
             }
            },
            "type": "scatterpolargl"
           }
          ],
          "scatterternary": [
           {
            "marker": {
             "colorbar": {
              "outlinewidth": 0,
              "ticks": ""
             }
            },
            "type": "scatterternary"
           }
          ],
          "surface": [
           {
            "colorbar": {
             "outlinewidth": 0,
             "ticks": ""
            },
            "colorscale": [
             [
              0,
              "#0d0887"
             ],
             [
              0.1111111111111111,
              "#46039f"
             ],
             [
              0.2222222222222222,
              "#7201a8"
             ],
             [
              0.3333333333333333,
              "#9c179e"
             ],
             [
              0.4444444444444444,
              "#bd3786"
             ],
             [
              0.5555555555555556,
              "#d8576b"
             ],
             [
              0.6666666666666666,
              "#ed7953"
             ],
             [
              0.7777777777777778,
              "#fb9f3a"
             ],
             [
              0.8888888888888888,
              "#fdca26"
             ],
             [
              1,
              "#f0f921"
             ]
            ],
            "type": "surface"
           }
          ],
          "table": [
           {
            "cells": {
             "fill": {
              "color": "#EBF0F8"
             },
             "line": {
              "color": "white"
             }
            },
            "header": {
             "fill": {
              "color": "#C8D4E3"
             },
             "line": {
              "color": "white"
             }
            },
            "type": "table"
           }
          ]
         },
         "layout": {
          "annotationdefaults": {
           "arrowcolor": "#2a3f5f",
           "arrowhead": 0,
           "arrowwidth": 1
          },
          "autotypenumbers": "strict",
          "coloraxis": {
           "colorbar": {
            "outlinewidth": 0,
            "ticks": ""
           }
          },
          "colorscale": {
           "diverging": [
            [
             0,
             "#8e0152"
            ],
            [
             0.1,
             "#c51b7d"
            ],
            [
             0.2,
             "#de77ae"
            ],
            [
             0.3,
             "#f1b6da"
            ],
            [
             0.4,
             "#fde0ef"
            ],
            [
             0.5,
             "#f7f7f7"
            ],
            [
             0.6,
             "#e6f5d0"
            ],
            [
             0.7,
             "#b8e186"
            ],
            [
             0.8,
             "#7fbc41"
            ],
            [
             0.9,
             "#4d9221"
            ],
            [
             1,
             "#276419"
            ]
           ],
           "sequential": [
            [
             0,
             "#0d0887"
            ],
            [
             0.1111111111111111,
             "#46039f"
            ],
            [
             0.2222222222222222,
             "#7201a8"
            ],
            [
             0.3333333333333333,
             "#9c179e"
            ],
            [
             0.4444444444444444,
             "#bd3786"
            ],
            [
             0.5555555555555556,
             "#d8576b"
            ],
            [
             0.6666666666666666,
             "#ed7953"
            ],
            [
             0.7777777777777778,
             "#fb9f3a"
            ],
            [
             0.8888888888888888,
             "#fdca26"
            ],
            [
             1,
             "#f0f921"
            ]
           ],
           "sequentialminus": [
            [
             0,
             "#0d0887"
            ],
            [
             0.1111111111111111,
             "#46039f"
            ],
            [
             0.2222222222222222,
             "#7201a8"
            ],
            [
             0.3333333333333333,
             "#9c179e"
            ],
            [
             0.4444444444444444,
             "#bd3786"
            ],
            [
             0.5555555555555556,
             "#d8576b"
            ],
            [
             0.6666666666666666,
             "#ed7953"
            ],
            [
             0.7777777777777778,
             "#fb9f3a"
            ],
            [
             0.8888888888888888,
             "#fdca26"
            ],
            [
             1,
             "#f0f921"
            ]
           ]
          },
          "colorway": [
           "#636efa",
           "#EF553B",
           "#00cc96",
           "#ab63fa",
           "#FFA15A",
           "#19d3f3",
           "#FF6692",
           "#B6E880",
           "#FF97FF",
           "#FECB52"
          ],
          "font": {
           "color": "#2a3f5f"
          },
          "geo": {
           "bgcolor": "white",
           "lakecolor": "white",
           "landcolor": "#E5ECF6",
           "showlakes": true,
           "showland": true,
           "subunitcolor": "white"
          },
          "hoverlabel": {
           "align": "left"
          },
          "hovermode": "closest",
          "mapbox": {
           "style": "light"
          },
          "paper_bgcolor": "white",
          "plot_bgcolor": "#E5ECF6",
          "polar": {
           "angularaxis": {
            "gridcolor": "white",
            "linecolor": "white",
            "ticks": ""
           },
           "bgcolor": "#E5ECF6",
           "radialaxis": {
            "gridcolor": "white",
            "linecolor": "white",
            "ticks": ""
           }
          },
          "scene": {
           "xaxis": {
            "backgroundcolor": "#E5ECF6",
            "gridcolor": "white",
            "gridwidth": 2,
            "linecolor": "white",
            "showbackground": true,
            "ticks": "",
            "zerolinecolor": "white"
           },
           "yaxis": {
            "backgroundcolor": "#E5ECF6",
            "gridcolor": "white",
            "gridwidth": 2,
            "linecolor": "white",
            "showbackground": true,
            "ticks": "",
            "zerolinecolor": "white"
           },
           "zaxis": {
            "backgroundcolor": "#E5ECF6",
            "gridcolor": "white",
            "gridwidth": 2,
            "linecolor": "white",
            "showbackground": true,
            "ticks": "",
            "zerolinecolor": "white"
           }
          },
          "shapedefaults": {
           "line": {
            "color": "#2a3f5f"
           }
          },
          "ternary": {
           "aaxis": {
            "gridcolor": "white",
            "linecolor": "white",
            "ticks": ""
           },
           "baxis": {
            "gridcolor": "white",
            "linecolor": "white",
            "ticks": ""
           },
           "bgcolor": "#E5ECF6",
           "caxis": {
            "gridcolor": "white",
            "linecolor": "white",
            "ticks": ""
           }
          },
          "title": {
           "x": 0.05
          },
          "xaxis": {
           "automargin": true,
           "gridcolor": "white",
           "linecolor": "white",
           "ticks": "",
           "title": {
            "standoff": 15
           },
           "zerolinecolor": "white",
           "zerolinewidth": 2
          },
          "yaxis": {
           "automargin": true,
           "gridcolor": "white",
           "linecolor": "white",
           "ticks": "",
           "title": {
            "standoff": 15
           },
           "zerolinecolor": "white",
           "zerolinewidth": 2
          }
         }
        },
        "title": {
         "text": "pLenti-TnpB-P2A-BSD_KJY [2886-4691]"
        },
        "xaxis": {
         "anchor": "y",
         "domain": [
          0,
          1
         ],
         "title": {
          "text": "MFE (kcal/mol)"
         }
        },
        "yaxis": {
         "anchor": "x",
         "domain": [
          0,
          1
         ],
         "title": {
          "text": "CAI"
         }
        }
       }
      }
     },
     "metadata": {},
     "output_type": "display_data"
    }
   ],
   "source": [
    "def vis(group):\n",
    "    fig = px.scatter(group, x=\"MFE (kcal/mol)\", y=\"CAI\", color=\"wildtype\", hover_data=[\"Name\", \"lambda\"], title=f\"{group.iloc[0]['Name']}\")\n",
    "    fig.update_traces(marker=dict(size=12,\n",
    "                              line=dict(width=2,\n",
    "                                        color='DarkSlateGrey')),\n",
    "                  selector=dict(mode='markers'))\n",
    "    fig.show()\n",
    "    fig.write_html(f\"./plots/{group.iloc[0]['Name']}.html\")\n",
    "    fig.write_image(f\"./plots/{group.iloc[0]['Name']}.png\")\n",
    "\n",
    "for name, group in protein_group:\n",
    "    vis(group)"
   ]
  },
  {
   "cell_type": "code",
   "execution_count": null,
   "metadata": {},
   "outputs": [],
   "source": []
  }
 ],
 "metadata": {
  "kernelspec": {
   "display_name": "Python 3",
   "language": "python",
   "name": "python3"
  },
  "language_info": {
   "codemirror_mode": {
    "name": "ipython",
    "version": 3
   },
   "file_extension": ".py",
   "mimetype": "text/x-python",
   "name": "python",
   "nbconvert_exporter": "python",
   "pygments_lexer": "ipython3",
   "version": "3.9.16"
  },
  "orig_nbformat": 4
 },
 "nbformat": 4,
 "nbformat_minor": 2
}
