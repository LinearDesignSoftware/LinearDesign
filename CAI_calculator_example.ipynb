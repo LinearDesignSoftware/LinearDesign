{
 "cells": [
  {
   "cell_type": "code",
   "execution_count": 1,
   "metadata": {},
   "outputs": [],
   "source": [
    "import numpy as np\n",
    "import pandas as pd\n",
    "\n",
    "EXAMPLE_SEQ = \"AUGGACAAGAAGUACUCCAUCGGCCUUGACAUUGGCACUAAUUCCGUCGGUUGGGCCGUGAUCACUGAUGAGUACAAGGUCCCGUCCAAGAAAUUCAAGGUGCUGGGUAACACCGAUCGACAUAGUAUCAAGAAGAACUUGAUCGGCGCCUUGCUGUUCGAUUCAGGCGAGACGGCGGAGGCCACUCGCCUGAAGCGAACAGCAAGGCGCCGAUACACGCGGCGGAAGAAUCGGAUAUGCUACCUCCAGGAGAUAUUCUCGAACGAGAUGGCGAAGGUGGACGACUCGUUCUUCCACCGCCUCGAGGAGAGCUUUCUCGUCGAGGAGGACAAGAAGCACGAGCGCCACCCCAUCUUCGGGAAUAUCGUCGACGAGGUAGCAUAUCACGAGAAGUAUCCGACUAUCUACCAUCUUCGGAAGAAGUUGGUAGAUAGUACGGAUAAGGCCGACCUGCGCCUUAUCUAUUUGGCGUUGGCCCAUAUGAUCAAGUUUCGAGGACACUUCCUGAUCGAGGGUGAUCUCAAUCCAGAUAAUAGCGAUGUGGACAAGCUGUUCAUACAGCUUGUCCAGACGUACAACCAGCUCUUCGAGGAGAACCCUAUCAACGCCUCGGGUGUGGACGCCAAGGCCAUACUUAGUGCGCGGCUGUCCAAGUCGCGCCGCUUGGAGAAUCUGAUCGCCCAGCUGCCGGGUGAGAAGAAGAACGGCCUGUUCGGCAAUCUGAUAGCCCUCUCGCUCGGCCUUACGCCAAAUUUCAAGUCGAACUUCGACCUCGCUGAGGAUGCGAAGCUUCAGUUGAGCAAGGACACCUAUGAUGAUGAUCUUGACAACCUCCUCGCUCAGAUCGGCGACCAGUACGCCGAUCUCUUCCUGGCGGCGAAGAAUCUGAGCGAUGCAAUUCUCCUGAGUGACAUUCUGAGGGUGAAUACUGAAAUUACGAAGGCUCCGCUGUCUGCCAGCAUGAUCAAGCGGUACGAUGAGCAUCACCAGGACCUGACGCUCCUCAAGGCUCUCGUCCGUCAGCAGCUCCCGGAGAAGUACAAGGAGAUCUUCUUCGACCAGUCGAAGAACGGAUACGCCGGGUACAUCGACGGGGGCGCUUCCCAGGAGGAGUUUUAUAAGUUUAUAAAGCCCAUCCUGGAGAAGAUGGACGGGACCGAGGAGCUCCUGGUGAAGCUCAACCGCGAGGAUCUGCUGCGCAAGCAGCGGACCUUCGAUAAUGGCAGUAUUCCCCAUCAGAUUCACUUAGGAGAGUUGCACGCGAUUCUUCGCCGCCAGGAAGACUUCUACCCCUUCCUCAAAGAUAACAGGGAGAAGAUCGAGAAGAUCCUCACCUUCCGCAUCCCGUAUUACGUGGGUCCCCUGGCGCGGGGGAACUCACGUUUUGCGUGGAUGACGCGGAAGAGUGAGGAGACGAUCACUCCCUGGAACUUUGAGGAAGUGGUAGACAAGGGUGCUUCGGCACAGUCCUUCAUCGAGCGGAUGACAAAUUUUGACAAGAAUUUGCCGAACGAGAAGGUCUUGCCGAAGCACUCGCUGCUUUACGAGUACUUUACGGUUUACAACGAGUUGACGAAGGUCAAGUACGUCACUGAGGGAAUGCGGAAGCCCGCAUUCCUCAGUGGCGAACAGAAGAAGGCCAUCGUCGACUUGUUGUUCAAGACGAACCGUAAAGUAACCGUGAAGCAGCUGAAGGAGGACUACUUCAAGAAGAUUGAGUGUUUCGACUCGGUGGAGAUUUCAGGAGUUGAGGACCGCUUUAAUGCCUCCCUCGGUACGUAUCAUGAUCUCCUCAAGAUUAUCAAGGAUAAGGACUUCCUUGAUAAUGAGGAGAAUGAGGAUAUUCUCGAGGACAUUGUGCUGACCCUCACCCUGUUCGAAGACCGUGAGAUGAUUGAGGAACGGUUGAAGACCUACGCUCAUCUGUUUGAUGACAAGGUCAUGAAGCAGUUGAAGCGUAGGCGUUAUACCGGCUGGGGUCGUCUUUCCCGAAAGCUUAUCAACGGGAUCCGUGAUAAGCAGUCGGGAAAGACGAUCCUAGACUUCCUCAAGUCUGACGGUUUUGCGAACAGGAACUUCAUGCAGCUCAUCCACGACGACUCCUUGACCUUCAAGGAGGAUAUCCAGAAGGCGCAGGUGAGCGGCCAGGGCGAUAGCUUGCACGAGCAUAUCGCGAACCUGGCCGGCUCACCUGCGAUCAAGAAGGGUAUCCUCCAGACGGUCAAGGUCGUGGAUGAGCUCGUGAAGGUGAUGGGUCGGCACAAGCCCGAGAAUAUCGUCAUCGAGAUGGCUCGCGAGAAUCAGACGACCCAGAAGGGUCAGAAGAAUUCUCGCGAGCGCAUGAAGCGUAUCGAGGAGGGCAUUAAAGAGCUCGGUUCUCAAAUCCUGAAAGAGCACCCAGUCGAGAACACUCAGCUUCAGAACGAGAAGCUCUACCUCUAUUACUUGCAGAACGGGCGGGACAUGUAUGUCGAUCAGGAGUUGGACAUCAAUAGGCUCUCGGACUACGAUGUGGACCACAUCGUUCCGCAGAGCUUUUUGAAGGACGACUCCAUCGACAACAAGGUCCUGACCCGUUCUGACAAGAAUAGAGGUAAGAGCGACAACGUUCCGAGCGAGGAGGUUGUCAAGAAGAUGAAGAAUUAUUGGCGUCAGUUGCUCAACGCGAAGCUCAUCACUCAGCGGAAGUUCGACAAUUUGACGAAGGCCGAGCGAGGAGGGCUGUCAGAGCUGGACAAGGCCGGCUUCAUCAAACGGCAGCUGGUGGAGACGCGUCAGAUUACCAAGCACGUGGCGCAGAUCUUGGACAGCCGCAUGAACACUAAGUAUGACGAGAAUGACAAGCUUAUUCGGGAGGUCAAGGUCAUUACCCUUAAGUCGAAGCUCGUCAGCGACUUUCGCAAGGAUUUUCAGUUUUAUAAAGUUCGUGAGAUAAACAAUUAUCACCAUGCCCACGACGCGUACCUGAACGCCGUCGUGGGCACGGCGCUGAUAAAGAAGUACCCGAAGCUGGAGUCCGAGUUCGUUUAUGGCGAUUAUAAGGUGUACGACGUGCGCAAGAUGAUCGCCAAGAGCGAGCAGGAGAUCGGAAAGGCUACGGCGAAGUACUUCUUUUACAGCAACAUCAUGAACUUUUUUAAGACUGAGAUCACCCUUGCGAAUGGCGAGAUCCGCAAGCGCCCGUUGAUCGAGACGAACGGGGAGACUGGGGAGAUUGUGUGGGAUAAGGGUCGGGAUUUCGCUACGGUGAGAAAGGUUCUUUCGAUGCCCCAGGUCAACAUCGUCAAGAAGACGGAGGUUCAGACCGGGGGCUUCUCGAAAGAAUCUAUCUUACCGAAGCGAAAUUCCGACAAGCUUAUCGCACGCAAGAAGGACUGGGACCCCAAGAAGUACGGGGGGUUCGACAGUCCUACGGUGGCCUACUCCGUGUUGGUGGUCGCCAAGGUUGAGAAGGGCAAGAGCAAGAAGCUCAAGUCCGUCAAGGAGCUCUUGGGGAUCACCAUCAUGGAGAGGUCAUCGUUUGAGAAGAAUCCUAUUGACUUCCUUGAAGCCAAGGGCUACAAGGAAGUCAAGAAGGAUUUGAUCAUCAAGCUCCCCAAGUACUCCCUGUUCGAGCUCGAGAACGGGCGCAAGCGGAUGCUCGCCAGCGCUGGCGAGCUUCAGAAGGGUAAUGAGCUUGCCCUCCCGAGUAAGUAUGUCAACUUCUUGUACUUGGCGUCCCACUACGAGAAGUUGAAGGGUUCUCCCGAAGACAACGAGCAGAAGCAGCUGUUCGUUGAGCAGCACAAGCAUUAUCUGGAUGAGAUCAUCGAGCAGAUCAGCGAGUUCUCGAAGCGGGUCAUAUUGGCCGACGCCAAUCUAGAUAAGGUGCUGUCGGCCUACAACAAGCACCGAGAUAAGCCAAUACGUGAGCAGGCGGAGAACAUCAUCCACCUGUUCACGUUGACUAAUCUCGGUGCUCCCGCCGCGUUCAAGUACUUCGAUACUACGAUCGAUCGGAAGCGUUACACCAGCACCAAGGAGGUCUUGGACGCGACCUUGAUUCAUCAGUCGAUCACCGGCCUAUACGAGACCCGCAUUGAUUUGUCGCAGCUGGGCGGUGACAAGCGCCCAGCUGCGACAAAGAAAGCGGGUCAGGCGAAGAAGAAGAAGGACUACAAGGACGACGACGACAAGGGCUCAGGAGCCACGAACUUCUCGUUGCUGAAGCAGGCCGGCGAUGUAGAGGAGAAUCCCGGCCCCAUGGCCAAGCCGCUGUCCCAGGAGGAGUCGACGUUGAUCGAGCGGGCGACCGCUACGAUCAACUCGAUUCCUAUCUCGGAGGACUACUCAGUUGCGAGCGCGGCCCUCUCGUCAGAUGGUAGAAUAUUCACGGGGGUGAAUGUCUACCAUUUCACGGGAGGGCCGUGCGCGGAGCUGGUAGUCCUCGGGACAGCGGCGGCCGCGGCGGCCGGGAAUCUCACCUGCAUCGUGGCCAUCGGCAACGAGAAUCGUGGCAUCCUGAGCCCUUGUGGUCGUUGUCGUCAGGUCCUUCUUGAUCUUCACCCCGGAAUUAAGGCCAUUGUCAAGGACUCCGAUGGACAGCCCACCGCCGUAGGCAUUCGGGAGCUGCUCCCGAGUGGCUACGUGUGGGAGGGCUGA\"\n",
    "LABEL = 0.79\n",
    "CODON_USAGE_TABLE = \"./codon_usage_freq_table_human.csv\"\n",
    "\n",
    "\n"
   ]
  },
  {
   "cell_type": "code",
   "execution_count": 45,
   "metadata": {},
   "outputs": [
    {
     "data": {
      "text/html": [
       "<div>\n",
       "<style scoped>\n",
       "    .dataframe tbody tr th:only-of-type {\n",
       "        vertical-align: middle;\n",
       "    }\n",
       "\n",
       "    .dataframe tbody tr th {\n",
       "        vertical-align: top;\n",
       "    }\n",
       "\n",
       "    .dataframe thead th {\n",
       "        text-align: right;\n",
       "    }\n",
       "</style>\n",
       "<table border=\"1\" class=\"dataframe\">\n",
       "  <thead>\n",
       "    <tr style=\"text-align: right;\">\n",
       "      <th></th>\n",
       "      <th>X</th>\n",
       "      <th>c_max</th>\n",
       "    </tr>\n",
       "    <tr>\n",
       "      <th>#</th>\n",
       "      <th></th>\n",
       "      <th></th>\n",
       "    </tr>\n",
       "  </thead>\n",
       "  <tbody>\n",
       "    <tr>\n",
       "      <th>UAA</th>\n",
       "      <td>0.28</td>\n",
       "      <td>0.52</td>\n",
       "    </tr>\n",
       "    <tr>\n",
       "      <th>UAG</th>\n",
       "      <td>0.20</td>\n",
       "      <td>0.52</td>\n",
       "    </tr>\n",
       "    <tr>\n",
       "      <th>UGA</th>\n",
       "      <td>0.52</td>\n",
       "      <td>0.52</td>\n",
       "    </tr>\n",
       "    <tr>\n",
       "      <th>GCU</th>\n",
       "      <td>0.26</td>\n",
       "      <td>0.40</td>\n",
       "    </tr>\n",
       "    <tr>\n",
       "      <th>GCC</th>\n",
       "      <td>0.40</td>\n",
       "      <td>0.40</td>\n",
       "    </tr>\n",
       "    <tr>\n",
       "      <th>...</th>\n",
       "      <td>...</td>\n",
       "      <td>...</td>\n",
       "    </tr>\n",
       "    <tr>\n",
       "      <th>GUA</th>\n",
       "      <td>0.11</td>\n",
       "      <td>0.47</td>\n",
       "    </tr>\n",
       "    <tr>\n",
       "      <th>GUG</th>\n",
       "      <td>0.47</td>\n",
       "      <td>0.47</td>\n",
       "    </tr>\n",
       "    <tr>\n",
       "      <th>UGG</th>\n",
       "      <td>1.00</td>\n",
       "      <td>1.00</td>\n",
       "    </tr>\n",
       "    <tr>\n",
       "      <th>UAU</th>\n",
       "      <td>0.43</td>\n",
       "      <td>0.57</td>\n",
       "    </tr>\n",
       "    <tr>\n",
       "      <th>UAC</th>\n",
       "      <td>0.57</td>\n",
       "      <td>0.57</td>\n",
       "    </tr>\n",
       "  </tbody>\n",
       "</table>\n",
       "<p>64 rows × 2 columns</p>\n",
       "</div>"
      ],
      "text/plain": [
       "        X  c_max\n",
       "#               \n",
       "UAA  0.28   0.52\n",
       "UAG  0.20   0.52\n",
       "UGA  0.52   0.52\n",
       "GCU  0.26   0.40\n",
       "GCC  0.40   0.40\n",
       "..    ...    ...\n",
       "GUA  0.11   0.47\n",
       "GUG  0.47   0.47\n",
       "UGG  1.00   1.00\n",
       "UAU  0.43   0.57\n",
       "UAC  0.57   0.57\n",
       "\n",
       "[64 rows x 2 columns]"
      ]
     },
     "execution_count": 45,
     "metadata": {},
     "output_type": "execute_result"
    }
   ],
   "source": [
    "def get_c_max(group):\n",
    "    group['c_max'] = group['X'].max()\n",
    "    group.drop('AA', axis=1, inplace=True)\n",
    "    return group\n",
    "\n",
    "codon_tab = pd.read_csv(CODON_USAGE_TABLE)\n",
    "codon_tab['AA'] = codon_tab[\"Unnamed: 1\"]\n",
    "codon_tab[\"X\"] = codon_tab[\"Unnamed: 2\"]\n",
    "codon_tab.drop([\"Unnamed: 1\",\"Unnamed: 2\"], axis=1, inplace=True)\n",
    "codon_tab = codon_tab.groupby('AA').apply(get_c_max).reset_index(drop=True).set_index(\"#\")\n",
    "codon_tab"
   ]
  },
  {
   "cell_type": "code",
   "execution_count": 46,
   "metadata": {},
   "outputs": [
    {
     "data": {
      "text/plain": [
       "X        0.28\n",
       "c_max    0.52\n",
       "Name: UAA, dtype: float64"
      ]
     },
     "execution_count": 46,
     "metadata": {},
     "output_type": "execute_result"
    }
   ],
   "source": [
    "codon_tab.loc['UAA']"
   ]
  },
  {
   "cell_type": "code",
   "execution_count": 55,
   "metadata": {},
   "outputs": [
    {
     "data": {
      "text/plain": [
       "0.7583767086329513"
      ]
     },
     "execution_count": 55,
     "metadata": {},
     "output_type": "execute_result"
    }
   ],
   "source": [
    "from math import log2\n",
    "\n",
    "cai = 0.0\n",
    "for i in range(0, len(EXAMPLE_SEQ), 3):\n",
    "    codon = EXAMPLE_SEQ[i : i + 3]\n",
    "    w_i = codon_tab.loc[codon, \"X\"] / codon_tab.loc[codon, \"c_max\"]\n",
    "    cai += log2(w_i)\n",
    "\n",
    "answer = 2 ** (cai / (len(EXAMPLE_SEQ)  / 3 -1 ))\n",
    "answer"
   ]
  },
  {
   "cell_type": "code",
   "execution_count": 56,
   "metadata": {},
   "outputs": [],
   "source": [
    "codon_tab.to_csv('CAI_table.csv')"
   ]
  }
 ],
 "metadata": {
  "kernelspec": {
   "display_name": "Python 3",
   "language": "python",
   "name": "python3"
  },
  "language_info": {
   "codemirror_mode": {
    "name": "ipython",
    "version": 3
   },
   "file_extension": ".py",
   "mimetype": "text/x-python",
   "name": "python",
   "nbconvert_exporter": "python",
   "pygments_lexer": "ipython3",
   "version": "3.9.16"
  },
  "orig_nbformat": 4
 },
 "nbformat": 4,
 "nbformat_minor": 2
}
